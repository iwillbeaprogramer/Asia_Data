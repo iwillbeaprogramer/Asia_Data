{
 "cells": [
  {
   "cell_type": "code",
   "execution_count": 4,
   "metadata": {},
   "outputs": [
    {
     "name": "stdout",
     "output_type": "stream",
     "text": [
      "Model: \"sequential_2\"\n",
      "_________________________________________________________________\n",
      "Layer (type)                 Output Shape              Param #   \n",
      "=================================================================\n",
      "embedding_2 (Embedding)      (None, None, 100)         500000    \n",
      "_________________________________________________________________\n",
      "dropout_2 (Dropout)          (None, None, 100)         0         \n",
      "_________________________________________________________________\n",
      "conv1d_2 (Conv1D)            (None, None, 64)          32064     \n",
      "_________________________________________________________________\n",
      "max_pooling1d_2 (MaxPooling1 (None, None, 64)          0         \n",
      "_________________________________________________________________\n",
      "lstm_2 (LSTM)                (None, 55)                26400     \n",
      "_________________________________________________________________\n",
      "dense_2 (Dense)              (None, 1)                 56        \n",
      "_________________________________________________________________\n",
      "activation_2 (Activation)    (None, 1)                 0         \n",
      "=================================================================\n",
      "Total params: 558,520\n",
      "Trainable params: 558,520\n",
      "Non-trainable params: 0\n",
      "_________________________________________________________________\n"
     ]
    },
    {
     "name": "stderr",
     "output_type": "stream",
     "text": [
      "C:\\ProgramData\\Anaconda3\\envs\\tf_V2\\lib\\site-packages\\tensorflow_core\\python\\framework\\indexed_slices.py:433: UserWarning: Converting sparse IndexedSlices to a dense Tensor of unknown shape. This may consume a large amount of memory.\n",
      "  \"Converting sparse IndexedSlices to a dense Tensor of unknown shape. \"\n"
     ]
    },
    {
     "name": "stdout",
     "output_type": "stream",
     "text": [
      "Train on 25000 samples, validate on 25000 samples\n",
      "Epoch 1/20\n",
      "25000/25000 [==============================] - 34s 1ms/step - loss: 0.4776 - accuracy: 0.7510 - val_loss: 0.3408 - val_accuracy: 0.8467\n",
      "Epoch 2/20\n",
      "25000/25000 [==============================] - 37s 1ms/step - loss: 0.2992 - accuracy: 0.8740 - val_loss: 0.3256 - val_accuracy: 0.8561\n",
      "Epoch 3/20\n",
      "25000/25000 [==============================] - 37s 1ms/step - loss: 0.2524 - accuracy: 0.8982 - val_loss: 0.3297 - val_accuracy: 0.8558\n",
      "Epoch 4/20\n",
      "25000/25000 [==============================] - 34s 1ms/step - loss: 0.2201 - accuracy: 0.9141 - val_loss: 0.3393 - val_accuracy: 0.8560\n",
      "Epoch 5/20\n",
      "25000/25000 [==============================] - 34s 1ms/step - loss: 0.1842 - accuracy: 0.9299 - val_loss: 0.3406 - val_accuracy: 0.8534\n",
      "Epoch 6/20\n",
      "25000/25000 [==============================] - 34s 1ms/step - loss: 0.1536 - accuracy: 0.9436 - val_loss: 0.3912 - val_accuracy: 0.8479\n",
      "Epoch 7/20\n",
      "25000/25000 [==============================] - 34s 1ms/step - loss: 0.1216 - accuracy: 0.9564 - val_loss: 0.4237 - val_accuracy: 0.8488\n",
      "Epoch 8/20\n",
      "25000/25000 [==============================] - 34s 1ms/step - loss: 0.1044 - accuracy: 0.9630 - val_loss: 0.4568 - val_accuracy: 0.8463\n",
      "Epoch 9/20\n",
      "25000/25000 [==============================] - 38s 2ms/step - loss: 0.0864 - accuracy: 0.9704 - val_loss: 0.4798 - val_accuracy: 0.8433\n",
      "Epoch 10/20\n",
      "25000/25000 [==============================] - 39s 2ms/step - loss: 0.0747 - accuracy: 0.9731 - val_loss: 0.5150 - val_accuracy: 0.8355\n",
      "Epoch 11/20\n",
      "25000/25000 [==============================] - 39s 2ms/step - loss: 0.0641 - accuracy: 0.9770 - val_loss: 0.5566 - val_accuracy: 0.8418\n",
      "Epoch 12/20\n",
      "25000/25000 [==============================] - 36s 1ms/step - loss: 0.0544 - accuracy: 0.9812 - val_loss: 0.5877 - val_accuracy: 0.8406\n",
      "Epoch 13/20\n",
      "25000/25000 [==============================] - 34s 1ms/step - loss: 0.0482 - accuracy: 0.9828 - val_loss: 0.6244 - val_accuracy: 0.8376\n",
      "Epoch 14/20\n",
      "25000/25000 [==============================] - 34s 1ms/step - loss: 0.0446 - accuracy: 0.9837 - val_loss: 0.6097 - val_accuracy: 0.8402\n",
      "Epoch 15/20\n",
      "25000/25000 [==============================] - 36s 1ms/step - loss: 0.0405 - accuracy: 0.9851 - val_loss: 0.5959 - val_accuracy: 0.8409\n",
      "Epoch 16/20\n",
      "25000/25000 [==============================] - 39s 2ms/step - loss: 0.0357 - accuracy: 0.9875 - val_loss: 0.6769 - val_accuracy: 0.8430\n",
      "Epoch 17/20\n",
      "25000/25000 [==============================] - 35s 1ms/step - loss: 0.0349 - accuracy: 0.9879 - val_loss: 0.6829 - val_accuracy: 0.8405\n",
      "Epoch 18/20\n",
      "25000/25000 [==============================] - 34s 1ms/step - loss: 0.0306 - accuracy: 0.9890 - val_loss: 0.6279 - val_accuracy: 0.8398\n",
      "Epoch 19/20\n",
      "25000/25000 [==============================] - 38s 2ms/step - loss: 0.0325 - accuracy: 0.9883 - val_loss: 0.7069 - val_accuracy: 0.8395\n",
      "Epoch 20/20\n",
      "25000/25000 [==============================] - 35s 1ms/step - loss: 0.0252 - accuracy: 0.9917 - val_loss: 0.7265 - val_accuracy: 0.8396\n"
     ]
    },
    {
     "data": {
      "image/png": "[encoded data removed]",
      "text/plain": [
       "<Figure size 432x288 with 1 Axes>"
      ]
     },
     "metadata": {
      "needs_background": "light"
     },
     "output_type": "display_data"
    }
   ],
   "source": [
    "from keras.datasets import imdb\n",
    "from keras.layers import Dense,Embedding,Dropout,LSTM,Conv1D,MaxPooling1D,Activation\n",
    "from keras.models import Sequential\n",
    "from keras.preprocessing.sequence import pad_sequences\n",
    "\n",
    "import numpy as np\n",
    "import matplotlib.pyplot as plt\n",
    "\n",
    "(x_train,y_train),(x_test,y_test) = imdb.load_data(num_words=5000)\n",
    "x_train = pad_sequences(x_train,100)\n",
    "x_test = pad_sequences(x_test,100)\n",
    "\n",
    "model=Sequential()\n",
    "model.add(Embedding(5000,100))\n",
    "model.add(Dropout(0.5))\n",
    "model.add(Conv1D(64,5,padding='valid',activation = 'relu',strides = 1))\n",
    "model.add(MaxPooling1D(pool_size=4))\n",
    "model.add(LSTM(55))\n",
    "model.add(Dense(1))\n",
    "model.add(Activation('sigmoid'))\n",
    "model.summary()\n",
    "\n",
    "model.compile(loss = 'binary_crossentropy',optimizer = 'adam',metrics = ['accuracy'])\n",
    "history = model.fit(x_train,y_train,epochs = 20, verbose = 1, batch_size = 128, validation_data = (x_test,y_test))\n",
    "\n",
    "y_valloss = history.history['val_loss']\n",
    "y_loss = history.history['loss']\n",
    "x_len = np.arange(len(y_loss))\n",
    "\n",
    "plt.plot(x_len,y_valloss,'-',c='red',label = 'Testset_loss')\n",
    "plt.plot(x_len,y_loss,'-',c='blue',label = 'Trainset_loss')\n",
    "plt.grid()\n",
    "plt.legend(loc='upper right')\n",
    "plt.xlabel('epoch')\n",
    "plt.ylabel('loss')\n",
    "plt.show()\n"
   ]
  }
 ],
 "metadata": {
  "kernelspec": {
   "display_name": "Python 3",
   "language": "python",
   "name": "python3"
  },
  "language_info": {
   "codemirror_mode": {
    "name": "ipython",
    "version": 3
   },
   "file_extension": ".py",
   "mimetype": "text/x-python",
   "name": "python",
   "nbconvert_exporter": "python",
   "pygments_lexer": "ipython3",
   "version": "3.7.7"
  }
 },
 "nbformat": 4,
 "nbformat_minor": 4
}
