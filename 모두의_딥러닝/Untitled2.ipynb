{
 "cells": [
  {
   "cell_type": "code",
   "execution_count": 34,
   "metadata": {},
   "outputs": [],
   "source": [
    "import os\n",
    "from tensorflow.keras.models import Sequential\n",
    "from tensorflow.keras.layers import Dense\n",
    "from keras.utils import np_utils\n",
    "from sklearn.preprocessing import LabelEncoder\n",
    "from sklearn.model_selection import train_test_split\n",
    "from sklearn.model_selection import StratifiedKFold\n",
    "from tensorflow.keras.callbacks import ModelCheckpoint\n",
    "\n",
    "import pandas as pd\n",
    "import seaborn as sns\n",
    "import matplotlib.pyplot as plt\n",
    "import numpy as np\n",
    "import tensorflow as tf"
   ]
  },
  {
   "cell_type": "code",
   "execution_count": 35,
   "metadata": {},
   "outputs": [],
   "source": [
    "from keras.datasets import mnist"
   ]
  },
  {
   "cell_type": "code",
   "execution_count": 36,
   "metadata": {},
   "outputs": [],
   "source": [
    "(x_train,y_class_train),(x_test,y_class_test) = mnist.load_data()"
   ]
  },
  {
   "cell_type": "code",
   "execution_count": 37,
   "metadata": {},
   "outputs": [
    {
     "data": {
      "image/png": "[encoded data removed]",
      "text/plain": [
       "<Figure size 432x288 with 1 Axes>"
      ]
     },
     "metadata": {
      "needs_background": "light"
     },
     "output_type": "display_data"
    }
   ],
   "source": [
    "plt.imshow(x_train[0],cmap='Greys')\n",
    "plt.show()"
   ]
  },
  {
   "cell_type": "code",
   "execution_count": null,
   "metadata": {},
   "outputs": [],
   "source": []
  },
  {
   "cell_type": "code",
   "execution_count": null,
   "metadata": {},
   "outputs": [],
   "source": []
  },
  {
   "cell_type": "code",
   "execution_count": null,
   "metadata": {},
   "outputs": [],
   "source": []
  },
  {
   "cell_type": "code",
   "execution_count": null,
   "metadata": {},
   "outputs": [],
   "source": []
  },
  {
   "cell_type": "code",
   "execution_count": null,
   "metadata": {},
   "outputs": [],
   "source": []
  },
  {
   "cell_type": "code",
   "execution_count": 38,
   "metadata": {},
   "outputs": [
    {
     "name": "stdout",
     "output_type": "stream",
     "text": [
      "\n",
      "Epoch 00001: val_loss improved from inf to 0.14731, saving model to ./model_cnn/01-0.1473.hdf5\n",
      "\n",
      "Epoch 00002: val_loss improved from 0.14731 to 0.09203, saving model to ./model_cnn/02-0.0920.hdf5\n",
      "\n",
      "Epoch 00003: val_loss improved from 0.09203 to 0.07485, saving model to ./model_cnn/03-0.0749.hdf5\n",
      "\n",
      "Epoch 00004: val_loss improved from 0.07485 to 0.06675, saving model to ./model_cnn/04-0.0667.hdf5\n",
      "\n",
      "Epoch 00005: val_loss improved from 0.06675 to 0.05977, saving model to ./model_cnn/05-0.0598.hdf5\n",
      "\n",
      "Epoch 00006: val_loss improved from 0.05977 to 0.05898, saving model to ./model_cnn/06-0.0590.hdf5\n",
      "\n",
      "Epoch 00007: val_loss did not improve from 0.05898\n",
      "\n",
      "Epoch 00008: val_loss improved from 0.05898 to 0.05656, saving model to ./model_cnn/08-0.0566.hdf5\n",
      "\n",
      "Epoch 00009: val_loss improved from 0.05656 to 0.05439, saving model to ./model_cnn/09-0.0544.hdf5\n",
      "\n",
      "Epoch 00010: val_loss did not improve from 0.05439\n",
      "\n",
      "Epoch 00011: val_loss did not improve from 0.05439\n",
      "\n",
      "Epoch 00012: val_loss did not improve from 0.05439\n",
      "\n",
      "Epoch 00013: val_loss did not improve from 0.05439\n",
      "\n",
      "Epoch 00014: val_loss did not improve from 0.05439\n",
      "\n",
      "Epoch 00015: val_loss did not improve from 0.05439\n",
      "\n",
      "Epoch 00016: val_loss did not improve from 0.05439\n",
      "\n",
      "Epoch 00017: val_loss did not improve from 0.05439\n",
      "\n",
      "Epoch 00018: val_loss did not improve from 0.05439\n",
      "\n",
      "Epoch 00019: val_loss did not improve from 0.05439\n",
      "10000/10000 [==============================] - 1s 138us/sample - loss: 0.0657 - accuracy: 0.9839\n",
      "\n",
      " Test Accuracy : 0.9839\n"
     ]
    }
   ],
   "source": [
    "x_train = x_train.reshape(x_train.shape[0],784).astype('float32')/255\n",
    "x_test = x_test.reshape(x_test.shape[0],784).astype('float32')/255\n",
    "from keras.utils import np_utils\n",
    "y_train = np_utils.to_categorical(y_class_train,10)\n",
    "y_test = np_utils.to_categorical(y_class_test,10)\n",
    "\n",
    "\n",
    "\n",
    "from keras.callbacks import ModelCheckpoint,EarlyStopping\n",
    "import os\n",
    "MODEL_DIR='./model_cnn/'\n",
    "\n",
    "if not os.path.exists(MODEL_DIR):\n",
    "    os.mkdir(MODEL_DIR)\n",
    "\n",
    "modelpath='./model_cnn/{epoch:02d}-{val_loss:.4f}.hdf5'\n",
    "checkpointer = ModelCheckpoint(filepath = modelpath, monitor='val_loss',verbose=1,save_best_only=True)\n",
    "earlystopping = EarlyStopping(monitor='val_loss',patience=10)\n",
    "\n",
    "\n",
    "model = Sequential()\n",
    "model.add(Dense(1024,input_dim=784,activation='relu'))\n",
    "model.add(Dense(10,activation='softmax'))\n",
    "model.compile(loss='categorical_crossentropy',optimizer='adam',metrics=['accuracy'])\n",
    "history=model.fit(x_train,y_train,validation_data=(x_test,y_test),epochs=30,batch_size=200,verbose=0,callbacks=[checkpointer,earlystopping])\n",
    "\n",
    "print(\"\\n Test Accuracy : %.4f\"%(model.evaluate(x_test,y_test)[1]))"
   ]
  },
  {
   "cell_type": "code",
   "execution_count": 46,
   "metadata": {},
   "outputs": [],
   "source": [
    "\n",
    "import cv2\n",
    "img1=cv2.imread('2.jpg')\n",
    "img2=cv2.imread('8.jpg')\n",
    "img1_ = cv2.cvtColor(img1,cv2.COLOR_BGR2GRAY)\n",
    "img2_ = cv2.cvtColor(img2,cv2.COLOR_BGR2GRAY)\n",
    "img1_ready = img1_.reshape(1,784).astype('float64')/255\n",
    "img2_ready = img2_.reshape(1,784).astype('float64')/255\n",
    "img_list=[img1_ready,img2_ready]"
   ]
  },
  {
   "cell_type": "code",
   "execution_count": 48,
   "metadata": {},
   "outputs": [
    {
     "data": {
      "text/plain": [
       "array([[3.6504860e-20, 1.5061537e-23, 8.3333633e-13, 3.1192712e-07,\n",
       "        0.0000000e+00, 9.9994099e-01, 4.0158076e-14, 5.8633777e-05,\n",
       "        1.3529964e-13, 1.3081353e-22]], dtype=float32)"
      ]
     },
     "execution_count": 48,
     "metadata": {},
     "output_type": "execute_result"
    }
   ],
   "source": [
    "predictions = model.predict(img1_ready)\n",
    "predictions"
   ]
  },
  {
   "cell_type": "code",
   "execution_count": 49,
   "metadata": {},
   "outputs": [
    {
     "data": {
      "text/plain": [
       "array([[1.4898225e-19, 1.3288243e-22, 2.0484147e-11, 3.6890867e-06,\n",
       "        0.0000000e+00, 9.9958450e-01, 1.2131172e-12, 4.1178140e-04,\n",
       "        6.5863645e-13, 8.6236719e-22]], dtype=float32)"
      ]
     },
     "execution_count": 49,
     "metadata": {},
     "output_type": "execute_result"
    }
   ],
   "source": [
    "predictions2=model.predict(img2_ready)\n",
    "predictions2"
   ]
  }
 ],
 "metadata": {
  "kernelspec": {
   "display_name": "Python 3",
   "language": "python",
   "name": "python3"
  },
  "language_info": {
   "codemirror_mode": {
    "name": "ipython",
    "version": 3
   },
   "file_extension": ".py",
   "mimetype": "text/x-python",
   "name": "python",
   "nbconvert_exporter": "python",
   "pygments_lexer": "ipython3",
   "version": "3.7.7"
  }
 },
 "nbformat": 4,
 "nbformat_minor": 4
}
