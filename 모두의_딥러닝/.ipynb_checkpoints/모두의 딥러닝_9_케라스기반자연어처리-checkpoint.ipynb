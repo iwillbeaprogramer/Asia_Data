{
 "cells": [
  {
   "cell_type": "code",
   "execution_count": 2,
   "metadata": {},
   "outputs": [
    {
     "name": "stdout",
     "output_type": "stream",
     "text": [
      "OrderedDict([('먼저', 1), ('텍스트의', 2), ('각', 1), ('단어를', 1), ('나누어', 1), ('토큰화합니다', 1), ('단어로', 1), ('토큰화해야', 1), ('딥러닝에서', 2), ('인식됩니다', 1), ('토큰화한', 1), ('결과는', 1), ('사용할', 1), ('수', 1), ('있습니다', 1)])\n"
     ]
    }
   ],
   "source": [
    "text = '해보지 않으면 해낼 수 없다.'\n",
    "from keras.preprocessing.text import text_to_word_sequence\n",
    "from keras.preprocessing.text import Tokenizer\n",
    "\n",
    "result = text_to_word_sequence(text)\n",
    "result\n",
    "docs = ['먼저 텍스트의 각 단어를 나누어 토큰화합니다.',\n",
    "       '텍스트의 단어로 토큰화해야 딥러닝에서 인식됩니다.',\n",
    "       '토큰화한 결과는 딥러닝에서 사용할 수 있습니다.']\n",
    "\n",
    "tokenizer = Tokenizer()\n",
    "tokenizer.fit_on_texts(docs)\n",
    "print(tokenizer.word_counts)"
   ]
  },
  {
   "cell_type": "markdown",
   "metadata": {},
   "source": [
    "# tokenizer함수\n",
    "  ###\n",
    "    text_to_word_sequence(text) : 단어단위로\n",
    "  ### Tokenizer 함수\n",
    "    0.fit_on_texts(list) : 문장에 토큰화 함수 적용\n",
    "    \n",
    "    1.word_counts : 단어의 빈도수\n",
    "\n",
    "    2.document_count : 문서수\n",
    "\n",
    "    3.word_docs : 단어들이 몇개의 문서에 나오느냐\n",
    "\n",
    "    4.word_index : 단어의 고유 인덱스   -->딕셔너리\n",
    "    \n",
    "    5.texts_to_sequences(list)\n",
    "  ### OneHot Encoding\n",
    "    fit_on_texts   -->    texts_to_sequences"
   ]
  },
  {
   "cell_type": "code",
   "execution_count": 3,
   "metadata": {},
   "outputs": [
    {
     "data": {
      "text/plain": [
       "OrderedDict([('먼저', 1),\n",
       "             ('텍스트의', 2),\n",
       "             ('각', 1),\n",
       "             ('단어를', 1),\n",
       "             ('나누어', 1),\n",
       "             ('토큰화합니다', 1),\n",
       "             ('단어로', 1),\n",
       "             ('토큰화해야', 1),\n",
       "             ('딥러닝에서', 2),\n",
       "             ('인식됩니다', 1),\n",
       "             ('토큰화한', 1),\n",
       "             ('결과는', 1),\n",
       "             ('사용할', 1),\n",
       "             ('수', 1),\n",
       "             ('있습니다', 1)])"
      ]
     },
     "execution_count": 3,
     "metadata": {},
     "output_type": "execute_result"
    }
   ],
   "source": [
    "tokenizer.word_counts"
   ]
  },
  {
   "cell_type": "code",
   "execution_count": 4,
   "metadata": {},
   "outputs": [
    {
     "data": {
      "text/plain": [
       "3"
      ]
     },
     "execution_count": 4,
     "metadata": {},
     "output_type": "execute_result"
    }
   ],
   "source": [
    "tokenizer.document_count"
   ]
  },
  {
   "cell_type": "code",
   "execution_count": 5,
   "metadata": {
    "scrolled": true
   },
   "outputs": [
    {
     "data": {
      "text/plain": [
       "defaultdict(int,\n",
       "            {'토큰화합니다': 1,\n",
       "             '먼저': 1,\n",
       "             '나누어': 1,\n",
       "             '각': 1,\n",
       "             '단어를': 1,\n",
       "             '텍스트의': 2,\n",
       "             '딥러닝에서': 2,\n",
       "             '단어로': 1,\n",
       "             '인식됩니다': 1,\n",
       "             '토큰화해야': 1,\n",
       "             '결과는': 1,\n",
       "             '있습니다': 1,\n",
       "             '토큰화한': 1,\n",
       "             '수': 1,\n",
       "             '사용할': 1})"
      ]
     },
     "execution_count": 5,
     "metadata": {},
     "output_type": "execute_result"
    }
   ],
   "source": [
    "tokenizer.word_docs"
   ]
  },
  {
   "cell_type": "code",
   "execution_count": 6,
   "metadata": {
    "scrolled": true
   },
   "outputs": [
    {
     "data": {
      "text/plain": [
       "{'텍스트의': 1,\n",
       " '딥러닝에서': 2,\n",
       " '먼저': 3,\n",
       " '각': 4,\n",
       " '단어를': 5,\n",
       " '나누어': 6,\n",
       " '토큰화합니다': 7,\n",
       " '단어로': 8,\n",
       " '토큰화해야': 9,\n",
       " '인식됩니다': 10,\n",
       " '토큰화한': 11,\n",
       " '결과는': 12,\n",
       " '사용할': 13,\n",
       " '수': 14,\n",
       " '있습니다': 15}"
      ]
     },
     "execution_count": 6,
     "metadata": {},
     "output_type": "execute_result"
    }
   ],
   "source": [
    "tokenizer.word_index"
   ]
  },
  {
   "cell_type": "code",
   "execution_count": 12,
   "metadata": {},
   "outputs": [
    {
     "name": "stdout",
     "output_type": "stream",
     "text": [
      "{'오랫동안': 1, '꿈꾸는': 2, '이는': 3, '그': 4, '꿈을': 5, '닮아간다': 6}\n",
      "[[1, 2, 3, 4, 5, 6]]\n",
      "[[[0. 1. 0. 0. 0. 0. 0.]\n",
      "  [0. 0. 1. 0. 0. 0. 0.]\n",
      "  [0. 0. 0. 1. 0. 0. 0.]\n",
      "  [0. 0. 0. 0. 1. 0. 0.]\n",
      "  [0. 0. 0. 0. 0. 1. 0.]\n",
      "  [0. 0. 0. 0. 0. 0. 1.]]]\n"
     ]
    }
   ],
   "source": [
    "from keras.preprocessing.text import Tokenizer\n",
    "text = '오랫동안 꿈꾸는 이는 그 꿈을 닮아간다.'\n",
    "tokenizer = Tokenizer()\n",
    "tokenizer.fit_on_texts([text])\n",
    "print(tokenizer.word_index)\n",
    "\n",
    "x = tokenizer.texts_to_sequences([text])\n",
    "print(x)\n",
    "\n",
    "from keras.utils import to_categorical\n",
    "word_size = len(tokenizer.word_index)+1\n",
    "x=to_categorical(x,num_classes=word_size)\n",
    "\n",
    "print(x)"
   ]
  },
  {
   "cell_type": "code",
   "execution_count": 8,
   "metadata": {},
   "outputs": [
    {
     "name": "stdout",
     "output_type": "stream",
     "text": [
      "[[1, 2, 3, 4, 5, 6]]\n"
     ]
    }
   ],
   "source": [
    "x = tokenizer.texts_to_sequences([text])\n",
    "print(x)"
   ]
  },
  {
   "cell_type": "code",
   "execution_count": 10,
   "metadata": {},
   "outputs": [
    {
     "name": "stdout",
     "output_type": "stream",
     "text": [
      "[[[[1. 0. 0. 0. 0. 0. 0.]\n",
      "   [0. 1. 0. 0. 0. 0. 0.]\n",
      "   [1. 0. 0. 0. 0. 0. 0.]\n",
      "   [1. 0. 0. 0. 0. 0. 0.]\n",
      "   [1. 0. 0. 0. 0. 0. 0.]\n",
      "   [1. 0. 0. 0. 0. 0. 0.]\n",
      "   [1. 0. 0. 0. 0. 0. 0.]]\n",
      "\n",
      "  [[1. 0. 0. 0. 0. 0. 0.]\n",
      "   [1. 0. 0. 0. 0. 0. 0.]\n",
      "   [0. 1. 0. 0. 0. 0. 0.]\n",
      "   [1. 0. 0. 0. 0. 0. 0.]\n",
      "   [1. 0. 0. 0. 0. 0. 0.]\n",
      "   [1. 0. 0. 0. 0. 0. 0.]\n",
      "   [1. 0. 0. 0. 0. 0. 0.]]\n",
      "\n",
      "  [[1. 0. 0. 0. 0. 0. 0.]\n",
      "   [1. 0. 0. 0. 0. 0. 0.]\n",
      "   [1. 0. 0. 0. 0. 0. 0.]\n",
      "   [0. 1. 0. 0. 0. 0. 0.]\n",
      "   [1. 0. 0. 0. 0. 0. 0.]\n",
      "   [1. 0. 0. 0. 0. 0. 0.]\n",
      "   [1. 0. 0. 0. 0. 0. 0.]]\n",
      "\n",
      "  [[1. 0. 0. 0. 0. 0. 0.]\n",
      "   [1. 0. 0. 0. 0. 0. 0.]\n",
      "   [1. 0. 0. 0. 0. 0. 0.]\n",
      "   [1. 0. 0. 0. 0. 0. 0.]\n",
      "   [0. 1. 0. 0. 0. 0. 0.]\n",
      "   [1. 0. 0. 0. 0. 0. 0.]\n",
      "   [1. 0. 0. 0. 0. 0. 0.]]\n",
      "\n",
      "  [[1. 0. 0. 0. 0. 0. 0.]\n",
      "   [1. 0. 0. 0. 0. 0. 0.]\n",
      "   [1. 0. 0. 0. 0. 0. 0.]\n",
      "   [1. 0. 0. 0. 0. 0. 0.]\n",
      "   [1. 0. 0. 0. 0. 0. 0.]\n",
      "   [0. 1. 0. 0. 0. 0. 0.]\n",
      "   [1. 0. 0. 0. 0. 0. 0.]]\n",
      "\n",
      "  [[1. 0. 0. 0. 0. 0. 0.]\n",
      "   [1. 0. 0. 0. 0. 0. 0.]\n",
      "   [1. 0. 0. 0. 0. 0. 0.]\n",
      "   [1. 0. 0. 0. 0. 0. 0.]\n",
      "   [1. 0. 0. 0. 0. 0. 0.]\n",
      "   [1. 0. 0. 0. 0. 0. 0.]\n",
      "   [0. 1. 0. 0. 0. 0. 0.]]]]\n"
     ]
    }
   ],
   "source": [
    "from keras.utils import to_categorical\n",
    "word_size = len(tokenizer.word_index)+1\n",
    "x=to_categorical(x,num_classes=word_size)\n",
    "\n",
    "print(x)"
   ]
  },
  {
   "cell_type": "code",
   "execution_count": null,
   "metadata": {},
   "outputs": [],
   "source": []
  },
  {
   "cell_type": "code",
   "execution_count": null,
   "metadata": {},
   "outputs": [],
   "source": []
  }
 ],
 "metadata": {
  "kernelspec": {
   "display_name": "Python 3",
   "language": "python",
   "name": "python3"
  },
  "language_info": {
   "codemirror_mode": {
    "name": "ipython",
    "version": 3
   },
   "file_extension": ".py",
   "mimetype": "text/x-python",
   "name": "python",
   "nbconvert_exporter": "python",
   "pygments_lexer": "ipython3",
   "version": "3.7.7"
  }
 },
 "nbformat": 4,
 "nbformat_minor": 4
}
