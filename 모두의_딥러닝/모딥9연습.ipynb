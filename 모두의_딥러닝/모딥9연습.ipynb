{
 "cells": [
  {
   "cell_type": "code",
   "execution_count": 33,
   "metadata": {},
   "outputs": [
    {
     "name": "stdout",
     "output_type": "stream",
     "text": [
      "{'너무': 1, '재미있네요': 2, '최고예요': 3, '참': 4, '잘': 5, '만든': 6, '영화예요': 7, '추천하고': 8, '싶은': 9, '영화입니다': 10, '한번': 11, '더': 12, '보고싶네요': 13, '글쎄요': 14, '별로예요': 15, '생각보다': 16, '지루하네요': 17, '연기가': 18, '어색해요': 19, '재미없어요': 20}\n",
      "\n",
      "패딩결과\n",
      " [[ 0  0  1  2]\n",
      " [ 0  0  0  3]\n",
      " [ 4  5  6  7]\n",
      " [ 0  8  9 10]\n",
      " [ 0 11 12 13]\n",
      " [ 0  0  0 14]\n",
      " [ 0  0  0 15]\n",
      " [ 0  0 16 17]\n",
      " [ 0  0 18 19]\n",
      " [ 0  0  0 20]]\n"
     ]
    },
    {
     "name": "stderr",
     "output_type": "stream",
     "text": [
      "C:\\ProgramData\\Anaconda3\\envs\\tf_V2\\lib\\site-packages\\tensorflow_core\\python\\framework\\indexed_slices.py:433: UserWarning: Converting sparse IndexedSlices to a dense Tensor of unknown shape. This may consume a large amount of memory.\n",
      "  \"Converting sparse IndexedSlices to a dense Tensor of unknown shape. \"\n"
     ]
    },
    {
     "name": "stdout",
     "output_type": "stream",
     "text": [
      "Epoch 1/20\n",
      "10/10 [==============================] - 0s 14ms/step - loss: 0.6953 - accuracy: 0.5000\n",
      "Epoch 2/20\n",
      "10/10 [==============================] - 0s 200us/step - loss: 0.6934 - accuracy: 0.5000\n",
      "Epoch 3/20\n",
      "10/10 [==============================] - 0s 320us/step - loss: 0.6914 - accuracy: 0.6000\n",
      "Epoch 4/20\n",
      "10/10 [==============================] - 0s 290us/step - loss: 0.6894 - accuracy: 0.6000\n",
      "Epoch 5/20\n",
      "10/10 [==============================] - 0s 196us/step - loss: 0.6874 - accuracy: 0.6000\n",
      "Epoch 6/20\n",
      "10/10 [==============================] - 0s 299us/step - loss: 0.6854 - accuracy: 0.6000\n",
      "Epoch 7/20\n",
      "10/10 [==============================] - 0s 221us/step - loss: 0.6835 - accuracy: 0.6000\n",
      "Epoch 8/20\n",
      "10/10 [==============================] - 0s 215us/step - loss: 0.6816 - accuracy: 0.7000\n",
      "Epoch 9/20\n",
      "10/10 [==============================] - 0s 200us/step - loss: 0.6796 - accuracy: 0.7000\n",
      "Epoch 10/20\n",
      "10/10 [==============================] - 0s 184us/step - loss: 0.6776 - accuracy: 0.8000\n",
      "Epoch 11/20\n",
      "10/10 [==============================] - 0s 200us/step - loss: 0.6757 - accuracy: 0.8000\n",
      "Epoch 12/20\n",
      "10/10 [==============================] - 0s 199us/step - loss: 0.6737 - accuracy: 0.8000\n",
      "Epoch 13/20\n",
      "10/10 [==============================] - 0s 199us/step - loss: 0.6717 - accuracy: 0.8000\n",
      "Epoch 14/20\n",
      "10/10 [==============================] - 0s 199us/step - loss: 0.6698 - accuracy: 0.9000\n",
      "Epoch 15/20\n",
      "10/10 [==============================] - 0s 299us/step - loss: 0.6678 - accuracy: 0.9000\n",
      "Epoch 16/20\n",
      "10/10 [==============================] - 0s 143us/step - loss: 0.6658 - accuracy: 0.9000\n",
      "Epoch 17/20\n",
      "10/10 [==============================] - 0s 196us/step - loss: 0.6638 - accuracy: 0.9000\n",
      "Epoch 18/20\n",
      "10/10 [==============================] - 0s 232us/step - loss: 0.6618 - accuracy: 0.9000\n",
      "Epoch 19/20\n",
      "10/10 [==============================] - 0s 439us/step - loss: 0.6598 - accuracy: 1.0000\n",
      "Epoch 20/20\n",
      "10/10 [==============================] - 0s 197us/step - loss: 0.6577 - accuracy: 1.0000\n",
      "10/10 [==============================] - 0s 3ms/step\n",
      "\n",
      " Accuracy: 1.0000\n"
     ]
    }
   ],
   "source": [
    "import numpy as np\n",
    "import tensorflow as tf\n",
    "from numpy import array\n",
    "from keras.preprocessing.text import Tokenizer\n",
    "from keras.preprocessing.sequence import pad_sequences\n",
    "from keras.models import Sequential\n",
    "from keras.layers import Dense,Flatten,Embedding\n",
    "\n",
    "docs = ['너무 재미있네요','최고예요','참 잘 만든 영화예요','추천하고 싶은 영화입니다.','한번 더 보고싶네요','글쎄요','별로예요','생각보다 지루하네요','연기가 어색해요','재미없어요']\n",
    "cla = np.array([1,1,1,1,1,0,0,0,0,0])\n",
    "\n",
    "tokenizer = Tokenizer()\n",
    "tokenizer.fit_on_texts(docs)\n",
    "print(tokenizer.word_index)\n",
    "\n",
    "x=tokenizer.texts_to_sequences(docs)\n",
    "padded_x = pad_sequences(x,4)\n",
    "word_size = len(tokenizer.word_index)+1\n",
    "print(\"\\n패딩결과\\n\",padded_x)\n",
    "\n",
    "model = Sequential()\n",
    "model.add(Embedding(word_size,8,input_length=4))\n",
    "model.add(Flatten())\n",
    "model.add(Dense(1,activation='sigmoid'))\n",
    "model.compile(optimizer='adam',loss='binary_crossentropy',metrics=['accuracy'])\n",
    "history = model.fit(padded_x,cla,epochs=20)\n",
    "print('\\n Accuracy: %.4f'%model.evaluate(padded_x,cla)[1])"
   ]
  },
  {
   "cell_type": "code",
   "execution_count": 34,
   "metadata": {},
   "outputs": [
    {
     "data": {
      "text/plain": [
       "array([[1],\n",
       "       [1],\n",
       "       [1],\n",
       "       [1],\n",
       "       [1],\n",
       "       [0],\n",
       "       [0],\n",
       "       [0],\n",
       "       [0],\n",
       "       [0]])"
      ]
     },
     "execution_count": 34,
     "metadata": {},
     "output_type": "execute_result"
    }
   ],
   "source": [
    "model.predict_classes(padded_x)"
   ]
  },
  {
   "cell_type": "code",
   "execution_count": 35,
   "metadata": {},
   "outputs": [
    {
     "data": {
      "text/plain": [
       "array([[0.50227416],\n",
       "       [0.5049155 ],\n",
       "       [0.53424525],\n",
       "       [0.51090115],\n",
       "       [0.51673996],\n",
       "       [0.47681367],\n",
       "       [0.4815502 ],\n",
       "       [0.4757123 ],\n",
       "       [0.46908125],\n",
       "       [0.47411224]], dtype=float32)"
      ]
     },
     "execution_count": 35,
     "metadata": {},
     "output_type": "execute_result"
    }
   ],
   "source": [
    "model.predict(padded_x)"
   ]
  },
  {
   "cell_type": "code",
   "execution_count": null,
   "metadata": {},
   "outputs": [],
   "source": []
  },
  {
   "cell_type": "code",
   "execution_count": null,
   "metadata": {},
   "outputs": [],
   "source": []
  },
  {
   "cell_type": "code",
   "execution_count": null,
   "metadata": {
    "scrolled": true
   },
   "outputs": [],
   "source": []
  },
  {
   "cell_type": "code",
   "execution_count": null,
   "metadata": {},
   "outputs": [],
   "source": []
  },
  {
   "cell_type": "code",
   "execution_count": null,
   "metadata": {},
   "outputs": [],
   "source": []
  },
  {
   "cell_type": "code",
   "execution_count": null,
   "metadata": {},
   "outputs": [],
   "source": []
  },
  {
   "cell_type": "code",
   "execution_count": null,
   "metadata": {},
   "outputs": [],
   "source": []
  },
  {
   "cell_type": "code",
   "execution_count": null,
   "metadata": {},
   "outputs": [],
   "source": []
  },
  {
   "cell_type": "code",
   "execution_count": null,
   "metadata": {},
   "outputs": [],
   "source": []
  },
  {
   "cell_type": "code",
   "execution_count": null,
   "metadata": {},
   "outputs": [],
   "source": []
  },
  {
   "cell_type": "code",
   "execution_count": null,
   "metadata": {},
   "outputs": [],
   "source": []
  },
  {
   "cell_type": "code",
   "execution_count": null,
   "metadata": {},
   "outputs": [],
   "source": []
  },
  {
   "cell_type": "code",
   "execution_count": null,
   "metadata": {},
   "outputs": [],
   "source": []
  },
  {
   "cell_type": "code",
   "execution_count": null,
   "metadata": {},
   "outputs": [],
   "source": []
  },
  {
   "cell_type": "code",
   "execution_count": null,
   "metadata": {},
   "outputs": [],
   "source": []
  }
 ],
 "metadata": {
  "kernelspec": {
   "display_name": "Python 3",
   "language": "python",
   "name": "python3"
  },
  "language_info": {
   "codemirror_mode": {
    "name": "ipython",
    "version": 3
   },
   "file_extension": ".py",
   "mimetype": "text/x-python",
   "name": "python",
   "nbconvert_exporter": "python",
   "pygments_lexer": "ipython3",
   "version": "3.7.7"
  }
 },
 "nbformat": 4,
 "nbformat_minor": 4
}
