{
 "cells": [
  {
   "cell_type": "code",
   "execution_count": 2,
   "metadata": {},
   "outputs": [
    {
     "name": "stdout",
     "output_type": "stream",
     "text": [
      "OrderedDict([('먼저', 1), ('텍스트의', 2), ('각', 1), ('단어를', 1), ('나누어', 1), ('토큰화합니다', 1), ('단어로', 1), ('토큰화해야', 1), ('딥러닝에서', 2), ('인식됩니다', 1), ('토큰화한', 1), ('결과는', 1), ('사용할', 1), ('수', 1), ('있습니다', 1)])\n"
     ]
    }
   ],
   "source": [
    "text = '해보지 않으면 해낼 수 없다.'\n",
    "from keras.preprocessing.text import text_to_word_sequence\n",
    "from keras.preprocessing.text import Tokenizer\n",
    "\n",
    "result = text_to_word_sequence(text)\n",
    "result\n",
    "docs = ['먼저 텍스트의 각 단어를 나누어 토큰화합니다.',\n",
    "       '텍스트의 단어로 토큰화해야 딥러닝에서 인식됩니다.',\n",
    "       '토큰화한 결과는 딥러닝에서 사용할 수 있습니다.']\n",
    "\n",
    "tokenizer = Tokenizer()\n",
    "tokenizer.fit_on_texts(docs)\n",
    "print(tokenizer.word_counts)"
   ]
  },
  {
   "cell_type": "markdown",
   "metadata": {},
   "source": [
    "# tokenizer함수\n",
    "  ###\n",
    "    text_to_word_sequence(text) : 단어단위로\n",
    "  ### Tokenizer 함수\n",
    "    0.fit_on_texts(list) : 문장에 토큰화 함수 적용\n",
    "    \n",
    "    1.word_counts : 단어의 빈도수 [(),(),()]\n",
    "\n",
    "    2.document_count : 문서수\n",
    "\n",
    "    3.word_docs : 단어들이 몇개의 문서에 나오느냐\n",
    "\n",
    "    4.word_index : 단어의 고유 인덱스   -->딕셔너리\n",
    "    \n",
    "    5.texts_to_sequences(list) : 인덱스로 채워진 배열\n",
    "  ### OneHot Encoding\n",
    "    fit_on_texts   -->    temp = texts_to_sequences   ->>to_categorical"
   ]
  },
  {
   "cell_type": "code",
   "execution_count": 3,
   "metadata": {},
   "outputs": [
    {
     "data": {
      "text/plain": [
       "OrderedDict([('먼저', 1),\n",
       "             ('텍스트의', 2),\n",
       "             ('각', 1),\n",
       "             ('단어를', 1),\n",
       "             ('나누어', 1),\n",
       "             ('토큰화합니다', 1),\n",
       "             ('단어로', 1),\n",
       "             ('토큰화해야', 1),\n",
       "             ('딥러닝에서', 2),\n",
       "             ('인식됩니다', 1),\n",
       "             ('토큰화한', 1),\n",
       "             ('결과는', 1),\n",
       "             ('사용할', 1),\n",
       "             ('수', 1),\n",
       "             ('있습니다', 1)])"
      ]
     },
     "execution_count": 3,
     "metadata": {},
     "output_type": "execute_result"
    }
   ],
   "source": [
    "tokenizer.word_counts"
   ]
  },
  {
   "cell_type": "code",
   "execution_count": 4,
   "metadata": {},
   "outputs": [
    {
     "data": {
      "text/plain": [
       "3"
      ]
     },
     "execution_count": 4,
     "metadata": {},
     "output_type": "execute_result"
    }
   ],
   "source": [
    "tokenizer.document_count"
   ]
  },
  {
   "cell_type": "code",
   "execution_count": 5,
   "metadata": {
    "scrolled": true
   },
   "outputs": [
    {
     "data": {
      "text/plain": [
       "defaultdict(int,\n",
       "            {'토큰화합니다': 1,\n",
       "             '먼저': 1,\n",
       "             '나누어': 1,\n",
       "             '각': 1,\n",
       "             '단어를': 1,\n",
       "             '텍스트의': 2,\n",
       "             '딥러닝에서': 2,\n",
       "             '단어로': 1,\n",
       "             '인식됩니다': 1,\n",
       "             '토큰화해야': 1,\n",
       "             '결과는': 1,\n",
       "             '있습니다': 1,\n",
       "             '토큰화한': 1,\n",
       "             '수': 1,\n",
       "             '사용할': 1})"
      ]
     },
     "execution_count": 5,
     "metadata": {},
     "output_type": "execute_result"
    }
   ],
   "source": [
    "tokenizer.word_docs"
   ]
  },
  {
   "cell_type": "code",
   "execution_count": 6,
   "metadata": {
    "scrolled": true
   },
   "outputs": [
    {
     "data": {
      "text/plain": [
       "{'텍스트의': 1,\n",
       " '딥러닝에서': 2,\n",
       " '먼저': 3,\n",
       " '각': 4,\n",
       " '단어를': 5,\n",
       " '나누어': 6,\n",
       " '토큰화합니다': 7,\n",
       " '단어로': 8,\n",
       " '토큰화해야': 9,\n",
       " '인식됩니다': 10,\n",
       " '토큰화한': 11,\n",
       " '결과는': 12,\n",
       " '사용할': 13,\n",
       " '수': 14,\n",
       " '있습니다': 15}"
      ]
     },
     "execution_count": 6,
     "metadata": {},
     "output_type": "execute_result"
    }
   ],
   "source": [
    "tokenizer.word_index"
   ]
  },
  {
   "cell_type": "code",
   "execution_count": 12,
   "metadata": {},
   "outputs": [
    {
     "name": "stdout",
     "output_type": "stream",
     "text": [
      "{'오랫동안': 1, '꿈꾸는': 2, '이는': 3, '그': 4, '꿈을': 5, '닮아간다': 6}\n",
      "[[1, 2, 3, 4, 5, 6]]\n",
      "[[[0. 1. 0. 0. 0. 0. 0.]\n",
      "  [0. 0. 1. 0. 0. 0. 0.]\n",
      "  [0. 0. 0. 1. 0. 0. 0.]\n",
      "  [0. 0. 0. 0. 1. 0. 0.]\n",
      "  [0. 0. 0. 0. 0. 1. 0.]\n",
      "  [0. 0. 0. 0. 0. 0. 1.]]]\n"
     ]
    }
   ],
   "source": [
    "from keras.preprocessing.text import Tokenizer\n",
    "text = '오랫동안 꿈꾸는 이는 그 꿈을 닮아간다.'\n",
    "tokenizer = Tokenizer()\n",
    "tokenizer.fit_on_texts([text])\n",
    "print(tokenizer.word_index)\n",
    "\n",
    "x = tokenizer.texts_to_sequences([text])\n",
    "print(x)\n",
    "\n",
    "from keras.utils import to_categorical\n",
    "word_size = len(tokenizer.word_index)+1\n",
    "x=to_categorical(x,num_classes=word_size)\n",
    "\n",
    "print(x)"
   ]
  },
  {
   "cell_type": "code",
   "execution_count": 8,
   "metadata": {},
   "outputs": [
    {
     "name": "stdout",
     "output_type": "stream",
     "text": [
      "[[1, 2, 3, 4, 5, 6]]\n"
     ]
    }
   ],
   "source": [
    "x = tokenizer.texts_to_sequences([text])\n",
    "print(x)"
   ]
  },
  {
   "cell_type": "code",
   "execution_count": 10,
   "metadata": {},
   "outputs": [
    {
     "name": "stdout",
     "output_type": "stream",
     "text": [
      "[[[[1. 0. 0. 0. 0. 0. 0.]\n",
      "   [0. 1. 0. 0. 0. 0. 0.]\n",
      "   [1. 0. 0. 0. 0. 0. 0.]\n",
      "   [1. 0. 0. 0. 0. 0. 0.]\n",
      "   [1. 0. 0. 0. 0. 0. 0.]\n",
      "   [1. 0. 0. 0. 0. 0. 0.]\n",
      "   [1. 0. 0. 0. 0. 0. 0.]]\n",
      "\n",
      "  [[1. 0. 0. 0. 0. 0. 0.]\n",
      "   [1. 0. 0. 0. 0. 0. 0.]\n",
      "   [0. 1. 0. 0. 0. 0. 0.]\n",
      "   [1. 0. 0. 0. 0. 0. 0.]\n",
      "   [1. 0. 0. 0. 0. 0. 0.]\n",
      "   [1. 0. 0. 0. 0. 0. 0.]\n",
      "   [1. 0. 0. 0. 0. 0. 0.]]\n",
      "\n",
      "  [[1. 0. 0. 0. 0. 0. 0.]\n",
      "   [1. 0. 0. 0. 0. 0. 0.]\n",
      "   [1. 0. 0. 0. 0. 0. 0.]\n",
      "   [0. 1. 0. 0. 0. 0. 0.]\n",
      "   [1. 0. 0. 0. 0. 0. 0.]\n",
      "   [1. 0. 0. 0. 0. 0. 0.]\n",
      "   [1. 0. 0. 0. 0. 0. 0.]]\n",
      "\n",
      "  [[1. 0. 0. 0. 0. 0. 0.]\n",
      "   [1. 0. 0. 0. 0. 0. 0.]\n",
      "   [1. 0. 0. 0. 0. 0. 0.]\n",
      "   [1. 0. 0. 0. 0. 0. 0.]\n",
      "   [0. 1. 0. 0. 0. 0. 0.]\n",
      "   [1. 0. 0. 0. 0. 0. 0.]\n",
      "   [1. 0. 0. 0. 0. 0. 0.]]\n",
      "\n",
      "  [[1. 0. 0. 0. 0. 0. 0.]\n",
      "   [1. 0. 0. 0. 0. 0. 0.]\n",
      "   [1. 0. 0. 0. 0. 0. 0.]\n",
      "   [1. 0. 0. 0. 0. 0. 0.]\n",
      "   [1. 0. 0. 0. 0. 0. 0.]\n",
      "   [0. 1. 0. 0. 0. 0. 0.]\n",
      "   [1. 0. 0. 0. 0. 0. 0.]]\n",
      "\n",
      "  [[1. 0. 0. 0. 0. 0. 0.]\n",
      "   [1. 0. 0. 0. 0. 0. 0.]\n",
      "   [1. 0. 0. 0. 0. 0. 0.]\n",
      "   [1. 0. 0. 0. 0. 0. 0.]\n",
      "   [1. 0. 0. 0. 0. 0. 0.]\n",
      "   [1. 0. 0. 0. 0. 0. 0.]\n",
      "   [0. 1. 0. 0. 0. 0. 0.]]]]\n"
     ]
    }
   ],
   "source": [
    "from keras.utils import to_categorical\n",
    "word_size = len(tokenizer.word_index)+1\n",
    "x=to_categorical(x,num_classes=word_size)\n",
    "\n",
    "print(x)"
   ]
  },
  {
   "cell_type": "code",
   "execution_count": 38,
   "metadata": {},
   "outputs": [],
   "source": [
    "from keras.layers import Embedding,Flatten,Dense\n",
    "from keras.models import Sequential\n",
    "import numpy as np\n",
    "\n",
    "model = Sequential()\n",
    "model.add(Embedding(16,4))"
   ]
  },
  {
   "cell_type": "code",
   "execution_count": 39,
   "metadata": {},
   "outputs": [
    {
     "name": "stdout",
     "output_type": "stream",
     "text": [
      "{'너무': 1, '재미있네요': 2, '최고에요': 3, '참': 4, '잘': 5, '만든': 6, '영화예요': 7, '추천하고': 8, '싶은': 9, '영화입니다': 10, '한': 11, '번': 12, '더': 13, '보고싶네요': 14, '글쎄요': 15, '별로예요': 16, '생각보다': 17, '지루하네요': 18, '연기가': 19, '어색해요': 20, '재미없어요': 21}\n"
     ]
    }
   ],
   "source": [
    "docs= ['너무 재미있네요','최고에요','참 잘 만든 영화예요','추천하고 싶은 영화입니다.','한 번 더 보고싶네요.','글쎄요','별로예요','생각보다 지루하네요','연기가 어색해요','재미없어요']\n",
    "cla = np.array([1,1,1,1,1,0,0,0,0,0])\n",
    "\n",
    "from keras.preprocessing.text import text_to_word_sequence,Tokenizer\n",
    "from keras.preprocessing.sequence import pad_sequences\n",
    "tokenizer = Tokenizer()\n",
    "tokenizer.fit_on_texts(docs)\n",
    "print(tokenizer.word_index)"
   ]
  },
  {
   "cell_type": "code",
   "execution_count": 40,
   "metadata": {},
   "outputs": [
    {
     "name": "stdout",
     "output_type": "stream",
     "text": [
      "[[1, 2], [3], [4, 5, 6, 7], [8, 9, 10], [11, 12, 13, 14], [15], [16], [17, 18], [19, 20], [21]]\n",
      "[[ 0  0  1  2]\n",
      " [ 0  0  0  3]\n",
      " [ 4  5  6  7]\n",
      " [ 0  8  9 10]\n",
      " [11 12 13 14]\n",
      " [ 0  0  0 15]\n",
      " [ 0  0  0 16]\n",
      " [ 0  0 17 18]\n",
      " [ 0  0 19 20]\n",
      " [ 0  0  0 21]]\n"
     ]
    }
   ],
   "source": [
    "from keras.layers import Embedding,Flatten,Dense\n",
    "from keras.models import Sequential\n",
    "import numpy as np\n",
    "\n",
    "model = Sequential()\n",
    "model.add(Embedding(16,4))\n",
    "\n",
    "docs= ['너무 재미있네요','최고에요','참 잘 만든 영화예요','추천하고 싶은 영화입니다.','한 번 더 보고싶네요.','글쎄요','별로예요','생각보다 지루하네요','연기가 어색해요','재미없어요']\n",
    "cla = np.array([1,1,1,1,1,0,0,0,0,0])\n",
    "\n",
    "from keras.preprocessing.text import text_to_word_sequence,Tokenizer\n",
    "from keras.preprocessing.sequence import pad_sequences\n",
    "tokenizer = Tokenizer()\n",
    "tokenizer.fit_on_texts(docs)\n",
    "print(tokenizer.word_index)\n",
    "\n",
    "x = tokenizer.texts_to_sequences(docs)\n",
    "print(x)\n",
    "padding_size = max(x)\n",
    "padded_x = pad_sequences(x,4)\n",
    "print(padded_x)\n",
    "\n",
    "from keras.layers import Embedding,Flatten,Dense\n",
    "from keras.models import Sequential\n",
    "import numpy as np\n",
    "\n",
    "model = Sequential()\n",
    "model.add(Embedding(16,4))\n",
    "\n",
    "docs= ['너무 재미있네요','최고에요','참 잘 만든 영화예요','추천하고 싶은 영화입니다.','한 번 더 보고싶네요.','글쎄요','별로예요','생각보다 지루하네요','연기가 어색해요','재미없어요']\n",
    "cla = np.array([1,1,1,1,1,0,0,0,0,0])\n",
    "\n",
    "from keras.preprocessing.text import text_to_word_sequence,Tokenizer\n",
    "from keras.preprocessing.sequence import pad_sequences\n",
    "tokenizer = Tokenizer()\n",
    "tokenizer.fit_on_texts(docs)\n",
    "print(tokenizer.word_index)\n",
    "\n",
    "x = tokenizer.texts_to_sequences(docs)\n",
    "print(x)\n",
    "padding_size = max(x)\n",
    "padded_x = pad_sequences(x,4)\n",
    "print(padded_x)\n",
    "\n",
    "word_size = len(tokenizer.word_index)+1\n",
    "model=Sequential()\n",
    "model.add(Embedding(word_size,8,input_length=4))\n",
    "model.add(Flatten())\n",
    "model.add(Dense(1,activation='sigmoid'))\n",
    "model.compile(optimizer='adam',loss='binary_crossentropy',metrics=['accuracy'])\n",
    "history = model.fit(padded_x,cla,epochs=20)\n",
    "print('\\n Accuracy: %.4f'%model.evaluate(padded_x,cla)[1])"
   ]
  },
  {
   "cell_type": "code",
   "execution_count": 50,
   "metadata": {},
   "outputs": [
    {
     "name": "stdout",
     "output_type": "stream",
     "text": [
      "{'너무': 1, '재미있네요': 2, '최고에요': 3, '참': 4, '잘': 5, '만든': 6, '영화예요': 7, '추천하고': 8, '싶은': 9, '영화입니다': 10, '한': 11, '번': 12, '더': 13, '보고싶네요': 14, '글쎄요': 15, '별로예요': 16, '생각보다': 17, '지루하네요': 18, '연기가': 19, '어색해요': 20, '재미없어요': 21}\n",
      "[[1, 2], [3], [4, 5, 6, 7], [8, 9, 10], [11, 12, 13, 14], [15], [16], [17, 18], [19, 20], [21]]\n",
      "[[ 0  0  1  2]\n",
      " [ 0  0  0  3]\n",
      " [ 4  5  6  7]\n",
      " [ 0  8  9 10]\n",
      " [11 12 13 14]\n",
      " [ 0  0  0 15]\n",
      " [ 0  0  0 16]\n",
      " [ 0  0 17 18]\n",
      " [ 0  0 19 20]\n",
      " [ 0  0  0 21]]\n"
     ]
    },
    {
     "name": "stderr",
     "output_type": "stream",
     "text": [
      "C:\\ProgramData\\Anaconda3\\envs\\tf_V2\\lib\\site-packages\\tensorflow_core\\python\\framework\\indexed_slices.py:433: UserWarning: Converting sparse IndexedSlices to a dense Tensor of unknown shape. This may consume a large amount of memory.\n",
      "  \"Converting sparse IndexedSlices to a dense Tensor of unknown shape. \"\n"
     ]
    },
    {
     "name": "stdout",
     "output_type": "stream",
     "text": [
      "Epoch 1/20\n",
      "10/10 [==============================] - 0s 29ms/step - loss: 0.6980 - accuracy: 0.5000\n",
      "Epoch 2/20\n",
      "10/10 [==============================] - 0s 197us/step - loss: 0.6964 - accuracy: 0.5000\n",
      "Epoch 3/20\n",
      "10/10 [==============================] - 0s 497us/step - loss: 0.6943 - accuracy: 0.5000\n",
      "Epoch 4/20\n",
      "10/10 [==============================] - 0s 154us/step - loss: 0.6924 - accuracy: 0.5000\n",
      "Epoch 5/20\n",
      "10/10 [==============================] - 0s 462us/step - loss: 0.6904 - accuracy: 0.5000\n",
      "Epoch 6/20\n",
      "10/10 [==============================] - 0s 200us/step - loss: 0.6883 - accuracy: 0.5000\n",
      "Epoch 7/20\n",
      "10/10 [==============================] - 0s 598us/step - loss: 0.6861 - accuracy: 0.5000\n",
      "Epoch 8/20\n",
      "10/10 [==============================] - 0s 259us/step - loss: 0.6840 - accuracy: 0.6000\n",
      "Epoch 9/20\n",
      "10/10 [==============================] - 0s 241us/step - loss: 0.6819 - accuracy: 0.7000\n",
      "Epoch 10/20\n",
      "10/10 [==============================] - 0s 378us/step - loss: 0.6798 - accuracy: 0.8000\n",
      "Epoch 11/20\n",
      "10/10 [==============================] - 0s 247us/step - loss: 0.6777 - accuracy: 0.8000\n",
      "Epoch 12/20\n",
      "10/10 [==============================] - 0s 161us/step - loss: 0.6755 - accuracy: 0.8000\n",
      "Epoch 13/20\n",
      "10/10 [==============================] - 0s 288us/step - loss: 0.6734 - accuracy: 0.8000\n",
      "Epoch 14/20\n",
      "10/10 [==============================] - 0s 240us/step - loss: 0.6713 - accuracy: 0.9000\n",
      "Epoch 15/20\n",
      "10/10 [==============================] - 0s 399us/step - loss: 0.6691 - accuracy: 0.9000\n",
      "Epoch 16/20\n",
      "10/10 [==============================] - 0s 305us/step - loss: 0.6670 - accuracy: 0.9000\n",
      "Epoch 17/20\n",
      "10/10 [==============================] - 0s 269us/step - loss: 0.6648 - accuracy: 1.0000\n",
      "Epoch 18/20\n",
      "10/10 [==============================] - 0s 598us/step - loss: 0.6626 - accuracy: 1.0000\n",
      "Epoch 19/20\n",
      "10/10 [==============================] - 0s 661us/step - loss: 0.6604 - accuracy: 1.0000\n",
      "Epoch 20/20\n",
      "10/10 [==============================] - 0s 200us/step - loss: 0.6583 - accuracy: 1.0000\n",
      "10/10 [==============================] - 0s 5ms/step\n",
      "\n",
      " Accuracy: 1.0000\n"
     ]
    }
   ],
   "source": [
    "from keras.layers import Embedding,Flatten,Dense\n",
    "from keras.models import Sequential\n",
    "import numpy as np\n",
    "\n",
    "model = Sequential()\n",
    "model.add(Embedding(16,4))\n",
    "\n",
    "docs= ['너무 재미있네요','최고에요','참 잘 만든 영화예요','추천하고 싶은 영화입니다.','한 번 더 보고싶네요.','글쎄요','별로예요','생각보다 지루하네요','연기가 어색해요','재미없어요']\n",
    "cla = np.array([1,1,1,1,1,0,0,0,0,0])\n",
    "\n",
    "from keras.preprocessing.text import text_to_word_sequence,Tokenizer\n",
    "from keras.preprocessing.sequence import pad_sequences\n",
    "tokenizer = Tokenizer()\n",
    "tokenizer.fit_on_texts(docs)\n",
    "print(tokenizer.word_index)\n",
    "\n",
    "x = tokenizer.texts_to_sequences(docs)\n",
    "print(x)\n",
    "padding_size = max(x)\n",
    "padded_x = pad_sequences(x,4)\n",
    "print(padded_x)\n",
    "\n",
    "word_size = len(tokenizer.word_index)+1\n",
    "model=Sequential()\n",
    "model.add(Embedding(word_size,8,input_length=4))\n",
    "model.add(Flatten())\n",
    "model.add(Dense(1,activation='sigmoid'))\n",
    "model.compile(optimizer='adam',loss='binary_crossentropy',metrics=['accuracy'])\n",
    "history = model.fit(padded_x,cla,epochs=20)\n",
    "print('\\n Accuracy: %.4f'%model.evaluate(padded_x,cla)[1])"
   ]
  },
  {
   "cell_type": "code",
   "execution_count": 48,
   "metadata": {},
   "outputs": [
    {
     "data": {
      "text/plain": [
       "array([[0],\n",
       "       [0],\n",
       "       [1],\n",
       "       [1],\n",
       "       [1],\n",
       "       [0],\n",
       "       [0],\n",
       "       [0],\n",
       "       [0],\n",
       "       [0]])"
      ]
     },
     "execution_count": 48,
     "metadata": {},
     "output_type": "execute_result"
    }
   ],
   "source": [
    "model.predict_classes(padded_x)"
   ]
  },
  {
   "cell_type": "code",
   "execution_count": 51,
   "metadata": {},
   "outputs": [
    {
     "data": {
      "text/plain": [
       "array([[0.50584817],\n",
       "       [0.5056755 ],\n",
       "       [0.5367472 ],\n",
       "       [0.5483807 ],\n",
       "       [0.506868  ],\n",
       "       [0.4849587 ],\n",
       "       [0.47540092],\n",
       "       [0.47784096],\n",
       "       [0.48827127],\n",
       "       [0.48653167]], dtype=float32)"
      ]
     },
     "execution_count": 51,
     "metadata": {},
     "output_type": "execute_result"
    }
   ],
   "source": [
    "model.predict(padded_x)"
   ]
  },
  {
   "cell_type": "code",
   "execution_count": null,
   "metadata": {},
   "outputs": [],
   "source": [
    "from keras.layers import Embedding,Flatten,Dense\n",
    "from keras.models import Sequential\n",
    "import numpy as np\n",
    "\n",
    "model = Sequential()\n",
    "model.add(Embedding(16,4))\n",
    "\n",
    "docs= ['너무 재미있네요','최고에요','참 잘 만든 영화예요','추천하고 싶은 영화입니다.','한 번 더 보고싶네요.','글쎄요','별로예요','생각보다 지루하네요','연기가 어색해요','재미없어요']\n",
    "cla = np.array([1,1,1,1,1,0,0,0,0,0])\n",
    "\n",
    "from keras.preprocessing.text import text_to_word_sequence,Tokenizer\n",
    "from keras.preprocessing.sequence import pad_sequences\n",
    "tokenizer = Tokenizer()\n",
    "tokenizer.fit_on_texts(docs)\n",
    "print(tokenizer.word_index)\n",
    "\n",
    "x = tokenizer.texts_to_sequences(docs)\n",
    "print(x)\n",
    "padding_size = max(x)\n",
    "padded_x = pad_sequences(x,4)\n",
    "print(padded_x)\n",
    "\n",
    "from keras.layers import Embedding,Flatten,Dense\n",
    "from keras.models import Sequential\n",
    "import numpy as np\n",
    "\n",
    "model = Sequential()\n",
    "model.add(Embedding(16,4))\n",
    "\n",
    "docs= ['너무 재미있네요','최고에요','참 잘 만든 영화예요','추천하고 싶은 영화입니다.','한 번 더 보고싶네요.','글쎄요','별로예요','생각보다 지루하네요','연기가 어색해요','재미없어요']\n",
    "cla = np.array([1,1,1,1,1,0,0,0,0,0])\n",
    "\n",
    "from keras.preprocessing.text import text_to_word_sequence,Tokenizer\n",
    "from keras.preprocessing.sequence import pad_sequences\n",
    "tokenizer = Tokenizer()\n",
    "tokenizer.fit_on_texts(docs)\n",
    "print(tokenizer.word_index)\n",
    "\n",
    "x = tokenizer.texts_to_sequences(docs)\n",
    "print(x)\n",
    "padding_size = max(x)\n",
    "padded_x = pad_sequences(x,4)\n",
    "print(padded_x)\n",
    "\n",
    "word_size = len(tokenizer.word_index)+1\n",
    "model=Sequential()\n",
    "model.add(Embedding(word_size,8,input_length=4))\n",
    "model.add(Flatten())\n",
    "model.add(Dense(1,activation='sigmoid'))\n",
    "model.compile(optimizer='adam',loss='binary_crossentropy',metrics=['accuracy'])\n",
    "history = model.fit(padded_x,cla,epochs=20)\n",
    "print('\\n Accuracy: %.4f'%model.evaluate(padded_x,cla)[1])"
   ]
  }
 ],
 "metadata": {
  "kernelspec": {
   "display_name": "Python 3",
   "language": "python",
   "name": "python3"
  },
  "language_info": {
   "codemirror_mode": {
    "name": "ipython",
    "version": 3
   },
   "file_extension": ".py",
   "mimetype": "text/x-python",
   "name": "python",
   "nbconvert_exporter": "python",
   "pygments_lexer": "ipython3",
   "version": "3.7.7"
  }
 },
 "nbformat": 4,
 "nbformat_minor": 4
}
