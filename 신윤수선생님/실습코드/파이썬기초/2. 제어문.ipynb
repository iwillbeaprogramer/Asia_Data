{
 "cells": [
  {
   "cell_type": "code",
   "execution_count": 1,
   "metadata": {},
   "outputs": [],
   "source": [
    "x = 10"
   ]
  },
  {
   "cell_type": "code",
   "execution_count": 2,
   "metadata": {},
   "outputs": [
    {
     "name": "stdout",
     "output_type": "stream",
     "text": [
      "X는 10입니다.\n"
     ]
    }
   ],
   "source": [
    "if x == 10:\n",
    "    print(\"X는 10입니다.\")"
   ]
  },
  {
   "cell_type": "code",
   "execution_count": 7,
   "metadata": {},
   "outputs": [
    {
     "name": "stdout",
     "output_type": "stream",
     "text": [
      "X는 10입니다.\n",
      "end code block\n"
     ]
    }
   ],
   "source": [
    "if x == 10:\n",
    "    print(\"X는 10입니다.\")\n",
    "    print(\"end code block\")"
   ]
  },
  {
   "cell_type": "code",
   "execution_count": 8,
   "metadata": {},
   "outputs": [],
   "source": [
    "if x !=10:\n",
    "    print(\"x는 10이 아닙니다.\")"
   ]
  },
  {
   "cell_type": "code",
   "execution_count": 12,
   "metadata": {},
   "outputs": [],
   "source": [
    "if x==10:\n",
    "    pass"
   ]
  },
  {
   "cell_type": "code",
   "execution_count": 13,
   "metadata": {},
   "outputs": [
    {
     "name": "stdout",
     "output_type": "stream",
     "text": [
      "x는 3보다 크고 20보다 작습니다.\n"
     ]
    }
   ],
   "source": [
    "if x > 3 and x < 20:\n",
    "    print('x는 3보다 크고 20보다 작습니다.')"
   ]
  },
  {
   "cell_type": "code",
   "execution_count": 14,
   "metadata": {},
   "outputs": [
    {
     "name": "stdout",
     "output_type": "stream",
     "text": [
      "x는 3보다 큽니다.\n",
      "x는10보다 크거나 같습니다.\n",
      "x는20보다 작습니다.\n"
     ]
    }
   ],
   "source": [
    "if x>3:\n",
    "    print(\"x는 3보다 큽니다.\")\n",
    "    if x>=10:\n",
    "        print(\"x는10보다 크거나 같습니다.\")\n",
    "    if x< 20:\n",
    "        print(\"x는20보다 작습니다.\")"
   ]
  },
  {
   "cell_type": "code",
   "execution_count": 16,
   "metadata": {},
   "outputs": [],
   "source": [
    "x = 3"
   ]
  },
  {
   "cell_type": "code",
   "execution_count": 18,
   "metadata": {},
   "outputs": [
    {
     "name": "stdout",
     "output_type": "stream",
     "text": [
      "x는 5보다 작거나 같습니다.\n"
     ]
    }
   ],
   "source": [
    "if x> 5:\n",
    "    print(\"x는 5보다 큽니다.\")\n",
    "else:\n",
    "    print(\"x는 5보다 작거나 같습니다.\")"
   ]
  },
  {
   "cell_type": "code",
   "execution_count": 29,
   "metadata": {},
   "outputs": [],
   "source": [
    "x = -10"
   ]
  },
  {
   "cell_type": "code",
   "execution_count": 30,
   "metadata": {},
   "outputs": [
    {
     "name": "stdout",
     "output_type": "stream",
     "text": [
      "x는 음수입니다.\n"
     ]
    }
   ],
   "source": [
    "if x>5:\n",
    "    print(\"x는 5보다 큽니다.\")\n",
    "elif x>2:\n",
    "    print(\"x는 2보다 큽니다.\")\n",
    "elif x>0:\n",
    "    print(\"x는 0보다 큽니다.\")\n",
    "else:\n",
    "    print(\"x는 음수입니다.\")"
   ]
  },
  {
   "cell_type": "code",
   "execution_count": null,
   "metadata": {},
   "outputs": [],
   "source": []
  },
  {
   "cell_type": "code",
   "execution_count": 32,
   "metadata": {},
   "outputs": [],
   "source": [
    "x = 10"
   ]
  },
  {
   "cell_type": "code",
   "execution_count": 33,
   "metadata": {},
   "outputs": [
    {
     "name": "stdout",
     "output_type": "stream",
     "text": [
      "x는 0보다 큽니다.\n"
     ]
    }
   ],
   "source": [
    "if x>0:\n",
    "    print(\"x는 0보다 큽니다.\")\n",
    "elif x>3:\n",
    "    print(\"x는 3보다 큽니다.\")\n",
    "elif x> 8:\n",
    "    print(\"x는 8보다 큽니다.\")\n",
    "else:\n",
    "    print(\"x는 음수입니다.\")"
   ]
  },
  {
   "cell_type": "markdown",
   "metadata": {},
   "source": [
    "## 연습문제1.\n",
    "사용자로부터 점수를 3개 입력받아  \n",
    "모든 점수가 65점보다 클 경우 합격 아닐경우 불합격을 출력하세요  \n",
    "단, 0~100 이 아닌 숫자가 입력된경우 “잘못된 점수가 입력되었습니다\" 를 출력하세요  \n"
   ]
  },
  {
   "cell_type": "code",
   "execution_count": 45,
   "metadata": {
    "scrolled": true
   },
   "outputs": [
    {
     "name": "stdout",
     "output_type": "stream",
     "text": [
      "점수입력1: 66\n",
      "점수입력2: 66\n",
      "점수입력3: 66\n",
      "합격\n"
     ]
    }
   ],
   "source": [
    "a = input(\"점수입력1: \")\n",
    "b = input(\"점수입력2: \")\n",
    "c = input(\"점수입력3: \")\n",
    "\n",
    "a, b, c = map(int, [a, b, c])\n",
    "# if (not (0<=a<=100)) or (not (0<=b<=100) or (not (0<=c<=100)))\n",
    "if (a not in range(101)) or (b not in range(101) or (c not in range(101))):\n",
    "    print(\"잘못된 점수가 입력되었습니다.\")\n",
    "elif a>65 and b>65 and c>65:\n",
    "    print(\"합격\")\n",
    "else:\n",
    "    print(\"불합격\")"
   ]
  },
  {
   "cell_type": "code",
   "execution_count": 1,
   "metadata": {},
   "outputs": [
    {
     "name": "stdout",
     "output_type": "stream",
     "text": [
      "A\n"
     ]
    }
   ],
   "source": [
    "print(\"A\")"
   ]
  },
  {
   "cell_type": "code",
   "execution_count": 2,
   "metadata": {},
   "outputs": [
    {
     "name": "stdout",
     "output_type": "stream",
     "text": [
      "입력110\n"
     ]
    },
    {
     "data": {
      "text/plain": [
       "'10'"
      ]
     },
     "execution_count": 2,
     "metadata": {},
     "output_type": "execute_result"
    }
   ],
   "source": [
    "input(\"입력1\")"
   ]
  },
  {
   "cell_type": "markdown",
   "metadata": {},
   "source": [
    "## 연습문제2\n",
    "[홀수 짝수 판별기]  \n",
    "사용자로부터 정수를 하나 입력받아   \n",
    "입력한 정수가 홀수인지 짝수인지 판별하여라.    \n",
    "(**0은 짝수라 하자.**)  \n",
    "\n"
   ]
  },
  {
   "cell_type": "code",
   "execution_count": 5,
   "metadata": {},
   "outputs": [
    {
     "name": "stdout",
     "output_type": "stream",
     "text": [
      "정수입력: 0\n",
      "0는 짝수입니다.\n"
     ]
    }
   ],
   "source": [
    "num1 = int(input(\"정수입력: \"))\n",
    "if num1 % 2 ==1:\n",
    "    print(\"{}는 홀수입니다.\".format(num1))\n",
    "else:\n",
    "    print(\"{}는 짝수입니다.\".format(num1))"
   ]
  },
  {
   "cell_type": "markdown",
   "metadata": {},
   "source": [
    "# for문"
   ]
  },
  {
   "cell_type": "code",
   "execution_count": 6,
   "metadata": {},
   "outputs": [
    {
     "name": "stdout",
     "output_type": "stream",
     "text": [
      "0\n",
      "1\n",
      "2\n",
      "3\n",
      "4\n",
      "5\n",
      "6\n",
      "7\n",
      "8\n",
      "9\n"
     ]
    }
   ],
   "source": [
    "for i in range(10):\n",
    "    print(i)"
   ]
  },
  {
   "cell_type": "code",
   "execution_count": 7,
   "metadata": {},
   "outputs": [
    {
     "name": "stdout",
     "output_type": "stream",
     "text": [
      "a\n",
      "b\n",
      "c\n"
     ]
    }
   ],
   "source": [
    "for i in ['a', 'b', 'c']:\n",
    "    print(i)"
   ]
  },
  {
   "cell_type": "code",
   "execution_count": 8,
   "metadata": {},
   "outputs": [],
   "source": [
    "profile = {\n",
    "    \"name\": \"신윤수\",\n",
    "    \"height\": 183,\n",
    "    'City': 'Seoul'\n",
    "}\n"
   ]
  },
  {
   "cell_type": "code",
   "execution_count": 9,
   "metadata": {},
   "outputs": [
    {
     "name": "stdout",
     "output_type": "stream",
     "text": [
      "name\n",
      "height\n",
      "City\n"
     ]
    }
   ],
   "source": [
    "for i in profile:\n",
    "    print(i)"
   ]
  },
  {
   "cell_type": "code",
   "execution_count": 10,
   "metadata": {
    "scrolled": true
   },
   "outputs": [
    {
     "name": "stdout",
     "output_type": "stream",
     "text": [
      "O\n",
      "r\n",
      "a\n",
      "n\n",
      "g\n",
      "e\n"
     ]
    }
   ],
   "source": [
    "for i in \"Orange\":\n",
    "    print(i)"
   ]
  },
  {
   "cell_type": "markdown",
   "metadata": {},
   "source": [
    "## 연습문제1 \n",
    "1. 사용자로부터 정수를 입력받아, 해당 정수만큼 “안녕”을 출력하세요."
   ]
  },
  {
   "cell_type": "code",
   "execution_count": 3,
   "metadata": {},
   "outputs": [
    {
     "name": "stdout",
     "output_type": "stream",
     "text": [
      "정수입력: 3\n",
      "안녕\n",
      "안녕\n",
      "안녕\n"
     ]
    }
   ],
   "source": [
    "num = int(input(\"정수입력: \"))\n",
    "for i in range(num):\n",
    "    print(\"안녕\")\n"
   ]
  },
  {
   "cell_type": "markdown",
   "metadata": {},
   "source": [
    "2. 사용자로부터 정수를 입력받아, 입력된 정수 만큼 별 찍기"
   ]
  },
  {
   "cell_type": "code",
   "execution_count": 6,
   "metadata": {},
   "outputs": [
    {
     "name": "stdout",
     "output_type": "stream",
     "text": [
      "정수입력: 5\n",
      "*\n",
      "**\n",
      "***\n",
      "****\n",
      "*****\n"
     ]
    }
   ],
   "source": [
    "num = int(input(\"정수입력: \"))\n",
    "for i in range(num):\n",
    "    print(\"*\"*(i+1))"
   ]
  },
  {
   "cell_type": "markdown",
   "metadata": {},
   "source": [
    "3. 사용자로부터 정수를 입력받아, 입력된 정수 만큼 별 찍기(역순)"
   ]
  },
  {
   "cell_type": "code",
   "execution_count": 8,
   "metadata": {},
   "outputs": [
    {
     "name": "stdout",
     "output_type": "stream",
     "text": [
      "정수입력: 5\n",
      "*****\n",
      "****\n",
      "***\n",
      "**\n",
      "*\n",
      "*****\n",
      "****\n",
      "***\n",
      "**\n",
      "*\n"
     ]
    }
   ],
   "source": [
    "num = int(input(\"정수입력: \"))\n",
    "for i in range(num, 0, -1):\n",
    "    print(\"*\"*i)\n",
    "\n",
    "for j in range(num):\n",
    "    print(\"*\"*(num-j))"
   ]
  },
  {
   "cell_type": "markdown",
   "metadata": {},
   "source": [
    "## for문 중첩"
   ]
  },
  {
   "cell_type": "code",
   "execution_count": 11,
   "metadata": {
    "scrolled": true
   },
   "outputs": [
    {
     "name": "stdout",
     "output_type": "stream",
     "text": [
      "i:  0\n",
      "i*j:  0\n",
      "i*j:  0\n",
      "i*j:  0\n",
      "i*j:  0\n",
      "i*j:  0\n",
      "----------\n",
      "i:  1\n",
      "i*j:  0\n",
      "i*j:  1\n",
      "i*j:  2\n",
      "i*j:  3\n",
      "i*j:  4\n",
      "----------\n",
      "i:  2\n",
      "i*j:  0\n",
      "i*j:  2\n",
      "i*j:  4\n",
      "i*j:  6\n",
      "i*j:  8\n",
      "----------\n",
      "i:  3\n",
      "i*j:  0\n",
      "i*j:  3\n",
      "i*j:  6\n",
      "i*j:  9\n",
      "i*j:  12\n",
      "----------\n",
      "i:  4\n",
      "i*j:  0\n",
      "i*j:  4\n",
      "i*j:  8\n",
      "i*j:  12\n",
      "i*j:  16\n",
      "----------\n"
     ]
    }
   ],
   "source": [
    "for i in range(5):\n",
    "    print(\"i: \", i)\n",
    "    for j in range(5):\n",
    "        # print(\"j: \", j)\n",
    "        print(\"i*j: \", i*j)\n",
    "    print(\"-\"*10)\n",
    "        "
   ]
  },
  {
   "cell_type": "code",
   "execution_count": 12,
   "metadata": {},
   "outputs": [
    {
     "name": "stdout",
     "output_type": "stream",
     "text": [
      "코드 실행\n",
      "코드 실행\n",
      "코드 실행\n",
      "코드 실행\n",
      "코드 실행\n",
      "코드 실행\n",
      "코드 실행\n",
      "코드 실행\n",
      "코드 실행\n",
      "코드 실행\n",
      "코드 실행\n",
      "코드 실행\n",
      "코드 실행\n",
      "코드 실행\n",
      "코드 실행\n",
      "코드 실행\n",
      "코드 실행\n",
      "코드 실행\n",
      "코드 실행\n",
      "코드 실행\n",
      "코드 실행\n",
      "코드 실행\n",
      "코드 실행\n",
      "코드 실행\n",
      "코드 실행\n"
     ]
    }
   ],
   "source": [
    "for i in range(5):\n",
    "    for j in range(5):\n",
    "        print(\"코드 실행\")"
   ]
  },
  {
   "cell_type": "code",
   "execution_count": 14,
   "metadata": {},
   "outputs": [
    {
     "name": "stdout",
     "output_type": "stream",
     "text": [
      "(0, 'a')\n",
      "(1, 'b')\n",
      "(2, 'c')\n",
      "(3, 'd')\n"
     ]
    }
   ],
   "source": [
    "l1 = ['a', 'b', 'c', 'd']\n",
    "for i in enumerate(l1):\n",
    "    print(i)"
   ]
  },
  {
   "cell_type": "code",
   "execution_count": 15,
   "metadata": {},
   "outputs": [
    {
     "name": "stdout",
     "output_type": "stream",
     "text": [
      "10\n",
      "20\n"
     ]
    }
   ],
   "source": [
    "a, b = (10, 20)\n",
    "print(a)\n",
    "print(b)"
   ]
  },
  {
   "cell_type": "code",
   "execution_count": 16,
   "metadata": {},
   "outputs": [
    {
     "name": "stdout",
     "output_type": "stream",
     "text": [
      "0 a\n",
      "1 b\n",
      "2 c\n",
      "3 d\n"
     ]
    }
   ],
   "source": [
    "l1 = ['a', 'b', 'c', 'd']\n",
    "for idx, value in enumerate(l1):\n",
    "    print(idx, value)"
   ]
  },
  {
   "cell_type": "code",
   "execution_count": 17,
   "metadata": {},
   "outputs": [],
   "source": [
    "for idx, value in enumerate(l1):\n",
    "    if idx>=2:\n",
    "        l1[idx] = 0"
   ]
  },
  {
   "cell_type": "code",
   "execution_count": 18,
   "metadata": {
    "scrolled": true
   },
   "outputs": [
    {
     "data": {
      "text/plain": [
       "['a', 'b', 0, 0]"
      ]
     },
     "execution_count": 18,
     "metadata": {},
     "output_type": "execute_result"
    }
   ],
   "source": [
    "l1"
   ]
  },
  {
   "cell_type": "markdown",
   "metadata": {},
   "source": [
    "## 연습문제2"
   ]
  },
  {
   "cell_type": "markdown",
   "metadata": {},
   "source": [
    "(1) x = [3, 6, 9, 20, -7, 5] 의 값의 모든 요소에 10을 곱한뒤 출력하세요"
   ]
  },
  {
   "cell_type": "code",
   "execution_count": 19,
   "metadata": {},
   "outputs": [
    {
     "name": "stdout",
     "output_type": "stream",
     "text": [
      "30\n",
      "60\n",
      "90\n",
      "200\n",
      "-70\n",
      "50\n"
     ]
    }
   ],
   "source": [
    "x = [3, 6, 9, 20, -7, 5]\n",
    "for i in x:\n",
    "    print(i*10)"
   ]
  },
  {
   "cell_type": "markdown",
   "metadata": {},
   "source": [
    "**(심화): 실제 값 변경**"
   ]
  },
  {
   "cell_type": "code",
   "execution_count": 22,
   "metadata": {},
   "outputs": [
    {
     "data": {
      "text/plain": [
       "[3, 6, 9, 20, -7, 5]"
      ]
     },
     "execution_count": 22,
     "metadata": {},
     "output_type": "execute_result"
    }
   ],
   "source": [
    "x"
   ]
  },
  {
   "cell_type": "code",
   "execution_count": 23,
   "metadata": {},
   "outputs": [
    {
     "name": "stdout",
     "output_type": "stream",
     "text": [
      "30\n",
      "60\n",
      "90\n",
      "200\n",
      "-70\n",
      "50\n"
     ]
    },
    {
     "data": {
      "text/plain": [
       "[30, 60, 90, 200, -70, 50]"
      ]
     },
     "execution_count": 23,
     "metadata": {},
     "output_type": "execute_result"
    }
   ],
   "source": [
    "for idx, value in enumerate(x):\n",
    "    x[idx] = value * 10\n",
    "    print(x[idx])\n",
    "x"
   ]
  },
  {
   "cell_type": "markdown",
   "metadata": {},
   "source": [
    "(2) y = {“math”: 70, “science”: 80, “english”: 20} 의 값의 모든 요소에 10을 더한뒤 출력하세요"
   ]
  },
  {
   "cell_type": "code",
   "execution_count": 21,
   "metadata": {},
   "outputs": [
    {
     "name": "stdout",
     "output_type": "stream",
     "text": [
      "math 700\n",
      "science 800\n",
      "english 200\n"
     ]
    }
   ],
   "source": [
    "y = {\"math\": 70, \"science\": 80, \"english\": 20}\n",
    "for i in y:\n",
    "    print(i, y[i]*10)"
   ]
  },
  {
   "cell_type": "markdown",
   "metadata": {},
   "source": [
    "**(심화): 실제 값 변경**"
   ]
  },
  {
   "cell_type": "code",
   "execution_count": 24,
   "metadata": {},
   "outputs": [
    {
     "name": "stdout",
     "output_type": "stream",
     "text": [
      "700\n",
      "800\n",
      "200\n"
     ]
    },
    {
     "data": {
      "text/plain": [
       "{'math': 700, 'science': 800, 'english': 200}"
      ]
     },
     "execution_count": 24,
     "metadata": {},
     "output_type": "execute_result"
    }
   ],
   "source": [
    "for k in y:\n",
    "    y[k] = y[k] * 10\n",
    "    print(y[k])\n",
    "y"
   ]
  },
  {
   "cell_type": "code",
   "execution_count": null,
   "metadata": {},
   "outputs": [],
   "source": []
  },
  {
   "cell_type": "markdown",
   "metadata": {},
   "source": [
    "(3) 숫자를 입력받고 입력받은 정수의 구구단을 출력하세요"
   ]
  },
  {
   "cell_type": "code",
   "execution_count": 25,
   "metadata": {},
   "outputs": [
    {
     "name": "stdout",
     "output_type": "stream",
     "text": [
      "몇 단?? 5\n",
      "5 * 1 = 5\n",
      "5 * 2 = 10\n",
      "5 * 3 = 15\n",
      "5 * 4 = 20\n",
      "5 * 5 = 25\n",
      "5 * 6 = 30\n",
      "5 * 7 = 35\n",
      "5 * 8 = 40\n",
      "5 * 9 = 45\n"
     ]
    }
   ],
   "source": [
    "num = int(input(\"몇 단?? \"))\n",
    "\n",
    "for i in range(1, 10):\n",
    "    print(\"{} * {} = {}\".format(num, i, num*i))"
   ]
  },
  {
   "cell_type": "markdown",
   "metadata": {},
   "source": [
    "## 연습문제3"
   ]
  },
  {
   "cell_type": "markdown",
   "metadata": {},
   "source": [
    "(1) word = [“school”, “game”, “piano”, “science”, “hotel”, “mountain”] 중 글자수가 6글자 이상인 문자를 모아 새로운 리스트를 생성하세요\n"
   ]
  },
  {
   "cell_type": "code",
   "execution_count": 28,
   "metadata": {},
   "outputs": [
    {
     "data": {
      "text/plain": [
       "['school', 'science', 'mountain']"
      ]
     },
     "execution_count": 28,
     "metadata": {},
     "output_type": "execute_result"
    }
   ],
   "source": [
    "word = [\"school\", \"game\", \"piano\",\"science\", \"hotel\", \"mountain\"]\n",
    "new_word = []\n",
    "for i in word:\n",
    "    if len(i) >=6:\n",
    "        new_word.append(i)\n",
    "new_word"
   ]
  },
  {
   "cell_type": "code",
   "execution_count": 29,
   "metadata": {},
   "outputs": [
    {
     "data": {
      "text/plain": [
       "['school', 'science', 'mountain']"
      ]
     },
     "execution_count": 29,
     "metadata": {},
     "output_type": "execute_result"
    }
   ],
   "source": [
    "new_word = [i for i in word if len(i)>=6]\n",
    "new_word"
   ]
  },
  {
   "cell_type": "code",
   "execution_count": 31,
   "metadata": {},
   "outputs": [
    {
     "data": {
      "text/plain": [
       "['school', 'piano', 'science', 'mountain']"
      ]
     },
     "execution_count": 31,
     "metadata": {},
     "output_type": "execute_result"
    }
   ],
   "source": [
    "# 잘못된 코드.\n",
    "word = [\"school\", \"game\", \"piano\",\"science\", \"hotel\", \"mountain\"]\n",
    "for idx, value in enumerate(word):\n",
    "    if len(value)<6:\n",
    "        del word[idx]\n",
    "word"
   ]
  },
  {
   "cell_type": "code",
   "execution_count": 33,
   "metadata": {},
   "outputs": [
    {
     "data": {
      "text/plain": [
       "['school', 'science', 'mountain']"
      ]
     },
     "execution_count": 33,
     "metadata": {},
     "output_type": "execute_result"
    }
   ],
   "source": [
    "word = [\"school\", \"game\", \"piano\",\"science\", \"hotel\", \"mountain\"]\n",
    "new_word = word.copy()\n",
    "\n",
    "for i in word:\n",
    "    if len(i)<6:\n",
    "        new_word.remove(i)\n",
    "new_word"
   ]
  },
  {
   "cell_type": "markdown",
   "metadata": {},
   "source": [
    "(2) 구구단을 1단부터 9단까지 출력하세요"
   ]
  },
  {
   "cell_type": "code",
   "execution_count": 34,
   "metadata": {
    "collapsed": true
   },
   "outputs": [
    {
     "name": "stdout",
     "output_type": "stream",
     "text": [
      "[1단]\n",
      "1 * 1 = 1\n",
      "1 * 2 = 2\n",
      "1 * 3 = 3\n",
      "1 * 4 = 4\n",
      "1 * 5 = 5\n",
      "1 * 6 = 6\n",
      "1 * 7 = 7\n",
      "1 * 8 = 8\n",
      "1 * 9 = 9\n",
      "----------\n",
      "[2단]\n",
      "2 * 1 = 2\n",
      "2 * 2 = 4\n",
      "2 * 3 = 6\n",
      "2 * 4 = 8\n",
      "2 * 5 = 10\n",
      "2 * 6 = 12\n",
      "2 * 7 = 14\n",
      "2 * 8 = 16\n",
      "2 * 9 = 18\n",
      "----------\n",
      "[3단]\n",
      "3 * 1 = 3\n",
      "3 * 2 = 6\n",
      "3 * 3 = 9\n",
      "3 * 4 = 12\n",
      "3 * 5 = 15\n",
      "3 * 6 = 18\n",
      "3 * 7 = 21\n",
      "3 * 8 = 24\n",
      "3 * 9 = 27\n",
      "----------\n",
      "[4단]\n",
      "4 * 1 = 4\n",
      "4 * 2 = 8\n",
      "4 * 3 = 12\n",
      "4 * 4 = 16\n",
      "4 * 5 = 20\n",
      "4 * 6 = 24\n",
      "4 * 7 = 28\n",
      "4 * 8 = 32\n",
      "4 * 9 = 36\n",
      "----------\n",
      "[5단]\n",
      "5 * 1 = 5\n",
      "5 * 2 = 10\n",
      "5 * 3 = 15\n",
      "5 * 4 = 20\n",
      "5 * 5 = 25\n",
      "5 * 6 = 30\n",
      "5 * 7 = 35\n",
      "5 * 8 = 40\n",
      "5 * 9 = 45\n",
      "----------\n",
      "[6단]\n",
      "6 * 1 = 6\n",
      "6 * 2 = 12\n",
      "6 * 3 = 18\n",
      "6 * 4 = 24\n",
      "6 * 5 = 30\n",
      "6 * 6 = 36\n",
      "6 * 7 = 42\n",
      "6 * 8 = 48\n",
      "6 * 9 = 54\n",
      "----------\n",
      "[7단]\n",
      "7 * 1 = 7\n",
      "7 * 2 = 14\n",
      "7 * 3 = 21\n",
      "7 * 4 = 28\n",
      "7 * 5 = 35\n",
      "7 * 6 = 42\n",
      "7 * 7 = 49\n",
      "7 * 8 = 56\n",
      "7 * 9 = 63\n",
      "----------\n",
      "[8단]\n",
      "8 * 1 = 8\n",
      "8 * 2 = 16\n",
      "8 * 3 = 24\n",
      "8 * 4 = 32\n",
      "8 * 5 = 40\n",
      "8 * 6 = 48\n",
      "8 * 7 = 56\n",
      "8 * 8 = 64\n",
      "8 * 9 = 72\n",
      "----------\n",
      "[9단]\n",
      "9 * 1 = 9\n",
      "9 * 2 = 18\n",
      "9 * 3 = 27\n",
      "9 * 4 = 36\n",
      "9 * 5 = 45\n",
      "9 * 6 = 54\n",
      "9 * 7 = 63\n",
      "9 * 8 = 72\n",
      "9 * 9 = 81\n",
      "----------\n"
     ]
    }
   ],
   "source": [
    "for i in range(1, 10):\n",
    "    print(\"[%s단]\" % i)\n",
    "    for j in range(1, 10):\n",
    "        print(\"{} * {} = {}\".format(i, j, i*j))\n",
    "    print(\"-\" * 10)"
   ]
  },
  {
   "cell_type": "markdown",
   "metadata": {},
   "source": [
    "## 연습문제4"
   ]
  },
  {
   "cell_type": "markdown",
   "metadata": {},
   "source": [
    "1-100 까지 숫자중  \n",
    "3과 5의 공배수일경우 “3과 5의 공배수”  \n",
    "나머지 숫자중 3의배수일경우 “3의배수”  \n",
    "나머지 숫자중 5의배수일경우 “5의배수”  \n",
    "모두 해당되지 않을경우 그냥숫자  \n",
    "를 출력하세요  \n"
   ]
  },
  {
   "cell_type": "code",
   "execution_count": 37,
   "metadata": {},
   "outputs": [
    {
     "name": "stdout",
     "output_type": "stream",
     "text": [
      "1\n",
      "2\n",
      "3의 배수\n",
      "4\n",
      "5의 배수\n",
      "3의 배수\n",
      "7\n",
      "8\n",
      "3의 배수\n",
      "5의 배수\n",
      "11\n",
      "3의 배수\n",
      "13\n",
      "14\n",
      "3과 5의 공배수\n",
      "16\n",
      "17\n",
      "3의 배수\n",
      "19\n",
      "5의 배수\n",
      "3의 배수\n",
      "22\n",
      "23\n",
      "3의 배수\n",
      "5의 배수\n",
      "26\n",
      "3의 배수\n",
      "28\n",
      "29\n",
      "3과 5의 공배수\n",
      "31\n",
      "32\n",
      "3의 배수\n",
      "34\n",
      "5의 배수\n",
      "3의 배수\n",
      "37\n",
      "38\n",
      "3의 배수\n",
      "5의 배수\n",
      "41\n",
      "3의 배수\n",
      "43\n",
      "44\n",
      "3과 5의 공배수\n",
      "46\n",
      "47\n",
      "3의 배수\n",
      "49\n",
      "5의 배수\n",
      "3의 배수\n",
      "52\n",
      "53\n",
      "3의 배수\n",
      "5의 배수\n",
      "56\n",
      "3의 배수\n",
      "58\n",
      "59\n",
      "3과 5의 공배수\n",
      "61\n",
      "62\n",
      "3의 배수\n",
      "64\n",
      "5의 배수\n",
      "3의 배수\n",
      "67\n",
      "68\n",
      "3의 배수\n",
      "5의 배수\n",
      "71\n",
      "3의 배수\n",
      "73\n",
      "74\n",
      "3과 5의 공배수\n",
      "76\n",
      "77\n",
      "3의 배수\n",
      "79\n",
      "5의 배수\n",
      "3의 배수\n",
      "82\n",
      "83\n",
      "3의 배수\n",
      "5의 배수\n",
      "86\n",
      "3의 배수\n",
      "88\n",
      "89\n",
      "3과 5의 공배수\n",
      "91\n",
      "92\n",
      "3의 배수\n",
      "94\n",
      "5의 배수\n",
      "3의 배수\n",
      "97\n",
      "98\n",
      "3의 배수\n",
      "5의 배수\n"
     ]
    }
   ],
   "source": [
    "n = 101\n",
    "\n",
    "for i in range(1, n):\n",
    "    # &, |\n",
    "    if (i % 3 == 0) and (i % 5 == 0):\n",
    "        print(\"3과 5의 공배수\")\n",
    "    elif i % 3 == 0:\n",
    "        print(\"3의 배수\")\n",
    "    elif i % 5 == 0:\n",
    "        print(\"5의 배수\")\n",
    "    else:\n",
    "        print(i)"
   ]
  },
  {
   "cell_type": "code",
   "execution_count": 38,
   "metadata": {},
   "outputs": [
    {
     "name": "stdout",
     "output_type": "stream",
     "text": [
      "숫자입력: 500\n",
      "1\n",
      "2\n",
      "3의 배수\n",
      "4\n",
      "5의 배수\n",
      "3의 배수\n",
      "7\n",
      "8\n",
      "3의 배수\n",
      "5의 배수\n",
      "11\n",
      "3의 배수\n",
      "13\n",
      "14\n",
      "3과 5의 공배수\n",
      "16\n",
      "17\n",
      "3의 배수\n",
      "19\n",
      "5의 배수\n",
      "3의 배수\n",
      "22\n",
      "23\n",
      "3의 배수\n",
      "5의 배수\n",
      "26\n",
      "3의 배수\n",
      "28\n",
      "29\n",
      "3과 5의 공배수\n",
      "31\n",
      "32\n",
      "3의 배수\n",
      "34\n",
      "5의 배수\n",
      "3의 배수\n",
      "37\n",
      "38\n",
      "3의 배수\n",
      "5의 배수\n",
      "41\n",
      "3의 배수\n",
      "43\n",
      "44\n",
      "3과 5의 공배수\n",
      "46\n",
      "47\n",
      "3의 배수\n",
      "49\n",
      "5의 배수\n",
      "3의 배수\n",
      "52\n",
      "53\n",
      "3의 배수\n",
      "5의 배수\n",
      "56\n",
      "3의 배수\n",
      "58\n",
      "59\n",
      "3과 5의 공배수\n",
      "61\n",
      "62\n",
      "3의 배수\n",
      "64\n",
      "5의 배수\n",
      "3의 배수\n",
      "67\n",
      "68\n",
      "3의 배수\n",
      "5의 배수\n",
      "71\n",
      "3의 배수\n",
      "73\n",
      "74\n",
      "3과 5의 공배수\n",
      "76\n",
      "77\n",
      "3의 배수\n",
      "79\n",
      "5의 배수\n",
      "3의 배수\n",
      "82\n",
      "83\n",
      "3의 배수\n",
      "5의 배수\n",
      "86\n",
      "3의 배수\n",
      "88\n",
      "89\n",
      "3과 5의 공배수\n",
      "91\n",
      "92\n",
      "3의 배수\n",
      "94\n",
      "5의 배수\n",
      "3의 배수\n",
      "97\n",
      "98\n",
      "3의 배수\n",
      "5의 배수\n",
      "101\n",
      "3의 배수\n",
      "103\n",
      "104\n",
      "3과 5의 공배수\n",
      "106\n",
      "107\n",
      "3의 배수\n",
      "109\n",
      "5의 배수\n",
      "3의 배수\n",
      "112\n",
      "113\n",
      "3의 배수\n",
      "5의 배수\n",
      "116\n",
      "3의 배수\n",
      "118\n",
      "119\n",
      "3과 5의 공배수\n",
      "121\n",
      "122\n",
      "3의 배수\n",
      "124\n",
      "5의 배수\n",
      "3의 배수\n",
      "127\n",
      "128\n",
      "3의 배수\n",
      "5의 배수\n",
      "131\n",
      "3의 배수\n",
      "133\n",
      "134\n",
      "3과 5의 공배수\n",
      "136\n",
      "137\n",
      "3의 배수\n",
      "139\n",
      "5의 배수\n",
      "3의 배수\n",
      "142\n",
      "143\n",
      "3의 배수\n",
      "5의 배수\n",
      "146\n",
      "3의 배수\n",
      "148\n",
      "149\n",
      "3과 5의 공배수\n",
      "151\n",
      "152\n",
      "3의 배수\n",
      "154\n",
      "5의 배수\n",
      "3의 배수\n",
      "157\n",
      "158\n",
      "3의 배수\n",
      "5의 배수\n",
      "161\n",
      "3의 배수\n",
      "163\n",
      "164\n",
      "3과 5의 공배수\n",
      "166\n",
      "167\n",
      "3의 배수\n",
      "169\n",
      "5의 배수\n",
      "3의 배수\n",
      "172\n",
      "173\n",
      "3의 배수\n",
      "5의 배수\n",
      "176\n",
      "3의 배수\n",
      "178\n",
      "179\n",
      "3과 5의 공배수\n",
      "181\n",
      "182\n",
      "3의 배수\n",
      "184\n",
      "5의 배수\n",
      "3의 배수\n",
      "187\n",
      "188\n",
      "3의 배수\n",
      "5의 배수\n",
      "191\n",
      "3의 배수\n",
      "193\n",
      "194\n",
      "3과 5의 공배수\n",
      "196\n",
      "197\n",
      "3의 배수\n",
      "199\n",
      "5의 배수\n",
      "3의 배수\n",
      "202\n",
      "203\n",
      "3의 배수\n",
      "5의 배수\n",
      "206\n",
      "3의 배수\n",
      "208\n",
      "209\n",
      "3과 5의 공배수\n",
      "211\n",
      "212\n",
      "3의 배수\n",
      "214\n",
      "5의 배수\n",
      "3의 배수\n",
      "217\n",
      "218\n",
      "3의 배수\n",
      "5의 배수\n",
      "221\n",
      "3의 배수\n",
      "223\n",
      "224\n",
      "3과 5의 공배수\n",
      "226\n",
      "227\n",
      "3의 배수\n",
      "229\n",
      "5의 배수\n",
      "3의 배수\n",
      "232\n",
      "233\n",
      "3의 배수\n",
      "5의 배수\n",
      "236\n",
      "3의 배수\n",
      "238\n",
      "239\n",
      "3과 5의 공배수\n",
      "241\n",
      "242\n",
      "3의 배수\n",
      "244\n",
      "5의 배수\n",
      "3의 배수\n",
      "247\n",
      "248\n",
      "3의 배수\n",
      "5의 배수\n",
      "251\n",
      "3의 배수\n",
      "253\n",
      "254\n",
      "3과 5의 공배수\n",
      "256\n",
      "257\n",
      "3의 배수\n",
      "259\n",
      "5의 배수\n",
      "3의 배수\n",
      "262\n",
      "263\n",
      "3의 배수\n",
      "5의 배수\n",
      "266\n",
      "3의 배수\n",
      "268\n",
      "269\n",
      "3과 5의 공배수\n",
      "271\n",
      "272\n",
      "3의 배수\n",
      "274\n",
      "5의 배수\n",
      "3의 배수\n",
      "277\n",
      "278\n",
      "3의 배수\n",
      "5의 배수\n",
      "281\n",
      "3의 배수\n",
      "283\n",
      "284\n",
      "3과 5의 공배수\n",
      "286\n",
      "287\n",
      "3의 배수\n",
      "289\n",
      "5의 배수\n",
      "3의 배수\n",
      "292\n",
      "293\n",
      "3의 배수\n",
      "5의 배수\n",
      "296\n",
      "3의 배수\n",
      "298\n",
      "299\n",
      "3과 5의 공배수\n",
      "301\n",
      "302\n",
      "3의 배수\n",
      "304\n",
      "5의 배수\n",
      "3의 배수\n",
      "307\n",
      "308\n",
      "3의 배수\n",
      "5의 배수\n",
      "311\n",
      "3의 배수\n",
      "313\n",
      "314\n",
      "3과 5의 공배수\n",
      "316\n",
      "317\n",
      "3의 배수\n",
      "319\n",
      "5의 배수\n",
      "3의 배수\n",
      "322\n",
      "323\n",
      "3의 배수\n",
      "5의 배수\n",
      "326\n",
      "3의 배수\n",
      "328\n",
      "329\n",
      "3과 5의 공배수\n",
      "331\n",
      "332\n",
      "3의 배수\n",
      "334\n",
      "5의 배수\n",
      "3의 배수\n",
      "337\n",
      "338\n",
      "3의 배수\n",
      "5의 배수\n",
      "341\n",
      "3의 배수\n",
      "343\n",
      "344\n",
      "3과 5의 공배수\n",
      "346\n",
      "347\n",
      "3의 배수\n",
      "349\n",
      "5의 배수\n",
      "3의 배수\n",
      "352\n",
      "353\n",
      "3의 배수\n",
      "5의 배수\n",
      "356\n",
      "3의 배수\n",
      "358\n",
      "359\n",
      "3과 5의 공배수\n",
      "361\n",
      "362\n",
      "3의 배수\n",
      "364\n",
      "5의 배수\n",
      "3의 배수\n",
      "367\n",
      "368\n",
      "3의 배수\n",
      "5의 배수\n",
      "371\n",
      "3의 배수\n",
      "373\n",
      "374\n",
      "3과 5의 공배수\n",
      "376\n",
      "377\n",
      "3의 배수\n",
      "379\n",
      "5의 배수\n",
      "3의 배수\n",
      "382\n",
      "383\n",
      "3의 배수\n",
      "5의 배수\n",
      "386\n",
      "3의 배수\n",
      "388\n",
      "389\n",
      "3과 5의 공배수\n",
      "391\n",
      "392\n",
      "3의 배수\n",
      "394\n",
      "5의 배수\n",
      "3의 배수\n",
      "397\n",
      "398\n",
      "3의 배수\n",
      "5의 배수\n",
      "401\n",
      "3의 배수\n",
      "403\n",
      "404\n",
      "3과 5의 공배수\n",
      "406\n",
      "407\n",
      "3의 배수\n",
      "409\n",
      "5의 배수\n",
      "3의 배수\n",
      "412\n",
      "413\n",
      "3의 배수\n",
      "5의 배수\n",
      "416\n",
      "3의 배수\n",
      "418\n",
      "419\n",
      "3과 5의 공배수\n",
      "421\n",
      "422\n",
      "3의 배수\n",
      "424\n",
      "5의 배수\n",
      "3의 배수\n",
      "427\n",
      "428\n",
      "3의 배수\n",
      "5의 배수\n",
      "431\n",
      "3의 배수\n",
      "433\n",
      "434\n",
      "3과 5의 공배수\n",
      "436\n",
      "437\n",
      "3의 배수\n",
      "439\n",
      "5의 배수\n",
      "3의 배수\n",
      "442\n",
      "443\n",
      "3의 배수\n",
      "5의 배수\n",
      "446\n",
      "3의 배수\n",
      "448\n",
      "449\n",
      "3과 5의 공배수\n",
      "451\n",
      "452\n",
      "3의 배수\n",
      "454\n",
      "5의 배수\n",
      "3의 배수\n",
      "457\n",
      "458\n",
      "3의 배수\n",
      "5의 배수\n",
      "461\n",
      "3의 배수\n",
      "463\n",
      "464\n",
      "3과 5의 공배수\n",
      "466\n",
      "467\n",
      "3의 배수\n",
      "469\n",
      "5의 배수\n",
      "3의 배수\n",
      "472\n",
      "473\n",
      "3의 배수\n",
      "5의 배수\n",
      "476\n",
      "3의 배수\n",
      "478\n",
      "479\n",
      "3과 5의 공배수\n",
      "481\n",
      "482\n",
      "3의 배수\n",
      "484\n",
      "5의 배수\n",
      "3의 배수\n",
      "487\n",
      "488\n",
      "3의 배수\n",
      "5의 배수\n",
      "491\n",
      "3의 배수\n",
      "493\n",
      "494\n",
      "3과 5의 공배수\n",
      "496\n",
      "497\n",
      "3의 배수\n",
      "499\n"
     ]
    }
   ],
   "source": [
    "# 심화\n",
    "n = int(input(\"숫자입력: \"))\n",
    "\n",
    "for i in range(1, n):\n",
    "    # &, |\n",
    "    if (i % 3 == 0) and (i % 5 == 0):\n",
    "        print(\"3과 5의 공배수\")\n",
    "    elif i % 3 == 0:\n",
    "        print(\"3의 배수\")\n",
    "    elif i % 5 == 0:\n",
    "        print(\"5의 배수\")\n",
    "    else:\n",
    "        print(i)"
   ]
  },
  {
   "cell_type": "markdown",
   "metadata": {},
   "source": [
    "# While문"
   ]
  },
  {
   "cell_type": "code",
   "execution_count": 39,
   "metadata": {},
   "outputs": [
    {
     "name": "stdout",
     "output_type": "stream",
     "text": [
      "i: 0\n",
      "i: 1\n",
      "i: 2\n",
      "i: 3\n",
      "i: 4\n"
     ]
    }
   ],
   "source": [
    "i = 0\n",
    "while i<5:\n",
    "    print(\"i:\", i)\n",
    "    i += 1\n",
    "    # i = i + 1"
   ]
  },
  {
   "cell_type": "code",
   "execution_count": 43,
   "metadata": {},
   "outputs": [
    {
     "name": "stdout",
     "output_type": "stream",
     "text": [
      "s가 입력되면 멈춥니다.s\n",
      "프로세스 동작중\n",
      "s가 입력되면 멈춥니다.s\n",
      "프로세스 동작중\n",
      "s가 입력되면 멈춥니다.s\n",
      "프로세스 동작중\n",
      "s가 입력되면 멈춥니다.S\n"
     ]
    }
   ],
   "source": [
    "i = input(\"s가 입력되면 멈춥니다.\")\n",
    "while i.upper() != 'exit':\n",
    "    print(\"프로세스 동작중\")\n",
    "    i = input(\"s가 입력되면 멈춥니다.\")\n",
    "    "
   ]
  },
  {
   "cell_type": "markdown",
   "metadata": {},
   "source": [
    "## 연습문제5\n",
    "사용자로부터 숫자를 계속 입력받다가  \n",
    "s or S 를 입력하면 합계출력"
   ]
  },
  {
   "cell_type": "code",
   "execution_count": 45,
   "metadata": {
    "collapsed": true
   },
   "outputs": [
    {
     "name": "stdout",
     "output_type": "stream",
     "text": [
      "숫자입력: 5\n",
      "숫자입력: 3\n",
      "숫자입력: 2\n",
      "숫자입력: s\n"
     ]
    },
    {
     "data": {
      "text/plain": [
       "10"
      ]
     },
     "execution_count": 45,
     "metadata": {},
     "output_type": "execute_result"
    }
   ],
   "source": [
    "num =input(\"숫자입력: \")\n",
    "\n",
    "result = 0\n",
    "\n",
    "while num.lower() != 's':\n",
    "    result += int(num)\n",
    "    num = input(\"숫자입력: \")\n",
    "result"
   ]
  },
  {
   "cell_type": "code",
   "execution_count": 50,
   "metadata": {
    "collapsed": true
   },
   "outputs": [
    {
     "name": "stdout",
     "output_type": "stream",
     "text": [
      "숫자입력5\n",
      "숫자입력3\n",
      "숫자입력2\n",
      "숫자입력s\n"
     ]
    },
    {
     "data": {
      "text/plain": [
       "10"
      ]
     },
     "execution_count": 50,
     "metadata": {},
     "output_type": "execute_result"
    }
   ],
   "source": [
    "num = input(\"숫자입력\")\n",
    "result_list = []\n",
    "\n",
    "while num.lower() != 's':\n",
    "    result_list.append(num)\n",
    "    num = input(\"숫자입력\")\n",
    "\n",
    "# result = 0\n",
    "# for i in result_list:\n",
    "#     result += int(i)\n",
    "# result\n",
    "sum(map(int, result_list))"
   ]
  },
  {
   "cell_type": "code",
   "execution_count": 48,
   "metadata": {},
   "outputs": [
    {
     "data": {
      "text/plain": [
       "8"
      ]
     },
     "execution_count": 48,
     "metadata": {},
     "output_type": "execute_result"
    }
   ],
   "source": [
    "result"
   ]
  },
  {
   "cell_type": "markdown",
   "metadata": {},
   "source": [
    "## 연습문제6. 가위바위보"
   ]
  },
  {
   "cell_type": "code",
   "execution_count": 62,
   "metadata": {},
   "outputs": [
    {
     "data": {
      "text/plain": [
       "2"
      ]
     },
     "execution_count": 62,
     "metadata": {},
     "output_type": "execute_result"
    }
   ],
   "source": [
    "import random\n",
    "random.randint(1, 3)"
   ]
  },
  {
   "cell_type": "markdown",
   "metadata": {},
   "source": [
    "가위(1), 바위(2), 보(3) 을 입력해주세요! : 3  \n",
    "유저 : 보, 컴퓨터 : 보 \n",
    "\n",
    "\n",
    "가위(1), 바위(2), 보(3) 을 입력해주세요! : 2  \n",
    "유저 : 바위, 컴퓨터 : 보  \n",
    "\n",
    "\n",
    "가위(1), 바위(2), 보(3) 을 입력해주세요! : 1  \n",
    "유저 : 가위, 컴퓨터 : 보  \n",
    "\n",
    "\n",
    "가위(1), 바위(2), 보(3) 을 입력해주세요! : 4  \n",
    "  \n",
    "게임종료 (전체:3 ,승리:1)  \n",
    "\n",
    "1~3 을 입력하면 게임진행 이외의 숫자를 입력하면 게임종료  \n",
    "심화 : 비긴숫자도 출력하세요 (전체:3, 승리:1, 비김:1)  \n",
    "\n",
    "\n"
   ]
  },
  {
   "cell_type": "code",
   "execution_count": 72,
   "metadata": {},
   "outputs": [
    {
     "name": "stdout",
     "output_type": "stream",
     "text": [
      "가위(1), 바위(2), 보(3) 을 입력해주세요!:2\n",
      "유저: 바위, 컴퓨터: 바위\n",
      "가위(1), 바위(2), 보(3) 을 입력해주세요!:3\n",
      "유저: 보, 컴퓨터: 가위\n",
      "가위(1), 바위(2), 보(3) 을 입력해주세요!:3\n",
      "유저: 보, 컴퓨터: 바위\n",
      "가위(1), 바위(2), 보(3) 을 입력해주세요!:5\n",
      "게임종료(전체: 3, 승리:1,비김:1 )\n"
     ]
    }
   ],
   "source": [
    "user = int(input(\"가위(1), 바위(2), 보(3) 을 입력해주세요!:\"))\n",
    "com = random.randint(1, 3)\n",
    "\n",
    "rsp_list = [None, \"가위\", \"바위\", \"보\"]\n",
    "\n",
    "rsp_dict = {\n",
    "    1: \"가위\",\n",
    "    2: \"바위\",\n",
    "    3: \"보\"\n",
    "}\n",
    "\n",
    "total = 0\n",
    "win = 0\n",
    "draw = 0\n",
    "\n",
    "while user in [1, 2, 3]:\n",
    "    # user = int(user)\n",
    "    # print(\"유저: {}, 컴퓨터: {}\".format(rsp_list[user], rsp_list[com]))\n",
    "\n",
    "    print(\"유저: {}, 컴퓨터: {}\".format(rsp_dict[user], rsp_dict[com]))\n",
    "\n",
    "    ## 비긴경우\n",
    "    if user == com:\n",
    "        draw += 1\n",
    "    ## 이긴경우\n",
    "    elif (user ==1 and com==3) or (user==2 and com==1) or (user==3 and com==2):\n",
    "        win += 1\n",
    "    ## 진경우 => 전체 - (승리+비김)\n",
    "    total += 1\n",
    "    \n",
    "    user = int(input(\"가위(1), 바위(2), 보(3) 을 입력해주세요!:\"))\n",
    "    com = random.randint(1, 3)\n",
    "    \n",
    "print(\"게임종료(전체: {}, 승리:{},비김:{} )\".format(total, win, draw))"
   ]
  },
  {
   "cell_type": "markdown",
   "metadata": {},
   "source": [
    "# Break, Continue"
   ]
  },
  {
   "cell_type": "code",
   "execution_count": 73,
   "metadata": {},
   "outputs": [
    {
     "name": "stdout",
     "output_type": "stream",
     "text": [
      "0\n",
      "1\n",
      "2\n"
     ]
    }
   ],
   "source": [
    "for i in range(5):\n",
    "    if i == 3:\n",
    "        break\n",
    "    print(i)"
   ]
  },
  {
   "cell_type": "code",
   "execution_count": 75,
   "metadata": {},
   "outputs": [
    {
     "name": "stdout",
     "output_type": "stream",
     "text": [
      "0\n",
      "1\n",
      "2\n",
      "3\n",
      "4\n",
      "5\n",
      "9\n"
     ]
    }
   ],
   "source": [
    "for i in range(10):\n",
    "    if 5<i<=8:\n",
    "        continue\n",
    "    print(i)"
   ]
  },
  {
   "cell_type": "code",
   "execution_count": 77,
   "metadata": {},
   "outputs": [
    {
     "name": "stdout",
     "output_type": "stream",
     "text": [
      "Hello\n",
      "s입력시 멈춥니다.2\n",
      "Hello\n",
      "s입력시 멈춥니다.5\n",
      "Hello\n",
      "s입력시 멈춥니다.s\n"
     ]
    }
   ],
   "source": [
    "# Loop\n",
    "while True:\n",
    "    print(\"Hello\")\n",
    "    num = input('s입력시 멈춥니다.')\n",
    "    if num.lower() == 's':\n",
    "        break"
   ]
  },
  {
   "cell_type": "markdown",
   "metadata": {},
   "source": [
    "## 연습문제 11\n",
    "(1) while 문과 break 문을 사용하여 사용자가 입력한 숫자만큼 반복하여 ‘hi’ 출력하기\n"
   ]
  },
  {
   "cell_type": "code",
   "execution_count": 78,
   "metadata": {},
   "outputs": [
    {
     "name": "stdout",
     "output_type": "stream",
     "text": [
      "입력5\n",
      "hi\n",
      "hi\n",
      "hi\n",
      "hi\n",
      "hi\n"
     ]
    }
   ],
   "source": [
    "num = int(input(\"입력\"))\n",
    "count = 0\n",
    "while True:\n",
    "    if count < num:\n",
    "        print(\"hi\")\n",
    "    else:\n",
    "        break\n",
    "    count += 1"
   ]
  },
  {
   "cell_type": "markdown",
   "metadata": {},
   "source": [
    "(2) for 문과 continue 문을 사용하여 사용자가 입력한 숫자까지의 짝수를 출력하기"
   ]
  },
  {
   "cell_type": "code",
   "execution_count": 79,
   "metadata": {},
   "outputs": [
    {
     "name": "stdout",
     "output_type": "stream",
     "text": [
      "숫자입력:12\n",
      "0\n",
      "2\n",
      "4\n",
      "6\n",
      "8\n",
      "10\n"
     ]
    }
   ],
   "source": [
    "num = int(input(\"숫자입력:\"))\n",
    "\n",
    "for i in range(num):\n",
    "    if not (i % 2 ==0):\n",
    "        continue\n",
    "    print(i)"
   ]
  },
  {
   "cell_type": "code",
   "execution_count": null,
   "metadata": {},
   "outputs": [],
   "source": []
  },
  {
   "cell_type": "code",
   "execution_count": null,
   "metadata": {},
   "outputs": [],
   "source": [
    "for i in range(5):\n",
    "    for j in range(5):\n",
    "        if j ==3:\n",
    "            break"
   ]
  },
  {
   "cell_type": "markdown",
   "metadata": {},
   "source": [
    "## 연습문제7 "
   ]
  },
  {
   "cell_type": "markdown",
   "metadata": {},
   "source": [
    "randint함수를 사용하여 정수(1~1000)로 이루어진 길이가 100개인 리스트 a를 만들고 \n",
    "가장 큰 수를 구하는 코드를 작성하시오.\n",
    "\n",
    "예) a=[32, 45, 2, 5, 76] 일때, 출력결과는 76이 나와야 함.\n",
    "\n",
    "\n",
    "\n"
   ]
  },
  {
   "cell_type": "code",
   "execution_count": 80,
   "metadata": {},
   "outputs": [],
   "source": [
    "new_list = []\n",
    "max_num = 0\n",
    "\n",
    "# 리스트 만들기\n",
    "for i in range(100):\n",
    "    rand_num = random.randint(1, 1000)\n",
    "    new_list.append(rand_num)\n",
    "    \n",
    "    if max_num < rand_num:\n",
    "        max_num = rand_num\n",
    "\n",
    "# 큰 수 구하기\n"
   ]
  },
  {
   "cell_type": "code",
   "execution_count": 82,
   "metadata": {},
   "outputs": [
    {
     "name": "stdout",
     "output_type": "stream",
     "text": [
      "[267, 797, 656, 919, 863, 588, 847, 88, 311, 110, 839, 838, 618, 55, 152, 635, 567, 373, 171, 668, 640, 470, 575, 117, 363, 370, 930, 578, 768, 710, 196, 983, 846, 610, 570, 532, 166, 677, 351, 770, 153, 970, 173, 517, 355, 937, 479, 502, 704, 316, 502, 144, 500, 351, 507, 43, 267, 393, 966, 711, 988, 410, 294, 669, 499, 791, 250, 289, 738, 685, 615, 345, 887, 276, 773, 892, 540, 976, 16, 890, 284, 576, 970, 240, 822, 572, 716, 952, 387, 701, 666, 217, 490, 556, 45, 885, 60, 598, 902, 293]\n"
     ]
    }
   ],
   "source": [
    "print(new_list)"
   ]
  },
  {
   "cell_type": "code",
   "execution_count": 83,
   "metadata": {},
   "outputs": [
    {
     "name": "stdout",
     "output_type": "stream",
     "text": [
      "988\n"
     ]
    }
   ],
   "source": [
    "print(max_num)"
   ]
  },
  {
   "cell_type": "code",
   "execution_count": 84,
   "metadata": {},
   "outputs": [
    {
     "data": {
      "text/plain": [
       "988"
      ]
     },
     "execution_count": 84,
     "metadata": {},
     "output_type": "execute_result"
    }
   ],
   "source": [
    "max(new_list)"
   ]
  },
  {
   "cell_type": "markdown",
   "metadata": {},
   "source": [
    "## 연습문제8"
   ]
  },
  {
   "cell_type": "markdown",
   "metadata": {},
   "source": [
    "randint함수를 사용하여 정수(1~1000)로 이루어진 길이가 100개인 리스트 a를 만들고 \n",
    "리스트의 모든 요소의 합계를 구하는 코드를 작성하시오.\n",
    "\n",
    "예) a=[32, 45, 2, 5, 76] 일때, 출력결과는 160이 나와야 함.\n",
    "\n"
   ]
  },
  {
   "cell_type": "code",
   "execution_count": 85,
   "metadata": {},
   "outputs": [
    {
     "data": {
      "text/plain": [
       "54589"
      ]
     },
     "execution_count": 85,
     "metadata": {},
     "output_type": "execute_result"
    }
   ],
   "source": [
    "new_list = []\n",
    "sum_num = 0\n",
    "\n",
    "# 리스트 만들기\n",
    "for i in range(100):\n",
    "    rand_num = random.randint(1, 1000)\n",
    "    new_list.append(rand_num)\n",
    "    sum_num += rand_num\n",
    "    \n",
    "\n",
    "# 합계\n",
    "sum_num\n"
   ]
  },
  {
   "cell_type": "code",
   "execution_count": 86,
   "metadata": {},
   "outputs": [
    {
     "data": {
      "text/plain": [
       "54589"
      ]
     },
     "execution_count": 86,
     "metadata": {},
     "output_type": "execute_result"
    }
   ],
   "source": [
    "sum(new_list)"
   ]
  },
  {
   "cell_type": "markdown",
   "metadata": {},
   "source": [
    "# 리스트 컴프리핸션 "
   ]
  },
  {
   "cell_type": "code",
   "execution_count": 88,
   "metadata": {},
   "outputs": [
    {
     "data": {
      "text/plain": [
       "[1, 2, 3, 4]"
      ]
     },
     "execution_count": 88,
     "metadata": {},
     "output_type": "execute_result"
    }
   ],
   "source": [
    "list(range(1,5))"
   ]
  },
  {
   "cell_type": "code",
   "execution_count": 89,
   "metadata": {},
   "outputs": [
    {
     "data": {
      "text/plain": [
       "[10, 20, 30, 40]"
      ]
     },
     "execution_count": 89,
     "metadata": {},
     "output_type": "execute_result"
    }
   ],
   "source": [
    "# 1. range\n",
    "list(range(10,50, 10))"
   ]
  },
  {
   "cell_type": "code",
   "execution_count": 91,
   "metadata": {},
   "outputs": [
    {
     "data": {
      "text/plain": [
       "[10, 20, 30, 40]"
      ]
     },
     "execution_count": 91,
     "metadata": {},
     "output_type": "execute_result"
    }
   ],
   "source": [
    "# 2. new_list\n",
    "new_list = []\n",
    "for i in range(1, 5):\n",
    "    new_list.append(i*10)\n",
    "new_list"
   ]
  },
  {
   "cell_type": "code",
   "execution_count": 94,
   "metadata": {},
   "outputs": [
    {
     "data": {
      "text/plain": [
       "[17.5, 27.5, 37.5, 47.5]"
      ]
     },
     "execution_count": 94,
     "metadata": {},
     "output_type": "execute_result"
    }
   ],
   "source": [
    "# syntax\n",
    "new_list = [i*10 + 7.5 for i in range(1, 5)]\n",
    "new_list"
   ]
  },
  {
   "cell_type": "code",
   "execution_count": 96,
   "metadata": {},
   "outputs": [
    {
     "name": "stdout",
     "output_type": "stream",
     "text": [
      "[3, 6, 9, 12, 15, 18, 21, 24, 27, 30, 33, 36, 39, 42, 45, 48, 51, 54, 57, 60, 63, 66, 69, 72, 75, 78, 81, 84, 87, 90, 93, 96, 99]\n"
     ]
    }
   ],
   "source": [
    "# 1부터 100까지의 숫자중에서 3의 배수만 모아서 새로운 리스트를 만드시오.\n",
    "new_list = []\n",
    "for i in range(1, 101):\n",
    "    if i % 3 == 0:\n",
    "        new_list.append(i)\n",
    "print(new_list)"
   ]
  },
  {
   "cell_type": "code",
   "execution_count": 97,
   "metadata": {},
   "outputs": [
    {
     "name": "stdout",
     "output_type": "stream",
     "text": [
      "[3, 6, 9, 12, 15, 18, 21, 24, 27, 30, 33, 36, 39, 42, 45, 48, 51, 54, 57, 60, 63, 66, 69, 72, 75, 78, 81, 84, 87, 90, 93, 96, 99]\n"
     ]
    }
   ],
   "source": [
    "new_list = [i for i in range(1, 101) if i%3==0]\n",
    "print(new_list)"
   ]
  },
  {
   "cell_type": "code",
   "execution_count": 100,
   "metadata": {},
   "outputs": [
    {
     "name": "stdout",
     "output_type": "stream",
     "text": [
      "100\n",
      "[1, 2, 3, 4, 5, 6, 7, 8, 9, 10, 2, 4, 6, 8, 10, 12, 14, 16, 18, 20, 3, 6, 9, 12, 15, 18, 21, 24, 27, 30, 4, 8, 12, 16, 20, 24, 28, 32, 36, 40, 5, 10, 15, 20, 25, 30, 35, 40, 45, 50, 6, 12, 18, 24, 30, 36, 42, 48, 54, 60, 7, 14, 21, 28, 35, 42, 49, 56, 63, 70, 8, 16, 24, 32, 40, 48, 56, 64, 72, 80, 9, 18, 27, 36, 45, 54, 63, 72, 81, 90, 10, 20, 30, 40, 50, 60, 70, 80, 90, 100]\n"
     ]
    }
   ],
   "source": [
    "new_list = [i*j for i in range(1, 11) for j in range(1, 11)]\n",
    "print(len(new_list))\n",
    "print(new_list)"
   ]
  },
  {
   "cell_type": "code",
   "execution_count": 101,
   "metadata": {},
   "outputs": [
    {
     "data": {
      "text/plain": [
       "{'city': 'Seoul', 'name': '신윤수', 'height': 180}"
      ]
     },
     "execution_count": 101,
     "metadata": {},
     "output_type": "execute_result"
    }
   ],
   "source": [
    "keys = ['city', 'name', 'height']\n",
    "value = ['Seoul', '신윤수', 180]\n",
    "\n",
    "new_dict = {keys[i]: value[i] for i in range(len(keys))}\n",
    "new_dict"
   ]
  },
  {
   "cell_type": "markdown",
   "metadata": {},
   "source": [
    "### zip "
   ]
  },
  {
   "cell_type": "code",
   "execution_count": 102,
   "metadata": {},
   "outputs": [
    {
     "name": "stdout",
     "output_type": "stream",
     "text": [
      "city Seoul\n",
      "name 신윤수\n",
      "height 180\n"
     ]
    }
   ],
   "source": [
    "for i in range(len(keys)):\n",
    "    k = keys[i]\n",
    "    v = value[i]\n",
    "    print(k, v)"
   ]
  },
  {
   "cell_type": "code",
   "execution_count": 105,
   "metadata": {},
   "outputs": [
    {
     "data": {
      "text/plain": [
       "[('city', 'Seoul'), ('name', '신윤수'), ('height', 180)]"
      ]
     },
     "execution_count": 105,
     "metadata": {},
     "output_type": "execute_result"
    }
   ],
   "source": [
    "keys = ['city', 'name', 'height']\n",
    "value = ['Seoul', '신윤수', 180]\n",
    "\n",
    "list(zip(keys, value))"
   ]
  },
  {
   "cell_type": "code",
   "execution_count": 106,
   "metadata": {},
   "outputs": [
    {
     "name": "stdout",
     "output_type": "stream",
     "text": [
      "city Seoul\n",
      "name 신윤수\n",
      "height 180\n"
     ]
    }
   ],
   "source": [
    "for k, v in zip(keys, value):\n",
    "    print(k, v)"
   ]
  },
  {
   "cell_type": "code",
   "execution_count": 110,
   "metadata": {},
   "outputs": [
    {
     "data": {
      "text/plain": [
       "[('city', 'Seoul', 'a'), ('name', '신윤수', 'b'), ('height', 180, 'c')]"
      ]
     },
     "execution_count": 110,
     "metadata": {},
     "output_type": "execute_result"
    }
   ],
   "source": [
    "keys = ['city', 'name', 'height']\n",
    "value = ['Seoul', '신윤수', 180]\n",
    "sample = ['a', 'b', 'c']\n",
    "\n",
    "list(zip(keys, value, sample))"
   ]
  },
  {
   "cell_type": "code",
   "execution_count": 111,
   "metadata": {},
   "outputs": [
    {
     "data": {
      "text/plain": [
       "{'city': 'Seoul', 'name': '신윤수', 'height': 180}"
      ]
     },
     "execution_count": 111,
     "metadata": {},
     "output_type": "execute_result"
    }
   ],
   "source": [
    "dict(zip(keys, value))"
   ]
  },
  {
   "cell_type": "markdown",
   "metadata": {},
   "source": [
    "## 연습문제9"
   ]
  },
  {
   "cell_type": "markdown",
   "metadata": {},
   "source": [
    "(1) word = [“school”, “game”, “piano”, “science”, “hotel”, “mountain”] 중 글자수가 6글자 이상인 문자를 모아 새로운 리스트를 생성하세요\n",
    "(리스트 컴프리핸션을 사용해주세요)\n"
   ]
  },
  {
   "cell_type": "code",
   "execution_count": 115,
   "metadata": {},
   "outputs": [
    {
     "data": {
      "text/plain": [
       "['school', 'science', 'mountain']"
      ]
     },
     "execution_count": 115,
     "metadata": {},
     "output_type": "execute_result"
    }
   ],
   "source": [
    "word = ['school', 'game', 'piano', 'science', 'hotel', 'mountain']\n",
    "new_list = [w for w in word if len(w)>=6]\n",
    "new_list"
   ]
  },
  {
   "cell_type": "markdown",
   "metadata": {},
   "source": [
    "(2) word = [“school”, “game”, “piano”, “science”, “hotel”, “mountain”] 리스트의 글자수가 들어가있는 새로운 리스트를 생성하세요\n",
    "(리스트 컴프리핸션을 사용해주세요)\n"
   ]
  },
  {
   "cell_type": "code",
   "execution_count": 116,
   "metadata": {},
   "outputs": [
    {
     "data": {
      "text/plain": [
       "[6, 4, 5, 7, 5, 8]"
      ]
     },
     "execution_count": 116,
     "metadata": {},
     "output_type": "execute_result"
    }
   ],
   "source": [
    "word = ['school', 'game', 'piano', 'science', 'hotel', 'mountain']\n",
    "new_list = [len(w) for w in word]\n",
    "new_list"
   ]
  },
  {
   "cell_type": "code",
   "execution_count": null,
   "metadata": {},
   "outputs": [],
   "source": []
  },
  {
   "cell_type": "markdown",
   "metadata": {},
   "source": [
    "## 연습문제 10"
   ]
  },
  {
   "cell_type": "markdown",
   "metadata": {},
   "source": [
    "(1) 아래 두 리스트를 각 요소들을 곱해 새로운 리스트 C 를 만드세요  \n",
    "a = [[10, 20], [30, 40], [50, 60]]  \n",
    "b = [[2, 3], [4, 5], [6, 7]]  \n"
   ]
  },
  {
   "cell_type": "code",
   "execution_count": 117,
   "metadata": {},
   "outputs": [],
   "source": [
    "a = [[10, 20], [30, 40], [50, 60]]\n",
    "b = [[2, 3], [4, 5], [6, 7]]"
   ]
  },
  {
   "cell_type": "code",
   "execution_count": 118,
   "metadata": {},
   "outputs": [
    {
     "data": {
      "text/plain": [
       "[[20, 60], [120, 200], [300, 420]]"
      ]
     },
     "execution_count": 118,
     "metadata": {},
     "output_type": "execute_result"
    }
   ],
   "source": [
    "new_list = []\n",
    "\n",
    "for i in range(len(a)):\n",
    "    in_list = []\n",
    "    for j in range(len(a[i])):\n",
    "        in_list.append(a[i][j] * b[i][j])\n",
    "    \n",
    "    new_list.append(in_list)\n",
    "new_list"
   ]
  },
  {
   "cell_type": "code",
   "execution_count": 121,
   "metadata": {},
   "outputs": [
    {
     "name": "stdout",
     "output_type": "stream",
     "text": [
      "[10, 20] [2, 3]\n"
     ]
    }
   ],
   "source": [
    "for l1, l2 in zip(a, b):\n",
    "    print(l1, l2)\n",
    "    break"
   ]
  },
  {
   "cell_type": "code",
   "execution_count": 123,
   "metadata": {},
   "outputs": [
    {
     "data": {
      "text/plain": [
       "[[20, 60], [120, 200], [300, 420]]"
      ]
     },
     "execution_count": 123,
     "metadata": {},
     "output_type": "execute_result"
    }
   ],
   "source": [
    "new_list = []\n",
    "for [a1, a2], [b1, b2] in zip(a, b):\n",
    "    new_list.append([a1*b1, a2*b2])\n",
    "new_list"
   ]
  },
  {
   "cell_type": "code",
   "execution_count": null,
   "metadata": {},
   "outputs": [],
   "source": []
  },
  {
   "cell_type": "markdown",
   "metadata": {},
   "source": [
    "## 연습문제 11"
   ]
  },
  {
   "cell_type": "markdown",
   "metadata": {},
   "source": [
    ">>> a = []\n",
    ">>> for i in range(3):\n",
    ">>>     line = []\n",
    ">>>     for j in range(2):\n",
    ">>>        line.append(0)\n",
    ">>>     a.append(line)\n",
    ">>> print(a)\n"
   ]
  },
  {
   "cell_type": "code",
   "execution_count": null,
   "metadata": {},
   "outputs": [],
   "source": []
  }
 ],
 "metadata": {
  "kernelspec": {
   "display_name": "Python 3",
   "language": "python",
   "name": "python3"
  },
  "language_info": {
   "codemirror_mode": {
    "name": "ipython",
    "version": 3
   },
   "file_extension": ".py",
   "mimetype": "text/x-python",
   "name": "python",
   "nbconvert_exporter": "python",
   "pygments_lexer": "ipython3",
   "version": "3.8.3"
  }
 },
 "nbformat": 4,
 "nbformat_minor": 4
}
