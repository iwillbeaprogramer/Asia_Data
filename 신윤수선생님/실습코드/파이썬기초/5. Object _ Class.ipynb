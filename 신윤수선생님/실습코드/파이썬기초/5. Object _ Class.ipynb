{
 "cells": [
  {
   "cell_type": "markdown",
   "metadata": {},
   "source": [
    "# 객체와 클래스"
   ]
  },
  {
   "cell_type": "code",
   "execution_count": 2,
   "metadata": {},
   "outputs": [],
   "source": [
    "class Dog:\n",
    "    # 생성자.\n",
    "    # method\n",
    "    def __init__(self, name, color):\n",
    "        self.hungry = 0\n",
    "        self.name = name\n",
    "        self.color = color\n",
    "        \n",
    "    def eat(self):\n",
    "        self.hungry -= 10\n",
    "        print(\"밥 먹음\", self.hungry)\n",
    "        \n",
    "    def walk(self):\n",
    "        self.hungry += 10\n",
    "        print(\"산책\", self.hungry)\n",
    "        \n"
   ]
  },
  {
   "cell_type": "code",
   "execution_count": 4,
   "metadata": {},
   "outputs": [],
   "source": [
    "choco = Dog(\"choco\", \"black\")\n",
    "jjong = Dog(\"jjong\", \"white\")"
   ]
  },
  {
   "cell_type": "code",
   "execution_count": 6,
   "metadata": {},
   "outputs": [
    {
     "name": "stdout",
     "output_type": "stream",
     "text": [
      "밥 먹음 -10\n"
     ]
    }
   ],
   "source": [
    "choco.eat()"
   ]
  },
  {
   "cell_type": "code",
   "execution_count": 9,
   "metadata": {},
   "outputs": [
    {
     "data": {
      "text/plain": [
       "'black'"
      ]
     },
     "execution_count": 9,
     "metadata": {},
     "output_type": "execute_result"
    }
   ],
   "source": [
    "choco.color"
   ]
  },
  {
   "cell_type": "code",
   "execution_count": 10,
   "metadata": {},
   "outputs": [
    {
     "name": "stdout",
     "output_type": "stream",
     "text": [
      "0\n",
      "jjong\n",
      "white\n"
     ]
    }
   ],
   "source": [
    "jjong = Dog(\"jjong\", \"white\")\n",
    "print(jjong.hungry) # 0\n",
    "print(jjong.name) # jjong\n",
    "print(jjong.color) # white"
   ]
  },
  {
   "cell_type": "code",
   "execution_count": 13,
   "metadata": {},
   "outputs": [
    {
     "name": "stdout",
     "output_type": "stream",
     "text": [
      "-324\n"
     ]
    }
   ],
   "source": [
    "jjong.hungry = -324\n",
    "print(jjong.hungry)"
   ]
  },
  {
   "cell_type": "code",
   "execution_count": null,
   "metadata": {},
   "outputs": [],
   "source": []
  },
  {
   "cell_type": "code",
   "execution_count": 33,
   "metadata": {},
   "outputs": [],
   "source": [
    "class Dog:\n",
    "    # 생성자.\n",
    "    # method\n",
    "    def __init__(self, name, color):\n",
    "        self.__hungry = 0 # private\n",
    "        self.name = name\n",
    "        self.color = color\n",
    "        \n",
    "    def eat(self):\n",
    "        self.__hungry -= 10\n",
    "        print(\"밥 먹음\", self.__hungry)\n",
    "        \n",
    "    def walk(self):\n",
    "        self.__hungry += 10\n",
    "        print(\"산책\", self.__hungry)\n",
    "        \n",
    "    def get_hungry(self):\n",
    "        return self.__hungry\n",
    "        \n"
   ]
  },
  {
   "cell_type": "code",
   "execution_count": 34,
   "metadata": {},
   "outputs": [],
   "source": [
    "jjong = Dog(\"jjong\", 'white')\n"
   ]
  },
  {
   "cell_type": "code",
   "execution_count": 38,
   "metadata": {},
   "outputs": [
    {
     "ename": "AttributeError",
     "evalue": "'Dog' object has no attribute 'hungry'",
     "output_type": "error",
     "traceback": [
      "\u001b[1;31m---------------------------------------------------------------------------\u001b[0m",
      "\u001b[1;31mAttributeError\u001b[0m                            Traceback (most recent call last)",
      "\u001b[1;32m<ipython-input-38-fb300a99754a>\u001b[0m in \u001b[0;36m<module>\u001b[1;34m\u001b[0m\n\u001b[0;32m      1\u001b[0m \u001b[1;31m# 외부접근 X (private)\u001b[0m\u001b[1;33m\u001b[0m\u001b[1;33m\u001b[0m\u001b[1;33m\u001b[0m\u001b[0m\n\u001b[1;32m----> 2\u001b[1;33m \u001b[0mjjong\u001b[0m\u001b[1;33m.\u001b[0m\u001b[0mhungry\u001b[0m\u001b[1;33m\u001b[0m\u001b[1;33m\u001b[0m\u001b[0m\n\u001b[0m\u001b[0;32m      3\u001b[0m \u001b[0mjjong\u001b[0m\u001b[1;33m.\u001b[0m\u001b[0m__hungry\u001b[0m\u001b[1;33m\u001b[0m\u001b[1;33m\u001b[0m\u001b[0m\n",
      "\u001b[1;31mAttributeError\u001b[0m: 'Dog' object has no attribute 'hungry'"
     ]
    }
   ],
   "source": [
    "# 외부접근 X (private)\n",
    "jjong.hungry\n",
    "jjong.__hungry"
   ]
  },
  {
   "cell_type": "code",
   "execution_count": 39,
   "metadata": {},
   "outputs": [
    {
     "name": "stdout",
     "output_type": "stream",
     "text": [
      "밥 먹음 -30\n"
     ]
    }
   ],
   "source": [
    "jjong.eat()"
   ]
  },
  {
   "cell_type": "code",
   "execution_count": 40,
   "metadata": {},
   "outputs": [
    {
     "data": {
      "text/plain": [
       "-30"
      ]
     },
     "execution_count": 40,
     "metadata": {},
     "output_type": "execute_result"
    }
   ],
   "source": [
    "jjong.get_hungry()"
   ]
  },
  {
   "cell_type": "markdown",
   "metadata": {},
   "source": [
    "### 클래스 속성"
   ]
  },
  {
   "cell_type": "code",
   "execution_count": 62,
   "metadata": {},
   "outputs": [],
   "source": [
    "class Dog(object):\n",
    "    dog_count = 0 # class attrs\n",
    "    # 생성자.\n",
    "    # method\n",
    "    def __init__(self, name, color):\n",
    "        self.__hungry = 0 # private\n",
    "        self.name = name\n",
    "        self.color = color\n",
    "        # class 속성\n",
    "        Dog.dog_count += 1\n",
    "        \n",
    "    def eat(self):\n",
    "        self.__hungry -= 10\n",
    "        print(\"밥 먹음\", self.__hungry)\n",
    "        \n",
    "    def walk(self):\n",
    "        self.__hungry += 10\n",
    "        print(\"산책\", self.__hungry)\n",
    "        \n",
    "    def get_hungry(self):\n",
    "        return self.__hungry\n",
    "    \n",
    "    # decorator\n",
    "    @classmethod\n",
    "    def create_black_dog(cls, name):\n",
    "        print(\"현재 강아지 수:\", cls.dog_count)\n",
    "        return cls(name, 'Black')\n",
    "    \n",
    "    @staticmethod\n",
    "    def intro():\n",
    "        print(\"안녕하세요. 동물의 숲입니다.\")\n",
    "    \n",
    "    def __str__(self):\n",
    "        return repr(self)\n",
    "    \n",
    "    def __repr__(self):\n",
    "        return str({\n",
    "            'name': self.name,\n",
    "            \"color\": self.color\n",
    "        })\n"
   ]
  },
  {
   "cell_type": "code",
   "execution_count": 64,
   "metadata": {},
   "outputs": [
    {
     "name": "stdout",
     "output_type": "stream",
     "text": [
      "{'name': '초코', 'color': 'Black'}\n"
     ]
    }
   ],
   "source": [
    "choco =Dog(\"초코\", \"Black\")\n",
    "print(choco)"
   ]
  },
  {
   "cell_type": "code",
   "execution_count": 53,
   "metadata": {},
   "outputs": [
    {
     "name": "stdout",
     "output_type": "stream",
     "text": [
      "현재 강아지 수: 0\n"
     ]
    }
   ],
   "source": [
    "choco = Dog.create_black_dog(\"초코\")"
   ]
  },
  {
   "cell_type": "code",
   "execution_count": 54,
   "metadata": {},
   "outputs": [
    {
     "data": {
      "text/plain": [
       "'초코'"
      ]
     },
     "execution_count": 54,
     "metadata": {},
     "output_type": "execute_result"
    }
   ],
   "source": [
    "choco.name"
   ]
  },
  {
   "cell_type": "code",
   "execution_count": 55,
   "metadata": {},
   "outputs": [
    {
     "name": "stdout",
     "output_type": "stream",
     "text": [
      "안녕하세요. 동물의 숲입니다.\n"
     ]
    }
   ],
   "source": [
    "Dog.intro()"
   ]
  },
  {
   "cell_type": "code",
   "execution_count": null,
   "metadata": {},
   "outputs": [],
   "source": []
  },
  {
   "cell_type": "code",
   "execution_count": null,
   "metadata": {},
   "outputs": [],
   "source": []
  },
  {
   "cell_type": "code",
   "execution_count": 46,
   "metadata": {
    "scrolled": true
   },
   "outputs": [
    {
     "data": {
      "text/plain": [
       "1"
      ]
     },
     "execution_count": 46,
     "metadata": {},
     "output_type": "execute_result"
    }
   ],
   "source": [
    "jjong = Dog(\"jjong\", 'Black')\n",
    "Dog.dog_count"
   ]
  },
  {
   "cell_type": "code",
   "execution_count": 47,
   "metadata": {},
   "outputs": [
    {
     "data": {
      "text/plain": [
       "2"
      ]
     },
     "execution_count": 47,
     "metadata": {},
     "output_type": "execute_result"
    }
   ],
   "source": [
    "choco = Dog('choco', 'White')\n",
    "Dog.dog_count"
   ]
  },
  {
   "cell_type": "code",
   "execution_count": null,
   "metadata": {},
   "outputs": [],
   "source": []
  },
  {
   "cell_type": "markdown",
   "metadata": {},
   "source": [
    "## 연습문제1\n",
    "Car 클래스를 만드세요  \n",
    "- 객체 생성시 차이름, 배기량, 생산년도 입력받으세요  \n",
    "- 객체 생성시 등록된 차이름, 배기량, 생산년도는 직접 변경하지 못합니다  \n",
    "- 차 이름을 변경하는 함수를 만드세요  \n",
    "- 배기량에 따라 \n",
    " - 1000CC 이하 소형  \n",
    " - 1000CC 이상 2000CC 이하 중형  \n",
    " - 2000CC 이상 대형을 출력하는 함수를 만드세요  \n",
    "- 객체 생성시마다 등록된 차량 갯수를 기록해주세요  \n",
    "- 총 등록된 차량개수를 출력하는 클래스 함수를 만드세요  \n"
   ]
  },
  {
   "cell_type": "code",
   "execution_count": 107,
   "metadata": {},
   "outputs": [],
   "source": [
    "class Car(object):\n",
    "    count = 0\n",
    "    def __init__(self, name, cc, year):\n",
    "        self.__name = name\n",
    "        self.__cc = cc\n",
    "        self.__year = year\n",
    "        \n",
    "        self.__speed = 0\n",
    "        \n",
    "        Car.count += 1\n",
    "    \n",
    "    def excel(self):\n",
    "        self.__speed += 4\n",
    "    \n",
    "    def _break(self):\n",
    "        if (self.__speed - 4) < 0:\n",
    "            self.__speed = 0\n",
    "        else:\n",
    "            self.__speed -= 4\n",
    "    \n",
    "    @classmethod\n",
    "    def get_total_count(cls):\n",
    "        print(cls.count)\n",
    "        return cls.count\n",
    "    \n",
    "    def set_name(self, name):\n",
    "        self.__name = name\n",
    "        return self.__name\n",
    "    \n",
    "    def get_name(self):\n",
    "        return self.__name\n",
    "    \n",
    "    def get_size(self):\n",
    "        size = None\n",
    "        \n",
    "        if self.__cc < 1000:\n",
    "            size = \"소형\"\n",
    "        elif self.__cc <= 2000:\n",
    "            size = \"중형\"\n",
    "        else:\n",
    "            size = \"대형\"\n",
    "        print(size)\n",
    "        return size\n",
    "    \n",
    "    # cc 반환\n",
    "    def get_cc(self):\n",
    "        return self.__cc\n",
    "    \n",
    "    ## 생산년도 반환\n",
    "    def get_prod_year(self):\n",
    "        return self.__year\n",
    "    \n",
    "    def get_speed(self):\n",
    "        return self.__speed\n",
    "    \n",
    "    @property\n",
    "    def speed(self):\n",
    "        return self.__speed"
   ]
  },
  {
   "cell_type": "code",
   "execution_count": 108,
   "metadata": {},
   "outputs": [
    {
     "data": {
      "text/plain": [
       "<__main__.Car at 0x1eebc040b80>"
      ]
     },
     "execution_count": 108,
     "metadata": {},
     "output_type": "execute_result"
    }
   ],
   "source": [
    "sonata1 = Car(\"소나타\", 2000, 2018)\n",
    "sonata1"
   ]
  },
  {
   "cell_type": "code",
   "execution_count": 109,
   "metadata": {},
   "outputs": [
    {
     "data": {
      "text/plain": [
       "'Audi'"
      ]
     },
     "execution_count": 109,
     "metadata": {},
     "output_type": "execute_result"
    }
   ],
   "source": [
    "sonata1.set_name(\"Audi\")\n",
    "sonata1.get_name()"
   ]
  },
  {
   "cell_type": "code",
   "execution_count": 110,
   "metadata": {},
   "outputs": [
    {
     "name": "stdout",
     "output_type": "stream",
     "text": [
      "중형\n"
     ]
    },
    {
     "data": {
      "text/plain": [
       "'중형'"
      ]
     },
     "execution_count": 110,
     "metadata": {},
     "output_type": "execute_result"
    }
   ],
   "source": [
    "sonata1.get_size()"
   ]
  },
  {
   "cell_type": "markdown",
   "metadata": {},
   "source": [
    "** 조건 추가:\n",
    "객체의 name과 배기량, 생산년도를 반환하는 get 함수를 만드세요.  \n",
    " ex) def get_name(self)//def get_cc(self) // def get_prod_year(self)  \n",
    "\n",
    "speed라는 인스턴스 속성 만드시고, excel이라는 메소드가 speed를 증가시키고, break_라는 메소드는 speed를 감소시키도록 하세요.\n"
   ]
  },
  {
   "cell_type": "code",
   "execution_count": 114,
   "metadata": {},
   "outputs": [
    {
     "data": {
      "text/plain": [
       "4"
      ]
     },
     "execution_count": 114,
     "metadata": {},
     "output_type": "execute_result"
    }
   ],
   "source": [
    "sonata1.excel()\n",
    "sonata1.get_speed()"
   ]
  },
  {
   "cell_type": "code",
   "execution_count": 112,
   "metadata": {},
   "outputs": [
    {
     "data": {
      "text/plain": [
       "0"
      ]
     },
     "execution_count": 112,
     "metadata": {},
     "output_type": "execute_result"
    }
   ],
   "source": [
    "sonata1._break()\n",
    "sonata1.get_speed()"
   ]
  },
  {
   "cell_type": "code",
   "execution_count": 115,
   "metadata": {},
   "outputs": [
    {
     "data": {
      "text/plain": [
       "4"
      ]
     },
     "execution_count": 115,
     "metadata": {},
     "output_type": "execute_result"
    }
   ],
   "source": [
    "sonata1.speed"
   ]
  },
  {
   "cell_type": "code",
   "execution_count": null,
   "metadata": {},
   "outputs": [],
   "source": []
  },
  {
   "cell_type": "markdown",
   "metadata": {},
   "source": [
    "## 상속"
   ]
  },
  {
   "cell_type": "code",
   "execution_count": 120,
   "metadata": {},
   "outputs": [],
   "source": [
    "class Car(object):\n",
    "    def __init__(self, wheel):\n",
    "        \"\"\"\n",
    "        :param: wheel :list\n",
    "        \"\"\"\n",
    "        for w in wheel:\n",
    "            if w.size != 40:\n",
    "                return False\n",
    "        self.wheel = wheel\n",
    "        "
   ]
  },
  {
   "cell_type": "code",
   "execution_count": 124,
   "metadata": {},
   "outputs": [],
   "source": [
    "class Wheel(object):\n",
    "    def __init__(self, size):\n",
    "        self.size = size\n",
    "        self.shield = 30"
   ]
  },
  {
   "cell_type": "code",
   "execution_count": 125,
   "metadata": {},
   "outputs": [],
   "source": [
    "wheels = [Wheel(40), Wheel(40), Wheel(40), Wheel(40)]\n",
    "car = Car(wheels)"
   ]
  },
  {
   "cell_type": "markdown",
   "metadata": {},
   "source": [
    "동물의 숲."
   ]
  },
  {
   "cell_type": "code",
   "execution_count": 126,
   "metadata": {},
   "outputs": [],
   "source": [
    "class Dog():\n",
    "    def intro(self):\n",
    "        print(\"안녕. 동물의 숲입니다.\")"
   ]
  },
  {
   "cell_type": "code",
   "execution_count": 127,
   "metadata": {},
   "outputs": [],
   "source": [
    "class Cat():\n",
    "    def intro(self):\n",
    "        print(\"안녕. 동물의 숲입니다.\")"
   ]
  },
  {
   "cell_type": "code",
   "execution_count": 128,
   "metadata": {},
   "outputs": [],
   "source": [
    "class Lion():\n",
    "    def intro(self):\n",
    "        print(\"안녕. 동물의 숲입니다.\")"
   ]
  },
  {
   "cell_type": "code",
   "execution_count": null,
   "metadata": {},
   "outputs": [],
   "source": []
  },
  {
   "cell_type": "code",
   "execution_count": 141,
   "metadata": {},
   "outputs": [],
   "source": [
    "class Animal():\n",
    "    def __init__(self, name):\n",
    "        self.__hungry = 0\n",
    "        self.name = name\n",
    "        \n",
    "    def intro(self):\n",
    "        print(\"안녕하세요. 동물의 숲입니다.\")\n",
    "    def eat(self):\n",
    "        self.__hungry -= 10"
   ]
  },
  {
   "cell_type": "code",
   "execution_count": 143,
   "metadata": {},
   "outputs": [],
   "source": [
    "class Dog(Animal):\n",
    "    def __init__(self, name, _type):\n",
    "        self._type = _type\n",
    "        super().__init__(name)\n"
   ]
  },
  {
   "cell_type": "code",
   "execution_count": 131,
   "metadata": {},
   "outputs": [],
   "source": [
    "class Cat(Animal):\n",
    "    pass"
   ]
  },
  {
   "cell_type": "code",
   "execution_count": 132,
   "metadata": {},
   "outputs": [],
   "source": [
    "dog1 = Dog()\n",
    "cat1 = Cat()"
   ]
  },
  {
   "cell_type": "code",
   "execution_count": 133,
   "metadata": {},
   "outputs": [
    {
     "name": "stdout",
     "output_type": "stream",
     "text": [
      "안녕하세요. 동물의 숲입니다.\n"
     ]
    }
   ],
   "source": [
    "dog1.intro()"
   ]
  },
  {
   "cell_type": "code",
   "execution_count": 134,
   "metadata": {},
   "outputs": [
    {
     "name": "stdout",
     "output_type": "stream",
     "text": [
      "안녕하세요. 동물의 숲입니다.\n"
     ]
    }
   ],
   "source": [
    "cat1.intro()"
   ]
  },
  {
   "cell_type": "code",
   "execution_count": 201,
   "metadata": {},
   "outputs": [],
   "source": [
    "# from abc import *\n",
    "from abc import ABCMeta, abstractmethod"
   ]
  },
  {
   "cell_type": "code",
   "execution_count": 202,
   "metadata": {},
   "outputs": [],
   "source": [
    "class Bird(Animal):\n",
    "    def fly(self):\n",
    "        pass\n",
    "\n",
    "class LandAnimal(Animal, metaclass=ABCMeta):\n",
    "    def __init__(self, name):\n",
    "        super().__init__(name)\n",
    "    \n",
    "    #     def walk(self):\n",
    "    #         raise NotImplementedError\n",
    "    \n",
    "    @abstractmethod\n",
    "    def walk(self):\n",
    "        pass\n",
    "    \n",
    "class SeaAnimal(Animal):\n",
    "    def swim(self):\n",
    "        pass"
   ]
  },
  {
   "cell_type": "code",
   "execution_count": 203,
   "metadata": {},
   "outputs": [],
   "source": [
    "class Craw(Bird):\n",
    "    def cry(self):\n",
    "        print(\"까악 까악\")"
   ]
  },
  {
   "cell_type": "code",
   "execution_count": 208,
   "metadata": {},
   "outputs": [],
   "source": [
    "class Lion(LandAnimal):\n",
    "    def __init__(self, name, _type):\n",
    "        self._type = _type\n",
    "        super().__init__(name)\n",
    "        \n",
    "    def intro(self):\n",
    "        # 메소드 오버라이딩.\n",
    "        print(\"여기 선물상자가 있어요.\")\n",
    "        # 부모클래스 메소드 사용\n",
    "        super().intro()\n",
    "    \n",
    "    def walk(self):\n",
    "        print(\"걷기. 터벅터벅\")\n",
    "        \n",
    "    def cry(self):\n",
    "        print(\"어흥. \")"
   ]
  },
  {
   "cell_type": "code",
   "execution_count": 209,
   "metadata": {},
   "outputs": [
    {
     "name": "stdout",
     "output_type": "stream",
     "text": [
      "어흥. \n",
      "여기 선물상자가 있어요.\n",
      "안녕하세요. 동물의 숲입니다.\n"
     ]
    }
   ],
   "source": [
    "lion1 = Lion(\"어흥이\", \"아프리카사자\")\n",
    "lion1.cry()\n",
    "lion1.intro()"
   ]
  },
  {
   "cell_type": "code",
   "execution_count": 182,
   "metadata": {},
   "outputs": [
    {
     "data": {
      "text/plain": [
       "'아프리카사자'"
      ]
     },
     "execution_count": 182,
     "metadata": {},
     "output_type": "execute_result"
    }
   ],
   "source": [
    "lion1._type"
   ]
  },
  {
   "cell_type": "code",
   "execution_count": 183,
   "metadata": {},
   "outputs": [
    {
     "name": "stdout",
     "output_type": "stream",
     "text": [
      "여기 선물상자가 있어요.\n",
      "안녕하세요. 동물의 숲입니다.\n"
     ]
    }
   ],
   "source": [
    "lion1.intro()"
   ]
  },
  {
   "cell_type": "code",
   "execution_count": 184,
   "metadata": {},
   "outputs": [
    {
     "name": "stdout",
     "output_type": "stream",
     "text": [
      "안녕하세요. 동물의 숲입니다.\n"
     ]
    }
   ],
   "source": [
    "cat1.intro()"
   ]
  },
  {
   "cell_type": "code",
   "execution_count": 210,
   "metadata": {},
   "outputs": [
    {
     "name": "stdout",
     "output_type": "stream",
     "text": [
      "걷기. 터벅터벅\n"
     ]
    }
   ],
   "source": [
    "lion1.walk()"
   ]
  },
  {
   "cell_type": "markdown",
   "metadata": {},
   "source": [
    "## 다중상속"
   ]
  },
  {
   "cell_type": "code",
   "execution_count": 213,
   "metadata": {},
   "outputs": [],
   "source": [
    "class Bird(Animal):\n",
    "    def __init__(self, name):\n",
    "        self.has_wing = True\n",
    "        super().__init__(name)\n",
    "        "
   ]
  },
  {
   "cell_type": "code",
   "execution_count": 214,
   "metadata": {},
   "outputs": [],
   "source": [
    "class Fliable(object, metaclass=ABCMeta):\n",
    "    @abstractmethod\n",
    "    def fly(self):\n",
    "        pass\n",
    "        "
   ]
  },
  {
   "cell_type": "code",
   "execution_count": 215,
   "metadata": {},
   "outputs": [],
   "source": [
    "class Walkable(object, metaclass=ABCMeta):\n",
    "    @abstractmethod\n",
    "    def walk(self):\n",
    "        pass"
   ]
  },
  {
   "cell_type": "code",
   "execution_count": 219,
   "metadata": {},
   "outputs": [],
   "source": [
    "class Ostrich(Bird, Walkable):\n",
    "    def __init__(self, name):\n",
    "        super().__init(name)\n",
    "    def walk(self):\n",
    "        print(\"턱턱\")"
   ]
  },
  {
   "cell_type": "code",
   "execution_count": null,
   "metadata": {},
   "outputs": [],
   "source": []
  },
  {
   "cell_type": "code",
   "execution_count": null,
   "metadata": {},
   "outputs": [],
   "source": []
  }
 ],
 "metadata": {
  "kernelspec": {
   "display_name": "Python 3",
   "language": "python",
   "name": "python3"
  },
  "language_info": {
   "codemirror_mode": {
    "name": "ipython",
    "version": 3
   },
   "file_extension": ".py",
   "mimetype": "text/x-python",
   "name": "python",
   "nbconvert_exporter": "python",
   "pygments_lexer": "ipython3",
   "version": "3.8.3"
  }
 },
 "nbformat": 4,
 "nbformat_minor": 4
}
