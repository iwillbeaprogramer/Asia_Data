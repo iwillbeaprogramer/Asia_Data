{
 "cells": [
  {
   "cell_type": "code",
   "execution_count": 1,
   "metadata": {},
   "outputs": [],
   "source": [
    "import pandas as pd\n",
    "import requests\n",
    "from bs4 import BeautifulSoup\n",
    "import urllib\n",
    "import json"
   ]
  },
  {
   "cell_type": "markdown",
   "metadata": {},
   "source": [
    "# 검색 주소(동) 엑셀 파일 찾기"
   ]
  },
  {
   "cell_type": "code",
   "execution_count": 12,
   "metadata": {},
   "outputs": [],
   "source": [
    "def find_data(query):\n",
    "    url = 'https://www.code.go.kr/stdcode/regCodeL.do'\n",
    "    params = {\n",
    "        'locataddNm': query\n",
    "    }\n",
    "\n",
    "    resp = requests.get(url, params=params, verify=False)\n",
    "    print(resp.request.url)\n",
    "    soup = BeautifulSoup(resp.text)\n",
    "\n",
    "    address_list = []\n",
    "    code = soup.select('td.table_left')\n",
    "    address = soup.select('td.table_center01')\n",
    "    address_count = len(address)\n",
    "\n",
    "    for i in range(address_count):\n",
    "        address_list.append({\n",
    "            'code': code[i+1].text,\n",
    "            'address': address[i].text\n",
    "        })\n",
    "\n",
    "    if address_count == 0:\n",
    "        print(\"존재하지 않는 주소입니다.\")\n",
    "        return\n",
    "\n",
    "    elif address_count > 1:\n",
    "        print(\"두 개 이상의 결과가 존재합니다.\")\n",
    "        for i in range(address_count):\n",
    "            print(\"{}. {}\".format(i+1, address_list[i]['address']))\n",
    "        num = int(input(\"원하시는 주소의 번호를 입력해주세요. \"))\n",
    "        address_code = address_list[i-1]['code']\n",
    "\n",
    "    else:\n",
    "        address_code = address_list[0]['code']\n",
    "\n",
    "    city = address_code[0:2]\n",
    "    county = address_code[2:5]\n",
    "    town = address_code[5:8]\n",
    "\n",
    "    base_url = 'https://www.juso.go.kr/info/RoadNameDataList.do'\n",
    "    params_url = '?type=excel&city1={}&county1={}&town1={}'.format(city, county, town)\n",
    "    file_url = base_url + params_url\n",
    "\n",
    "    resp = urllib.request.urlopen(file_url)\n",
    "    data = resp.read()\n",
    "    df = pd.read_excel(data, encoding='cp949', header=1)\n",
    "\n",
    "    return df"
   ]
  },
  {
   "cell_type": "code",
   "execution_count": null,
   "metadata": {},
   "outputs": [
    {
     "name": "stderr",
     "output_type": "stream",
     "text": [
      "C:\\Users\\D.O\\anaconda3\\envs\\study1\\lib\\site-packages\\urllib3\\connectionpool.py:979: InsecureRequestWarning: Unverified HTTPS request is being made to host 'www.code.go.kr'. Adding certificate verification is strongly advised. See: https://urllib3.readthedocs.io/en/latest/advanced-usage.html#ssl-warnings\n",
      "  warnings.warn(\n",
      "C:\\Users\\D.O\\anaconda3\\envs\\study1\\lib\\site-packages\\bs4\\__init__.py:177: UserWarning: No parser was explicitly specified, so I'm using the best available HTML parser for this system (\"lxml\"). This usually isn't a problem, but if you run this code on another system, or in a different virtual environment, it may use a different parser and behave differently.\n",
      "\n",
      "The code that caused this warning is on line 194 of the file C:\\Users\\D.O\\anaconda3\\envs\\study1\\lib\\runpy.py. To get rid of this warning, change code that looks like this:\n",
      "\n",
      " BeautifulSoup(YOUR_MARKUP})\n",
      "\n",
      "to this:\n",
      "\n",
      " BeautifulSoup(YOUR_MARKUP, \"lxml\")\n",
      "\n",
      "  warnings.warn(self.NO_PARSER_SPECIFIED_WARNING % dict(\n"
     ]
    },
    {
     "name": "stdout",
     "output_type": "stream",
     "text": [
      "https://www.code.go.kr/stdcode/regCodeL.do?locataddNm=%EC%83%81%EB%8F%84%EB%8F%99\n",
      "두 개 이상의 결과가 존재합니다.\n",
      "1. 서울특별시 동작구 상도동\n",
      "2. 경상북도 포항시 남구 상도동\n"
     ]
    }
   ],
   "source": [
    "find_data(\"상도동\")"
   ]
  },
  {
   "cell_type": "markdown",
   "metadata": {},
   "source": [
    "# 카페 데이터 크롤링"
   ]
  },
  {
   "cell_type": "code",
   "execution_count": 3,
   "metadata": {},
   "outputs": [],
   "source": [
    "def find_cafe_list(df):    \n",
    "    address_list = []\n",
    "    umd = df.iloc[0, -1]    # 읍면동 이름 (query값과 동일함) -> 한번 더 비교를 위해 추가함\n",
    "    \n",
    "    for i, row in df.iterrows():\n",
    "        address_list.append(df.at[i, '시도명'] + \" \"\n",
    "                            + df.at[i, '시군구명'] + \" \"\n",
    "                            +df.at[i, '도로명'])\n",
    "    \n",
    "    naver_map_url = \"https://map.naver.com/v5/api/search\"\n",
    "    headers = {\n",
    "        'user-agent': 'Mozilla/5.0 (Windows NT 10.0; Win64; x64) AppleWebKit/537.36 (KHTML, like Gecko) Chrome/84.0.4147.105 Safari/537.36'\n",
    "    }\n",
    "    result_list = []\n",
    "\n",
    "    for address in address_list:    # 도로명 Loop\n",
    "        query = address + \" 카페\"\n",
    "\n",
    "        params = {\n",
    "            'query': query,\n",
    "            'page': 1,\n",
    "            'displayCount': 300,    # total_count 입력하여 한 페이지에 모든 정보 출력\n",
    "            'isPlaceRecommendationReplace': 'true',\n",
    "            'lang': 'ko'\n",
    "        }\n",
    "\n",
    "        resp = requests.get(naver_map_url, params=params, headers=headers)\n",
    "        resp.encoding=None\n",
    "\n",
    "        data = json.loads(resp.text)\n",
    "        result = data.get('result')\n",
    "        \n",
    "        if not result['place']:    # 검색결과가 존재하지 않는 경우\n",
    "            continue\n",
    "\n",
    "        for place in result['place']['list']:\n",
    "            # 데이터 저장\n",
    "            if (('카페' in place['category'] or '카페,디저트' in place['category'] or '테이크아웃커피' in place['category']) # 해당 카테고리만 저장\n",
    "                and (place['address'].find(umd[:-1]) != -1)):    # 입력한 동 이름과 일치하는지 2차 확인\n",
    "                menu_list = []\n",
    "                menu_info = None\n",
    "                if place['menuInfo']:    # 메뉴 정보가 존재하는 경우\n",
    "                    menu_list = place['menuInfo'].split(\"|\")\n",
    "                    menu_name_list = []\n",
    "                    menu_price_list = []\n",
    "\n",
    "                    for menu in menu_list:\n",
    "                        menu_name = \"\"\n",
    "                        menu_name_temp = menu.strip().split(\" \")[:-1]\n",
    "\n",
    "                        # 메뉴 이름\n",
    "                        for idx, word in enumerate(menu_name_temp):\n",
    "                            menu_name += str(word)\n",
    "                            if idx != len(menu_name_temp[:-1]):\n",
    "                                menu_name += \" \"\n",
    "                        menu_name_list.append(menu_name)\n",
    "\n",
    "                        # 메뉴 가격\n",
    "                        menu_price = menu.strip().split(\" \")[-1]\n",
    "                        menu_price_list.append(menu_price)\n",
    "\n",
    "                    menu_info = dict(zip(menu_name_list, menu_price_list))\n",
    "\n",
    "                result_list.append({\n",
    "                    'name': place['name'],    # 이름이 같은 경우 존재??\n",
    "                    'tel': place['tel'],\n",
    "                    'category': place['category'],\n",
    "                    'address': place['address'],\n",
    "                    'road_address': place['roadAddress'],\n",
    "                    'review_count': place['reviewCount'],\n",
    "                    'homepage': place['homePage'],\n",
    "                    'menu_info': menu_info\n",
    "                })\n",
    "                    \n",
    "    return result_list"
   ]
  },
  {
   "cell_type": "markdown",
   "metadata": {},
   "source": [
    "# 최저가 카페 찾기"
   ]
  },
  {
   "cell_type": "code",
   "execution_count": 4,
   "metadata": {},
   "outputs": [],
   "source": [
    "def find_cheapest(cafe_list):\n",
    "    final_min_price = None\n",
    "    result_list = []\n",
    "\n",
    "    for cafe in cafe_list:\n",
    "        menu = cafe['menu_info']\n",
    "        if not menu:\n",
    "            continue\n",
    "            \n",
    "        for name in menu.keys():\n",
    "            min_price = None\n",
    "            price_is_int = True\n",
    "            if name.find('아메리카노') != -1:  #아메리카노라는 문자열이 있는지 확인\n",
    "                price_str = menu[name]\n",
    "                price_str = price_str.replace(',','')\n",
    "                try:\n",
    "                    price = int(price_str)\n",
    "                except:\n",
    "                    continue\n",
    "\n",
    "                if not price_is_int:\n",
    "                    continue\n",
    "                price = int(price_str)\n",
    "\n",
    "                # 최저가와 비교\n",
    "                if not min_price:\n",
    "                    min_price = price\n",
    "                else:\n",
    "                    if price < min_price:\n",
    "                        min_price = price\n",
    "\n",
    "            if min_price:\n",
    "                if not final_min_price:\n",
    "                    final_min_price = min_price\n",
    "                    result_list.append(cafe)\n",
    "                else:\n",
    "                    if min_price < final_min_price:\n",
    "                        result_list = []\n",
    "                        result_list.append(cafe)\n",
    "                        final_min_price = min_price\n",
    "                    elif min_price == final_min_price:\n",
    "                        result_list.append(cafe)\n",
    "    return result_list, final_min_price"
   ]
  },
  {
   "cell_type": "markdown",
   "metadata": {},
   "source": [
    "# 리뷰 가장 많은 카페 찾기\n"
   ]
  },
  {
   "cell_type": "code",
   "execution_count": 5,
   "metadata": {},
   "outputs": [],
   "source": [
    "def find_max_review(cafe_list):\n",
    "    result_list = []\n",
    "    max_review = -1\n",
    "    \n",
    "    for cafe in cafe_list:\n",
    "        if cafe['review_count'] > max_review:\n",
    "            result_list = []\n",
    "            result_list.append(cafe)\n",
    "            max_review = cafe['review_count']\n",
    "        elif cafe['review_count'] == max_review:\n",
    "            result_list.append(cafe)\n",
    "            \n",
    "    return result_list"
   ]
  },
  {
   "cell_type": "markdown",
   "metadata": {},
   "source": [
    "# Run"
   ]
  },
  {
   "cell_type": "code",
   "execution_count": 6,
   "metadata": {},
   "outputs": [],
   "source": [
    "def integrated_mod():\n",
    "    result_list = []\n",
    "    query = input(\"동 이름을 입력하세요 (ex. 가산동): \")\n",
    "    if (query.find(' ') != -1) or (query[-1] != \"동\"):\n",
    "        print(\"잘못된 입력입니다.\")\n",
    "        return\n",
    "    \n",
    "    df = find_data(query)\n",
    "    \n",
    "    if df is None:    # 입력한 주소가 존재X\n",
    "        return\n",
    "    \n",
    "    cafe_list = find_cafe_list(df)\n",
    "    \n",
    "    option = int(input(\"원하는 검색 조건을 입력하세요.(0.종료, 1.최저가, 2.최다리뷰): \"))\n",
    "    if option == 0:\n",
    "        return\n",
    "    \n",
    "    elif option == 1:\n",
    "        result_list, min_price = find_cheapest(cafe_list)\n",
    "        for result in result_list:\n",
    "            print(result['name'])\n",
    "            print(\"주소: \" + result['address'])\n",
    "            print(\"아메리카노: {}원\".format(min_price))\n",
    "            print(\"-\"*30)\n",
    "        return result_list\n",
    "        \n",
    "    elif option == 2:\n",
    "        result_list = find_max_review(cafe_list)\n",
    "        for result in result_list:\n",
    "            print(result['name'])\n",
    "            print(\"주소: \" + result['address'])\n",
    "            print(\"리뷰: {}\".format(result['review_count']))\n",
    "            print(\"-\"*30)\n",
    "        return result_list\n",
    "    \n",
    "    else:\n",
    "        print(\"잘못된 입력입니다.\")\n",
    "        return"
   ]
  },
  {
   "cell_type": "code",
   "execution_count": 7,
   "metadata": {},
   "outputs": [
    {
     "name": "stdout",
     "output_type": "stream",
     "text": [
      "동 이름을 입력하세요 (ex. 가산동): 삼성동\n"
     ]
    },
    {
     "name": "stderr",
     "output_type": "stream",
     "text": [
      "C:\\Users\\D.O\\anaconda3\\envs\\study1\\lib\\site-packages\\urllib3\\connectionpool.py:979: InsecureRequestWarning: Unverified HTTPS request is being made to host 'www.code.go.kr'. Adding certificate verification is strongly advised. See: https://urllib3.readthedocs.io/en/latest/advanced-usage.html#ssl-warnings\n",
      "  warnings.warn(\n",
      "C:\\Users\\D.O\\anaconda3\\envs\\study1\\lib\\site-packages\\bs4\\__init__.py:177: UserWarning: No parser was explicitly specified, so I'm using the best available HTML parser for this system (\"lxml\"). This usually isn't a problem, but if you run this code on another system, or in a different virtual environment, it may use a different parser and behave differently.\n",
      "\n",
      "The code that caused this warning is on line 194 of the file C:\\Users\\D.O\\anaconda3\\envs\\study1\\lib\\runpy.py. To get rid of this warning, change code that looks like this:\n",
      "\n",
      " BeautifulSoup(YOUR_MARKUP})\n",
      "\n",
      "to this:\n",
      "\n",
      " BeautifulSoup(YOUR_MARKUP, \"lxml\")\n",
      "\n",
      "  warnings.warn(self.NO_PARSER_SPECIFIED_WARNING % dict(\n"
     ]
    },
    {
     "name": "stdout",
     "output_type": "stream",
     "text": [
      "두 개 이상의 결과가 존재합니다.\n",
      "1. 서울특별시 강남구 삼성동\n",
      "2. 대전광역시 동구 삼성동\n",
      "원하시는 주소의 번호를 입력해주세요. 1\n",
      "원하는 검색 조건을 입력하세요.(0.종료, 1.최저가, 2.최다리뷰): 1\n",
      "커피온리 봉은사역점\n",
      "주소: 서울특별시 강남구 삼성동 161-17\n",
      "아메리카노: 900원\n",
      "------------------------------\n"
     ]
    }
   ],
   "source": [
    "run = integrated_mod()"
   ]
  },
  {
   "cell_type": "code",
   "execution_count": 21,
   "metadata": {},
   "outputs": [
    {
     "name": "stdout",
     "output_type": "stream",
     "text": [
      "동 이름을 입력하세요 (ex. 가산동): 가산동\n"
     ]
    },
    {
     "name": "stderr",
     "output_type": "stream",
     "text": [
      "C:\\Users\\user\\.conda\\envs\\study1\\lib\\site-packages\\urllib3\\connectionpool.py:986: InsecureRequestWarning: Unverified HTTPS request is being made to host 'www.code.go.kr'. Adding certificate verification is strongly advised. See: https://urllib3.readthedocs.io/en/latest/advanced-usage.html#ssl-warnings\n",
      "  InsecureRequestWarning,\n"
     ]
    },
    {
     "name": "stdout",
     "output_type": "stream",
     "text": [
      "원하는 검색 조건을 입력하세요.(0.종료, 1.최저가, 2.최다리뷰): 1\n",
      "매머드커피 에이스가산타워점\n",
      "주소: 서울특별시 금천구 가산동 550-9 103호\n",
      "아메리카노: 900원\n",
      "------------------------------\n",
      "매머드익스프레스 가산더스카이밸리1차점\n",
      "주소: 서울특별시 금천구 가산동 371-57\n",
      "아메리카노: 900원\n",
      "------------------------------\n"
     ]
    }
   ],
   "source": [
    "run2 = integrated_mod()"
   ]
  },
  {
   "cell_type": "code",
   "execution_count": 29,
   "metadata": {},
   "outputs": [
    {
     "name": "stdout",
     "output_type": "stream",
     "text": [
      "동 이름을 입력하세요 (ex. 가산동): 가산동\n"
     ]
    },
    {
     "name": "stderr",
     "output_type": "stream",
     "text": [
      "C:\\Users\\user\\.conda\\envs\\study1\\lib\\site-packages\\urllib3\\connectionpool.py:986: InsecureRequestWarning: Unverified HTTPS request is being made to host 'www.code.go.kr'. Adding certificate verification is strongly advised. See: https://urllib3.readthedocs.io/en/latest/advanced-usage.html#ssl-warnings\n",
      "  InsecureRequestWarning,\n"
     ]
    },
    {
     "name": "stdout",
     "output_type": "stream",
     "text": [
      "원하는 검색 조건을 입력하세요.(0.종료, 1.최저가, 2.최다리뷰): 1\n",
      "매머드커피 에이스가산타워점\n",
      "주소: 서울특별시 금천구 가산동 550-9 103호\n",
      "아메리카노: 900원\n",
      "------------------------------\n",
      "매머드익스프레스 가산더스카이밸리1차점\n",
      "주소: 서울특별시 금천구 가산동 371-57\n",
      "아메리카노: 900원\n",
      "------------------------------\n"
     ]
    }
   ],
   "source": [
    "run2 = integrated_mod()"
   ]
  },
  {
   "cell_type": "code",
   "execution_count": null,
   "metadata": {},
   "outputs": [],
   "source": []
  }
 ],
 "metadata": {
  "kernelspec": {
   "display_name": "Python 3",
   "language": "python",
   "name": "python3"
  },
  "language_info": {
   "codemirror_mode": {
    "name": "ipython",
    "version": 3
   },
   "file_extension": ".py",
   "mimetype": "text/x-python",
   "name": "python",
   "nbconvert_exporter": "python",
   "pygments_lexer": "ipython3",
   "version": "3.8.3"
  }
 },
 "nbformat": 4,
 "nbformat_minor": 4
}
