{
 "cells": [
  {
   "cell_type": "code",
   "execution_count": 1,
   "metadata": {},
   "outputs": [],
   "source": [
    "def view_count(CID, vURL):\n",
    "    import requests\n",
    "    from bs4 import BeautifulSoup\n",
    "    from selenium import webdriver\n",
    "    import time\n",
    "    from selenium.webdriver.common.keys import Keys\n",
    "    url = 'https://www.youtube.com/channel/' + CID + '/videos'\n",
    "    resp = requests.get(url)\n",
    "    soup = BeautifulSoup(resp.text)\n",
    "    driver = webdriver.Chrome()\n",
    "    driver.get(url)\n",
    "\n",
    "    page = driver.page_source\n",
    "    soup = BeautifulSoup(page)\n",
    "    count = 0\n",
    "    url_list = []\n",
    "    view_list = []\n",
    "\n",
    "    while(count < 10):\n",
    "        driver.find_element_by_tag_name('body').send_keys(Keys.END)\n",
    "        time.sleep(0.3)\n",
    "        count += 1\n",
    "\n",
    "    html = driver.page_source\n",
    "    soup = BeautifulSoup(html)\n",
    "    a = soup.find_all('a','yt-simple-endpoint style-scope ytd-grid-video-renderer')\n",
    " \n",
    "    for i in range (len(a)):\n",
    "            s_url = ''\n",
    "            s_url = soup.find_all('a','yt-simple-endpoint style-scope ytd-grid-video-renderer')[i].get('href')\n",
    "            w_url ='https://www.youtube.com' + s_url\n",
    "            url_list.append(w_url)\n",
    "    \n",
    "    #syn_flooding\n",
    "    view = soup.find_all('span','style-scope ytd-grid-video-renderer')\n",
    "    len_view = len(view)\n",
    "    for i in range(0,len_view,2):\n",
    "        view_list.append(view[i].text)\n",
    "\n",
    "    url_view_dic = { url_list[i] : view_list[i] for i in range (0,len(url_list))}\n",
    "    for i in range(len(url_view_dic)):\n",
    "        if url_list[i] == vURL:\n",
    "            return_value = url_view_dic[url_list[i]]\n",
    "            break\n",
    "        else:\n",
    "            return_value = '오래된 비디오'\n",
    "            \n",
    "    return return_value\n",
    "\n",
    "   \n"
   ]
  },
  {
   "cell_type": "code",
   "execution_count": 3,
   "metadata": {},
   "outputs": [],
   "source": [
    "def input_your_keyword(input_value):\n",
    "    import requests\n",
    "    temp = input(\"정렬 기준을 선택하세요\\n1.최신 순\\n2.조회수 순\\n3.검색어관련성\\n\")\n",
    "    if temp == '1':\n",
    "        order = 'date'\n",
    "    elif temp == '2':\n",
    "        order = 'viewCount'\n",
    "    else :\n",
    "        order = 'relevance'\n",
    "    temp = []\n",
    "    params = {\n",
    "        'part': 'snippet',\n",
    "        'key' : '',\n",
    "        'maxResults': 2,\n",
    "        'chart': 'mostPopular',\n",
    "        'q': input_value,\n",
    "        'relatedToVideoId' : None,\n",
    "        'type' : 'video',\n",
    "        'order' : order\n",
    "    }\n",
    "    resp = requests.get(\"https://www.googleapis.com/youtube/v3/search\", params=params)\n",
    "\n",
    "    result_list = resp.json()['items']\n",
    "    for i in result_list:\n",
    "        CID = i['snippet']['channelId']\n",
    "        VID = i['id']['videoId']\n",
    "        tit = i['snippet']['title']\n",
    "        desc = i['snippet']['description']\n",
    "        ch_tit = i['snippet']['channelTitle']\n",
    "        split_T = i['snippet']['publishedAt'].split('T')\n",
    "        date_list = split_T[0].split('-')\n",
    "        time_list = split_T[1].split(':')\n",
    "        time_date = date_list[0]+\"년 \"+date_list[1]+\"월 \"+date_list[2]+\"일 \"+time_list[0]+\"시 \"+time_list[1]+\"분 \"+time_list[2][0:2]+\"초\" \n",
    "        temp.append([ch_tit,tit,desc,VID,time_date,CID])\n",
    "    \n",
    "    vURL = ''\n",
    "    for i in temp:\n",
    "        vURL = 'https://www.youtube.com/watch?v='+ i[3]\n",
    "        view = view_count(i[5],vURL)\n",
    "        print(\"제목 : \",i[1],\"\\n업로드 날짜 : \",i[4],\"\\n채널 :\", i[0],\"\\n설명 : \",i[2],\"\\nURL :\", vURL,\"\\n\", view,\"\\n\", \"-\"*30,\"\\n\")\n",
    "        "
   ]
  },
  {
   "cell_type": "code",
   "execution_count": 6,
   "metadata": {
    "scrolled": true
   },
   "outputs": [
    {
     "name": "stdout",
     "output_type": "stream",
     "text": [
      "정렬 기준을 선택하세요\n",
      "1.최신 순\n",
      "2.조회수 순\n",
      "3.검색어관련성\n",
      "3\n",
      "제목 :  아기 고양이가 두 배로 커졌어요! \n",
      "업로드 날짜 :  2020년 08월 07일 03시 00분 25초 \n",
      "채널 : 크집사 \n",
      "설명 :  오늘은 고양이들의 몸무게를 재봤어요. 간식을 많이 먹은 고양이들은 운동과 식단 조절이 필요할 것 같아요. * 똥고양이 티셔츠 https://marpple.shop/kr/kittisaurus * 크 ... \n",
      "URL : https://www.youtube.com/watch?v=X85OLwjiRl8 \n",
      " 조회수 18만회 \n",
      " ------------------------------ \n",
      "\n",
      "제목 :  먼치킨 고양이 코비가 하이파이브를 해요 \n",
      "업로드 날짜 :  2020년 08월 07일 03시 15분 00초 \n",
      "채널 : 그루밍데이 고양이cat vlog \n",
      "설명 :  먼치킨 고양이 코비가 하이파이브를 해요. 집사가 손 달라고 말하면 손 주는 고양이가, 이제는 하이파이브를 배웠어요. 얼마나 귀여운지 보실래요? 심쿵주의! #고양이 ... \n",
      "URL : https://www.youtube.com/watch?v=hM2W2tQ1eLI \n",
      " 조회수 1만회 \n",
      " ------------------------------ \n",
      "\n"
     ]
    }
   ],
   "source": [
    "input_your_keyword('고양이')"
   ]
  },
  {
   "cell_type": "code",
   "execution_count": null,
   "metadata": {},
   "outputs": [],
   "source": []
  }
 ],
 "metadata": {
  "kernelspec": {
   "display_name": "Python 3",
   "language": "python",
   "name": "python3"
  },
  "language_info": {
   "codemirror_mode": {
    "name": "ipython",
    "version": 3
   },
   "file_extension": ".py",
   "mimetype": "text/x-python",
   "name": "python",
   "nbconvert_exporter": "python",
   "pygments_lexer": "ipython3",
   "version": "3.8.3"
  }
 },
 "nbformat": 4,
 "nbformat_minor": 4
}
