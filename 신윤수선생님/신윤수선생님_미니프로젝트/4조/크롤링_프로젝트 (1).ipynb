{
 "cells": [
  {
   "cell_type": "code",
   "execution_count": 1,
   "metadata": {},
   "outputs": [],
   "source": [
    "from bs4 import BeautifulSoup as bs\n",
    "import requests\n",
    "import json"
   ]
  },
  {
   "cell_type": "code",
   "execution_count": 2,
   "metadata": {},
   "outputs": [
    {
     "data": {
      "text/plain": [
       "<Response [200]>"
      ]
     },
     "execution_count": 2,
     "metadata": {},
     "output_type": "execute_result"
    }
   ],
   "source": [
    "resp = requests.get(\"https://www.yanolja.com/search/%EC%A0%9C%EC%A3%BC%EB%8F%84?placeListType=search&keyword=%EC%A0%9C%EC%A3%BC%EB%8F%84\")     ## 위의 코드와 같은 코드\n",
    "resp"
   ]
  },
  {
   "cell_type": "code",
   "execution_count": 3,
   "metadata": {},
   "outputs": [
    {
     "data": {
      "text/plain": [
       "<Response [200]>"
      ]
     },
     "execution_count": 3,
     "metadata": {},
     "output_type": "execute_result"
    }
   ],
   "source": [
    "url = \"https://www.yanolja.com/search/%EC%A0%9C%EC%A3%BC%EB%8F%84\"\n",
    "params = {\n",
    "    'placeListType' : 'search',\n",
    "    'keyword' : '제주도',\n",
    "}\n",
    "\n",
    "resp = requests.get(url, params = params)\n",
    "resp"
   ]
  },
  {
   "cell_type": "code",
   "execution_count": null,
   "metadata": {},
   "outputs": [],
   "source": []
  },
  {
   "cell_type": "code",
   "execution_count": 4,
   "metadata": {},
   "outputs": [
    {
     "data": {
      "text/plain": [
       "'https%3A//www.yanolja.com/search/%EC%A0%9C%EC%A3%BC%EB%8F%84%3FplaceListType%3Dsearch%26keyword%3D%EC%A0%9C%EC%A3%BC%EB%8F%84'"
      ]
     },
     "execution_count": 4,
     "metadata": {},
     "output_type": "execute_result"
    }
   ],
   "source": [
    "# '제주도' 인코딩 문제를 먼저 해결해야한다!!\n",
    "\n",
    "import urllib\n",
    "urllib.parse.quote('https://www.yanolja.com/search/제주도?placeListType=search&keyword=제주도')"
   ]
  },
  {
   "cell_type": "code",
   "execution_count": 5,
   "metadata": {
    "scrolled": true
   },
   "outputs": [
    {
     "data": {
      "text/plain": [
       "<Response [200]>"
      ]
     },
     "execution_count": 5,
     "metadata": {},
     "output_type": "execute_result"
    }
   ],
   "source": [
    "base_url = \"https://www.yanolja.com/api/v1/contents/search\"\n",
    "params = {\n",
    "    'capacityAdult': 1,\n",
    "    'capacityChild': 0,\n",
    "    'page': 1,\n",
    "    'limit': 20,\n",
    "    'keyword': '제주도',\n",
    "    'checkinDate': '2020-08-16',\n",
    "    'checkoutDate': '2020-08-17',\n",
    "    'searchKeyword': '제주도',\n",
    "    'advert': 'KEYWORD',\n",
    "    'searchType': 'all',\n",
    "    'all': 1,\n",
    "    'sort': 100,\n",
    "    'themes': None,\n",
    "    'lat': '37.50681',\n",
    "    'lng': '127.06624',\n",
    "    'capacityChildAges': None  \n",
    "}\n",
    "\n",
    "headers = {\n",
    "    'Referer' : 'https://www.yanolja.com/search/{0}?placeListType=search&keyword={0}'.format(urllib.parse.quote('제주도')),\n",
    "    'User-Agent' : 'Mozilla/5.0 (Windows NT 10.0; Win64; x64) AppleWebKit/537.36 (KHTML, like Gecko) Chrome/84.0.4147.105 Safari/537.36',\n",
    "    'X-Requested-With': 'XMLHttpRequest',\n",
    "    'Accept': 'application/json, text/plain, */*',\n",
    "    'Accept-Encoding': 'gzip, deflate, br',\n",
    "    'Accept-Language': 'ko-KR,ko;q=0.9,en-US;q=0.8,en;q=0.7',\n",
    "#     'Cookie': 'ACEUCI=1; %2Fsearch%2F%EC%A0%9C%EC%A3%BC%EB%8F%84%2Fkeyword-all={%22keyword%22:%22%EC%A0%9C%EC%A3%BC%EB%8F%84%22%2C%22searchKeyword%22:%22%EC%A0%9C%EC%A3%BC%EB%8F%84%22%2C%22checkinDate%22:%222020-08-16%22%2C%22checkoutDate%22:%222020-08-17%22%2C%22capacityAdult%22:1%2C%22capacityChild%22:0%2C%22capacityChildAges%22:%22%22}; cgntId=ap-northeast-2%3A2b47caae-3694-44f0-9d2b-43c98b30c098; yanolja_sid=s%3A0K-pijLPMujuW6NI5cJVcGOYBO2FXY0h.ZwiC623ThkJsrpFM9m7MiLj%2F8qYFHr3272Xla0K8NCk; SavedFiltersKey=/search/%EC%A0%9C%EC%A3%BC%EB%8F%84/keyword-all; ACEUACS=1596521299174217533; ACEFCID=UID-5F28FB542D0B4D05779333B5; _fbp=fb.1.1596521300441.1991528559; _ga=GA1.2.1408952294.1596521300; _gid=GA1.2.788840749.1596521300; location={%22latitude%22:%2237.50681%22%2C%22longitude%22:%22127.06624%22%2C%22address%22:%22%EC%84%9C%EC%9A%B8%ED%8A%B9%EB%B3%84%EC%8B%9C%20%EA%B0%95%EB%82%A8%EA%B5%AC%20%ED%85%8C%ED%97%A4%EB%9E%80%EB%A1%9C108%EA%B8%B8%2042%22%2C%22addressShort%22:%22%EC%84%9C%EC%9A%B8%ED%8A%B9%EB%B3%84%EC%8B%9C%20%EA%B0%95%EB%82%A8%EA%B5%AC%20%ED%85%8C%ED%97%A4%EB%9E%80%EB%A1%9C108%EA%B8%B8%22%2C%22addressOnlyRoad%22:%22%ED%85%8C%ED%97%A4%EB%9E%80%EB%A1%9C108%EA%B8%B8%22}; wcs_bt=ae93a192ec48a4:1596521393; AWSALB=zm/Jfq0CVy83/Q/bcMcY2ADivgyVdh6KNQc6bG1tPs9SA7T5733p2wvOClRpxNMSodWkruizJEGIcJbThOG1sBYm+WURo+8cqojOGppWN4ykkwQMNbQuiwexg5Nx; AWSALBCORS=zm/Jfq0CVy83/Q/bcMcY2ADivgyVdh6KNQc6bG1tPs9SA7T5733p2wvOClRpxNMSodWkruizJEGIcJbThOG1sBYm+WURo+8cqojOGppWN4ykkwQMNbQuiwexg5Nx'\n",
    "}\n",
    "\n",
    "## 호텔리스트가 홈페이지랑 다르게 나옴 -> 쿠키가 계속 갱신되는 것을 방지하기 위해 -> 처음 홈페이지에 들어가자마자의 쿠키를 저장해놓는다.\n",
    "s = requests.Session()\n",
    "s.get(\"https://www.yanolja.com/search/제주도?placeListType=search&keyword=제주도\")\n",
    "resp = s.get(base_url, params=params, headers=headers)\n",
    "# resp = requests.get(base_url, params = params, headers=headers)\n",
    "resp"
   ]
  },
  {
   "cell_type": "code",
   "execution_count": null,
   "metadata": {},
   "outputs": [],
   "source": [
    "\n"
   ]
  },
  {
   "cell_type": "code",
   "execution_count": 6,
   "metadata": {
    "scrolled": true
   },
   "outputs": [
    {
     "data": {
      "text/plain": [
       "{'paging': {'isLast': True, 'current': 1, 'total': 0},\n",
       " 'adverts': {'counts': 0, 'totalCounts': None, 'lists': []},\n",
       " 'subAdverts': {'counts': 0, 'totalCounts': None, 'lists': []},\n",
       " 'motels': {'counts': 0, 'totalCounts': 0, 'lists': []},\n",
       " 'expMeta': {'expWidget': 'SRPCONTENTSLOCALSTAY',\n",
       "  'expChannel': 'CX',\n",
       "  'expSpecifier': 'ap-northeast-2:3f4d07dd-7592-4d22-ad2d-5cc50eecac31',\n",
       "  'expLabId': '89',\n",
       "  'expGroup': 'SRPCONTENTSLOCALSTAY_A',\n",
       "  'expGroupNo': 44,\n",
       "  'expTimestamp': 1597651906631,\n",
       "  'expKindOfApi': 'EXTERNAL',\n",
       "  'expDynamicConfig': {'abTestKey': '0'},\n",
       "  'expCustomLogs': {},\n",
       "  'expElementOutputType': 'PLACE'}}"
      ]
     },
     "execution_count": 6,
     "metadata": {},
     "output_type": "execute_result"
    }
   ],
   "source": [
    "item_li = json.loads(resp.text)\n",
    "item_li"
   ]
  },
  {
   "cell_type": "code",
   "execution_count": 7,
   "metadata": {
    "scrolled": false
   },
   "outputs": [
    {
     "data": {
      "text/plain": [
       "dict"
      ]
     },
     "execution_count": 7,
     "metadata": {},
     "output_type": "execute_result"
    }
   ],
   "source": [
    "type(item_li)"
   ]
  },
  {
   "cell_type": "code",
   "execution_count": null,
   "metadata": {},
   "outputs": [],
   "source": []
  },
  {
   "cell_type": "code",
   "execution_count": null,
   "metadata": {},
   "outputs": [],
   "source": []
  },
  {
   "cell_type": "code",
   "execution_count": null,
   "metadata": {},
   "outputs": [],
   "source": []
  },
  {
   "cell_type": "code",
   "execution_count": 9,
   "metadata": {
    "scrolled": false
   },
   "outputs": [
    {
     "ename": "IndexError",
     "evalue": "list index out of range",
     "output_type": "error",
     "traceback": [
      "\u001b[1;31m---------------------------------------------------------------------------\u001b[0m",
      "\u001b[1;31mIndexError\u001b[0m                                Traceback (most recent call last)",
      "\u001b[1;32m<ipython-input-9-39e29c9bb494>\u001b[0m in \u001b[0;36m<module>\u001b[1;34m\u001b[0m\n\u001b[0;32m      3\u001b[0m \u001b[1;33m\u001b[0m\u001b[0m\n\u001b[0;32m      4\u001b[0m \u001b[1;32mfor\u001b[0m \u001b[0mi\u001b[0m \u001b[1;32min\u001b[0m \u001b[0mrange\u001b[0m\u001b[1;33m(\u001b[0m\u001b[1;36m15\u001b[0m\u001b[1;33m)\u001b[0m\u001b[1;33m:\u001b[0m\u001b[1;33m\u001b[0m\u001b[1;33m\u001b[0m\u001b[0m\n\u001b[1;32m----> 5\u001b[1;33m     \u001b[0mname\u001b[0m \u001b[1;33m=\u001b[0m \u001b[0mitem_li\u001b[0m\u001b[1;33m[\u001b[0m\u001b[1;34m'motels'\u001b[0m\u001b[1;33m]\u001b[0m\u001b[1;33m[\u001b[0m\u001b[1;34m'lists'\u001b[0m\u001b[1;33m]\u001b[0m\u001b[1;33m[\u001b[0m\u001b[0mi\u001b[0m\u001b[1;33m]\u001b[0m\u001b[1;33m[\u001b[0m\u001b[1;34m'name'\u001b[0m\u001b[1;33m]\u001b[0m\u001b[1;33m\u001b[0m\u001b[1;33m\u001b[0m\u001b[0m\n\u001b[0m\u001b[0;32m      6\u001b[0m     \u001b[0mname_list\u001b[0m\u001b[1;33m.\u001b[0m\u001b[0mappend\u001b[0m\u001b[1;33m(\u001b[0m\u001b[0mname\u001b[0m\u001b[1;33m)\u001b[0m\u001b[1;33m\u001b[0m\u001b[1;33m\u001b[0m\u001b[0m\n\u001b[0;32m      7\u001b[0m \u001b[0mprint\u001b[0m\u001b[1;33m(\u001b[0m\u001b[0mname_list\u001b[0m\u001b[1;33m)\u001b[0m\u001b[1;33m\u001b[0m\u001b[1;33m\u001b[0m\u001b[0m\n",
      "\u001b[1;31mIndexError\u001b[0m: list index out of range"
     ]
    }
   ],
   "source": [
    "# 호텔 이름\n",
    "name_list = []\n",
    "\n",
    "for i in range(15):\n",
    "    name = item_li['motels']['lists'][i]['name']\n",
    "    name_list.append(name)\n",
    "print(name_list)"
   ]
  },
  {
   "cell_type": "code",
   "execution_count": 10,
   "metadata": {
    "scrolled": true
   },
   "outputs": [
    {
     "ename": "IndexError",
     "evalue": "list index out of range",
     "output_type": "error",
     "traceback": [
      "\u001b[1;31m---------------------------------------------------------------------------\u001b[0m",
      "\u001b[1;31mIndexError\u001b[0m                                Traceback (most recent call last)",
      "\u001b[1;32m<ipython-input-10-86883fddfd66>\u001b[0m in \u001b[0;36m<module>\u001b[1;34m\u001b[0m\n\u001b[0;32m      3\u001b[0m \u001b[1;33m\u001b[0m\u001b[0m\n\u001b[0;32m      4\u001b[0m \u001b[1;32mfor\u001b[0m \u001b[0mi\u001b[0m \u001b[1;32min\u001b[0m \u001b[0mrange\u001b[0m\u001b[1;33m(\u001b[0m\u001b[1;36m20\u001b[0m\u001b[1;33m)\u001b[0m\u001b[1;33m:\u001b[0m\u001b[1;33m\u001b[0m\u001b[1;33m\u001b[0m\u001b[0m\n\u001b[1;32m----> 5\u001b[1;33m     \u001b[0mscore\u001b[0m \u001b[1;33m=\u001b[0m \u001b[0mitem_li\u001b[0m\u001b[1;33m[\u001b[0m\u001b[1;34m'motels'\u001b[0m\u001b[1;33m]\u001b[0m\u001b[1;33m[\u001b[0m\u001b[1;34m'lists'\u001b[0m\u001b[1;33m]\u001b[0m\u001b[1;33m[\u001b[0m\u001b[0mi\u001b[0m\u001b[1;33m]\u001b[0m\u001b[1;33m[\u001b[0m\u001b[1;34m'reviewScore'\u001b[0m\u001b[1;33m]\u001b[0m\u001b[1;33m\u001b[0m\u001b[1;33m\u001b[0m\u001b[0m\n\u001b[0m\u001b[0;32m      6\u001b[0m     \u001b[0mscore_list\u001b[0m\u001b[1;33m.\u001b[0m\u001b[0mappend\u001b[0m\u001b[1;33m(\u001b[0m\u001b[0mscore\u001b[0m\u001b[1;33m)\u001b[0m\u001b[1;33m\u001b[0m\u001b[1;33m\u001b[0m\u001b[0m\n\u001b[0;32m      7\u001b[0m \u001b[0mprint\u001b[0m\u001b[1;33m(\u001b[0m\u001b[0mscore_list\u001b[0m\u001b[1;33m)\u001b[0m\u001b[1;33m\u001b[0m\u001b[1;33m\u001b[0m\u001b[0m\n",
      "\u001b[1;31mIndexError\u001b[0m: list index out of range"
     ]
    }
   ],
   "source": [
    "# 호텔 점수\n",
    "score_list = []\n",
    "\n",
    "for i in range(20):\n",
    "    score = item_li['motels']['lists'][i]['reviewScore']\n",
    "    score_list.append(score)\n",
    "print(score_list)"
   ]
  },
  {
   "cell_type": "code",
   "execution_count": 11,
   "metadata": {
    "scrolled": true
   },
   "outputs": [
    {
     "ename": "IndexError",
     "evalue": "list index out of range",
     "output_type": "error",
     "traceback": [
      "\u001b[1;31m---------------------------------------------------------------------------\u001b[0m",
      "\u001b[1;31mIndexError\u001b[0m                                Traceback (most recent call last)",
      "\u001b[1;32m<ipython-input-11-ea7bda6b6676>\u001b[0m in \u001b[0;36m<module>\u001b[1;34m\u001b[0m\n\u001b[0;32m      3\u001b[0m \u001b[1;33m\u001b[0m\u001b[0m\n\u001b[0;32m      4\u001b[0m \u001b[1;32mfor\u001b[0m \u001b[0mi\u001b[0m \u001b[1;32min\u001b[0m \u001b[0mrange\u001b[0m\u001b[1;33m(\u001b[0m\u001b[1;36m20\u001b[0m\u001b[1;33m)\u001b[0m\u001b[1;33m:\u001b[0m\u001b[1;33m\u001b[0m\u001b[1;33m\u001b[0m\u001b[0m\n\u001b[1;32m----> 5\u001b[1;33m     \u001b[0mcount\u001b[0m \u001b[1;33m=\u001b[0m \u001b[0mitem_li\u001b[0m\u001b[1;33m[\u001b[0m\u001b[1;34m'motels'\u001b[0m\u001b[1;33m]\u001b[0m\u001b[1;33m[\u001b[0m\u001b[1;34m'lists'\u001b[0m\u001b[1;33m]\u001b[0m\u001b[1;33m[\u001b[0m\u001b[0mi\u001b[0m\u001b[1;33m]\u001b[0m\u001b[1;33m[\u001b[0m\u001b[1;34m'reviewCounts'\u001b[0m\u001b[1;33m]\u001b[0m\u001b[1;33m\u001b[0m\u001b[1;33m\u001b[0m\u001b[0m\n\u001b[0m\u001b[0;32m      6\u001b[0m     \u001b[0mcount_list\u001b[0m\u001b[1;33m.\u001b[0m\u001b[0mappend\u001b[0m\u001b[1;33m(\u001b[0m\u001b[0mcount\u001b[0m\u001b[1;33m)\u001b[0m\u001b[1;33m\u001b[0m\u001b[1;33m\u001b[0m\u001b[0m\n\u001b[0;32m      7\u001b[0m \u001b[0mprint\u001b[0m\u001b[1;33m(\u001b[0m\u001b[0mcount_list\u001b[0m\u001b[1;33m)\u001b[0m\u001b[1;33m\u001b[0m\u001b[1;33m\u001b[0m\u001b[0m\n",
      "\u001b[1;31mIndexError\u001b[0m: list index out of range"
     ]
    }
   ],
   "source": [
    "# 호텔 리뷰 개수\n",
    "count_list = []\n",
    "\n",
    "for i in range(20):\n",
    "    count = item_li['motels']['lists'][i]['reviewCounts']\n",
    "    count_list.append(count)\n",
    "print(count_list)"
   ]
  },
  {
   "cell_type": "code",
   "execution_count": 73,
   "metadata": {
    "scrolled": true
   },
   "outputs": [
    {
     "name": "stdout",
     "output_type": "stream",
     "text": [
      "[59000, 242000, 100000, 89000, 40000, 106400, 129000, 98000, 49500, 65000, 51000, 51030, 189992, 73000, 250000, 15000, 166610, 120000, 90600, 150000]\n"
     ]
    }
   ],
   "source": [
    "# 호텔 가격 => 예약마감 상관없이 다 뜬다.\n",
    "price_list = []\n",
    "\n",
    "for i in range(20):\n",
    "    if len(item_li['motels']['lists'][i]['displayPrices']) == 1:\n",
    "        price = item_li['motels']['lists'][i]['displayPrices'][0]['rawDiscountPrice']\n",
    "        price_list.append(price)\n",
    "    elif len(item_li['motels']['lists'][i]['displayPrices']) >= 2:\n",
    "        for j in range(2):\n",
    "            if item_li['motels']['lists'][i]['displayPrices'][j]['badgeText'] == '숙박특가':\n",
    "                price = item_li['motels']['lists'][i]['displayPrices'][j]['rawDiscountPrice']\n",
    "                price_list.append(price)\n",
    "print(price_list)"
   ]
  },
  {
   "cell_type": "code",
   "execution_count": 36,
   "metadata": {
    "scrolled": true
   },
   "outputs": [
    {
     "ename": "NameError",
     "evalue": "name 'item_li' is not defined",
     "output_type": "error",
     "traceback": [
      "\u001b[1;31m---------------------------------------------------------------------------\u001b[0m",
      "\u001b[1;31mNameError\u001b[0m                                 Traceback (most recent call last)",
      "\u001b[1;32m<ipython-input-36-29993b4abaa3>\u001b[0m in \u001b[0;36m<module>\u001b[1;34m\u001b[0m\n\u001b[0;32m      3\u001b[0m \u001b[1;33m\u001b[0m\u001b[0m\n\u001b[0;32m      4\u001b[0m \u001b[1;32mfor\u001b[0m \u001b[0mi\u001b[0m \u001b[1;32min\u001b[0m \u001b[0mrange\u001b[0m\u001b[1;33m(\u001b[0m\u001b[1;36m20\u001b[0m\u001b[1;33m)\u001b[0m\u001b[1;33m:\u001b[0m\u001b[1;33m\u001b[0m\u001b[1;33m\u001b[0m\u001b[0m\n\u001b[1;32m----> 5\u001b[1;33m     \u001b[1;32mif\u001b[0m \u001b[0mlen\u001b[0m\u001b[1;33m(\u001b[0m\u001b[0mitem_li\u001b[0m\u001b[1;33m[\u001b[0m\u001b[1;34m'motels'\u001b[0m\u001b[1;33m]\u001b[0m\u001b[1;33m[\u001b[0m\u001b[1;34m'lists'\u001b[0m\u001b[1;33m]\u001b[0m\u001b[1;33m[\u001b[0m\u001b[0mi\u001b[0m\u001b[1;33m]\u001b[0m\u001b[1;33m[\u001b[0m\u001b[1;34m'displayPrices'\u001b[0m\u001b[1;33m]\u001b[0m\u001b[1;33m)\u001b[0m \u001b[1;33m==\u001b[0m \u001b[1;36m1\u001b[0m\u001b[1;33m:\u001b[0m\u001b[1;33m\u001b[0m\u001b[1;33m\u001b[0m\u001b[0m\n\u001b[0m\u001b[0;32m      6\u001b[0m         \u001b[1;32mif\u001b[0m \u001b[0mitem_li\u001b[0m\u001b[1;33m[\u001b[0m\u001b[1;34m'motels'\u001b[0m\u001b[1;33m]\u001b[0m\u001b[1;33m[\u001b[0m\u001b[1;34m'lists'\u001b[0m\u001b[1;33m]\u001b[0m\u001b[1;33m[\u001b[0m\u001b[0mi\u001b[0m\u001b[1;33m]\u001b[0m\u001b[1;33m[\u001b[0m\u001b[1;34m'displayPrices'\u001b[0m\u001b[1;33m]\u001b[0m\u001b[1;33m[\u001b[0m\u001b[1;36m0\u001b[0m\u001b[1;33m]\u001b[0m\u001b[1;33m[\u001b[0m\u001b[1;34m'priceNote'\u001b[0m\u001b[1;33m]\u001b[0m \u001b[1;33m==\u001b[0m \u001b[1;34m'None'\u001b[0m\u001b[1;33m:\u001b[0m\u001b[1;33m\u001b[0m\u001b[1;33m\u001b[0m\u001b[0m\n\u001b[0;32m      7\u001b[0m             \u001b[0mprice\u001b[0m \u001b[1;33m=\u001b[0m \u001b[0mitem_li\u001b[0m\u001b[1;33m[\u001b[0m\u001b[1;34m'motels'\u001b[0m\u001b[1;33m]\u001b[0m\u001b[1;33m[\u001b[0m\u001b[1;34m'lists'\u001b[0m\u001b[1;33m]\u001b[0m\u001b[1;33m[\u001b[0m\u001b[0mi\u001b[0m\u001b[1;33m]\u001b[0m\u001b[1;33m[\u001b[0m\u001b[1;34m'displayPrices'\u001b[0m\u001b[1;33m]\u001b[0m\u001b[1;33m[\u001b[0m\u001b[1;36m0\u001b[0m\u001b[1;33m]\u001b[0m\u001b[1;33m[\u001b[0m\u001b[1;34m'priceNote'\u001b[0m\u001b[1;33m]\u001b[0m\u001b[1;33m\u001b[0m\u001b[1;33m\u001b[0m\u001b[0m\n",
      "\u001b[1;31mNameError\u001b[0m: name 'item_li' is not defined"
     ]
    }
   ],
   "source": [
    "# 호텔 가격 = > 예약마감이면 예약마감이 뜬다.\n",
    "price_list = []\n",
    "\n",
    "for i in range(20):\n",
    "    if len(item_li['motels']['lists'][i]['displayPrices']) == 1:\n",
    "        if item_li['motels']['lists'][i]['displayPrices'][0]['priceNote'] == 'None':\n",
    "            price = item_li['motels']['lists'][i]['displayPrices'][0]['priceNote']\n",
    "            price_list.append(price)\n",
    "            \n",
    "        elif item_li['motels']['lists'][i]['displayPrices'][0]['priceNote'] == 'None':\n",
    "            price = item_li['motels']['lists'][i]['displayPrices'][0]['rawDiscountPrice']\n",
    "            price_list.append(price)\n",
    "            \n",
    "    elif len(item_li['motels']['lists'][i]['displayPrices']) >= 2:\n",
    "        for j in range(2):\n",
    "            if item_li['motels']['lists'][i]['displayPrices'][j]['badgeText'] == '숙박특가':\n",
    "                if item_li['motels']['lists'][i]['displayPrices'][j]['priceNote'] != 'None':\n",
    "                    price = item_li['motels']['lists'][i]['displayPrices'][j]['priceNote']\n",
    "                    price_list.append(price)\n",
    "                    \n",
    "                elif item_li['motels']['lists'][i]['displayPrices'][0]['priceNote'] == 'None':\n",
    "                    price = item_li['motels']['lists'][i]['displayPrices'][j]['rawDiscountPrice']\n",
    "                    price_list.append(price)\n",
    "print(price_list)"
   ]
  },
  {
   "cell_type": "code",
   "execution_count": null,
   "metadata": {},
   "outputs": [],
   "source": []
  },
  {
   "cell_type": "code",
   "execution_count": null,
   "metadata": {},
   "outputs": [],
   "source": []
  },
  {
   "cell_type": "markdown",
   "metadata": {},
   "source": [
    "## for문 완성"
   ]
  },
  {
   "cell_type": "code",
   "execution_count": 75,
   "metadata": {
    "scrolled": true
   },
   "outputs": [
    {
     "name": "stdout",
     "output_type": "stream",
     "text": [
      "[{'name': '제주 해피니스펜션 (오션뷰,18.3월신축)', 'score': '4.6', 'count': '149', 'price': 59000}, {'name': '호텔 시리우스 제주', 'score': '4.6', 'count': '680', 'price': '예약마감'}, {'name': '서귀포 수펜션', 'score': '4.8', 'count': '51', 'price': '예약마감'}, {'name': '유탑유블레스호텔 제주함덕', 'score': '4.6', 'count': '469', 'price': 89000}, {'name': 'HY 초이호스텔 제주', 'score': '4.4', 'count': '74', 'price': 40000}, {'name': '호텔 리젠트마린', 'score': '4.6', 'count': '923', 'price': 106400}, {'name': '제주 빈티지1950카페펜션(조식제공)', 'score': '4.8', 'count': '290', 'price': 129000}, {'name': '서귀포 펜션연리', 'score': '5', 'count': '37', 'price': 98000}, {'name': '제주 컬리넌 호텔', 'score': '4.4', 'count': '1212', 'price': 49500}, {'name': '서귀포 라운지하우스제주다펜션', 'score': '5', 'count': '2', 'price': 65000}, {'name': '아트스테이 서귀포 하버', 'score': '4.6', 'count': '2063', 'price': 51000}, {'name': '빠레브 호텔 제주', 'score': '4.5', 'count': '290', 'price': 51030}, {'name': '라마다 프라자 제주', 'score': '4.7', 'count': '177', 'price': 189992}, {'name': '봄그리고가을 호텔&리조트', 'score': '4.6', 'count': '1099', 'price': 73000}, {'name': '제주 29풀빌라', 'score': '4.4', 'count': '9', 'price': 250000}, {'name': '제주 늘하우스 펜션&게스트하우스', 'score': '5', 'count': '1', 'price': 15000}, {'name': '롯데 시티호텔 제주', 'score': '4.8', 'count': '365', 'price': 166610}, {'name': '제주 그래펜션', 'score': '5', 'count': '8', 'price': '예약마감'}, {'name': '제주 허브인휴양펜션', 'score': '5', 'count': '28', 'price': 90600}, {'name': '에코그린 리조트&호텔&풀빌라', 'score': '4.3', 'count': '112', 'price': '예약마감'}]\n"
     ]
    }
   ],
   "source": [
    "\n",
    "item_list = []\n",
    "#name_list = []\n",
    "#score_list = []\n",
    "#price_list = []\n",
    "\n",
    "\n",
    "for i in range(20):\n",
    "    \n",
    "    # 호텔 이름\n",
    "    \n",
    "    name = item_li['motels']['lists'][i]['name']\n",
    "    #name_list.append(name)\n",
    "#print(name_list)\n",
    "\n",
    "        \n",
    "    \n",
    "    # 호텔 점수\n",
    "    \n",
    "    score = item_li['motels']['lists'][i]['reviewScore']\n",
    "    #score_list.append(score)\n",
    "#print(score_list)\n",
    "\n",
    "\n",
    "\n",
    "    # 리뷰 개수\n",
    "    \n",
    "    count = item_li['motels']['lists'][i]['reviewCounts']\n",
    "    #count_list.append(count)\n",
    "#print(count_list)\n",
    "\n",
    "\n",
    "\n",
    "    # 호텔 가격 = > 예약마감이면 예약마감이 뜬다.\n",
    "\n",
    "    if len(item_li['motels']['lists'][i]['displayPrices']) == 1:\n",
    "        if item_li['motels']['lists'][i]['displayPrices'][0]['priceNote'] == '예약마감':\n",
    "            price = '예약마감'\n",
    "            #price_list.append(price)\n",
    "            \n",
    "        else:\n",
    "            price = item_li['motels']['lists'][i]['displayPrices'][0]['rawDiscountPrice']\n",
    "            #price_list.append(price)\n",
    "            \n",
    "    elif len(item_li['motels']['lists'][i]['displayPrices']) >= 2:\n",
    "        for j in range(2):\n",
    "            if item_li['motels']['lists'][i]['displayPrices'][j]['badgeText'] == '숙박특가':\n",
    "                if item_li['motels']['lists'][i]['displayPrices'][j]['priceNote'] == '예약마감':\n",
    "                    price = '예약마감'\n",
    "                    #price_list.append(price)\n",
    "                    \n",
    "                else:\n",
    "                    price = item_li['motels']['lists'][i]['displayPrices'][j]['rawDiscountPrice']\n",
    "                    #price_list.append(price)\n",
    "#print(price_list)\n",
    "\n",
    "\n",
    "\n",
    "    item_list.append({'name' : name, \n",
    "                      'score' : score,\n",
    "                      'count' : count,\n",
    "                      'price' : price})\n",
    "print(item_list)"
   ]
  },
  {
   "cell_type": "code",
   "execution_count": null,
   "metadata": {},
   "outputs": [],
   "source": []
  },
  {
   "cell_type": "code",
   "execution_count": null,
   "metadata": {},
   "outputs": [],
   "source": []
  },
  {
   "cell_type": "code",
   "execution_count": null,
   "metadata": {},
   "outputs": [],
   "source": []
  },
  {
   "cell_type": "code",
   "execution_count": null,
   "metadata": {},
   "outputs": [],
   "source": []
  },
  {
   "cell_type": "code",
   "execution_count": 4,
   "metadata": {
    "scrolled": true
   },
   "outputs": [
    {
     "ename": "SyntaxError",
     "evalue": "invalid syntax (<ipython-input-4-2b7d61fb5030>, line 2)",
     "output_type": "error",
     "traceback": [
      "\u001b[1;36m  File \u001b[1;32m\"<ipython-input-4-2b7d61fb5030>\"\u001b[1;36m, line \u001b[1;32m2\u001b[0m\n\u001b[1;33m    print(item_table)\u001b[0m\n\u001b[1;37m        ^\u001b[0m\n\u001b[1;31mSyntaxError\u001b[0m\u001b[1;31m:\u001b[0m invalid syntax\n"
     ]
    }
   ],
   "source": [
    "item_table = dict(zip(name_list, score_list)\n",
    "print(item_table)"
   ]
  },
  {
   "cell_type": "code",
   "execution_count": null,
   "metadata": {},
   "outputs": [],
   "source": []
  },
  {
   "cell_type": "code",
   "execution_count": null,
   "metadata": {},
   "outputs": [],
   "source": []
  },
  {
   "cell_type": "code",
   "execution_count": null,
   "metadata": {},
   "outputs": [],
   "source": []
  },
  {
   "cell_type": "code",
   "execution_count": null,
   "metadata": {},
   "outputs": [],
   "source": []
  },
  {
   "cell_type": "markdown",
   "metadata": {},
   "source": [
    "## 함수 정의"
   ]
  },
  {
   "cell_type": "code",
   "execution_count": 91,
   "metadata": {},
   "outputs": [],
   "source": [
    "from bs4 import BeautifulSoup\n",
    "import requests\n",
    "import json\n",
    "\n",
    "def page_item_list(page):\n",
    "    base_url = \"https://www.yanolja.com/api/v1/contents/search\"\n",
    "    params = {\n",
    "        'capacityAdult': 1,\n",
    "        'capacityChild': 0,\n",
    "        'page': page,\n",
    "        'limit': 20,\n",
    "        'keyword': '제주도',\n",
    "        'checkinDate': '2020-08-16',\n",
    "        'checkoutDate': '2020-08-17',\n",
    "        'searchKeyword': '제주도',\n",
    "        'advert': 'KEYWORD',\n",
    "        'searchType': 'all',\n",
    "        'all': 1,\n",
    "        'sort': 100,\n",
    "        'themes': None,\n",
    "        'lat': '37.50681',\n",
    "        'lng': '127.06624',\n",
    "        'capacityChildAges': None  \n",
    "    }\n",
    "\n",
    "    headers = {\n",
    "        'Referer' : 'https://www.yanolja.com/search/{0}?placeListType=search&keyword={0}'.format(urllib.parse.quote('제주도')),\n",
    "        'User-Agent' : 'Mozilla/5.0 (Windows NT 10.0; Win64; x64) AppleWebKit/537.36 (KHTML, like Gecko) Chrome/84.0.4147.105 Safari/537.36',\n",
    "        'X-Requested-With': 'XMLHttpRequest',\n",
    "        'Accept': 'application/json, text/plain, */*',\n",
    "        'Accept-Encoding': 'gzip, deflate, br',\n",
    "        'Accept-Language': 'ko-KR,ko;q=0.9,en-US;q=0.8,en;q=0.7',\n",
    "    #     'Cookie': 'ACEUCI=1; %2Fsearch%2F%EC%A0%9C%EC%A3%BC%EB%8F%84%2Fkeyword-all={%22keyword%22:%22%EC%A0%9C%EC%A3%BC%EB%8F%84%22%2C%22searchKeyword%22:%22%EC%A0%9C%EC%A3%BC%EB%8F%84%22%2C%22checkinDate%22:%222020-08-16%22%2C%22checkoutDate%22:%222020-08-17%22%2C%22capacityAdult%22:1%2C%22capacityChild%22:0%2C%22capacityChildAges%22:%22%22}; cgntId=ap-northeast-2%3A2b47caae-3694-44f0-9d2b-43c98b30c098; yanolja_sid=s%3A0K-pijLPMujuW6NI5cJVcGOYBO2FXY0h.ZwiC623ThkJsrpFM9m7MiLj%2F8qYFHr3272Xla0K8NCk; SavedFiltersKey=/search/%EC%A0%9C%EC%A3%BC%EB%8F%84/keyword-all; ACEUACS=1596521299174217533; ACEFCID=UID-5F28FB542D0B4D05779333B5; _fbp=fb.1.1596521300441.1991528559; _ga=GA1.2.1408952294.1596521300; _gid=GA1.2.788840749.1596521300; location={%22latitude%22:%2237.50681%22%2C%22longitude%22:%22127.06624%22%2C%22address%22:%22%EC%84%9C%EC%9A%B8%ED%8A%B9%EB%B3%84%EC%8B%9C%20%EA%B0%95%EB%82%A8%EA%B5%AC%20%ED%85%8C%ED%97%A4%EB%9E%80%EB%A1%9C108%EA%B8%B8%2042%22%2C%22addressShort%22:%22%EC%84%9C%EC%9A%B8%ED%8A%B9%EB%B3%84%EC%8B%9C%20%EA%B0%95%EB%82%A8%EA%B5%AC%20%ED%85%8C%ED%97%A4%EB%9E%80%EB%A1%9C108%EA%B8%B8%22%2C%22addressOnlyRoad%22:%22%ED%85%8C%ED%97%A4%EB%9E%80%EB%A1%9C108%EA%B8%B8%22}; wcs_bt=ae93a192ec48a4:1596521393; AWSALB=zm/Jfq0CVy83/Q/bcMcY2ADivgyVdh6KNQc6bG1tPs9SA7T5733p2wvOClRpxNMSodWkruizJEGIcJbThOG1sBYm+WURo+8cqojOGppWN4ykkwQMNbQuiwexg5Nx; AWSALBCORS=zm/Jfq0CVy83/Q/bcMcY2ADivgyVdh6KNQc6bG1tPs9SA7T5733p2wvOClRpxNMSodWkruizJEGIcJbThOG1sBYm+WURo+8cqojOGppWN4ykkwQMNbQuiwexg5Nx'\n",
    "    }\n",
    "\n",
    "    ## 호텔리스트가 홈페이지랑 다르게 나옴 -> 쿠키가 계속 갱신되는 것을 방지하기 위해 -> 처음 홈페이지에 들어가자마자의 쿠키를 저장해놓는다.\n",
    "    s = requests.Session()\n",
    "    s.get(\"https://www.yanolja.com/search/{0}?placeListType=search&keyword={0}\".format('제주도'))\n",
    "    resp = s.get(base_url, params=params, headers=headers)\n",
    "    # resp = requests.get(base_url, params = params, headers=headers)\n",
    "    \n",
    "    \n",
    "    item_li = json.loads(resp.text)\n",
    "    \n",
    "    item_list = []\n",
    "    #name_list = []\n",
    "    #score_list = []\n",
    "    #price_list = []\n",
    "\n",
    "\n",
    "    for i in range(20):\n",
    "\n",
    "        # 호텔 이름\n",
    "\n",
    "        name = item_li['motels']['lists'][i]['name']\n",
    "        #name_list.append(name)\n",
    "    #print(name_list)\n",
    "\n",
    "\n",
    "\n",
    "        # 호텔 점수\n",
    "\n",
    "        score = item_li['motels']['lists'][i]['reviewScore']\n",
    "        #score_list.append(score)\n",
    "    #print(score_list)\n",
    "\n",
    "\n",
    "\n",
    "        # 리뷰 개수\n",
    "\n",
    "        count = item_li['motels']['lists'][i]['reviewCounts']\n",
    "        #count_list.append(count)\n",
    "    #print(count_list)\n",
    "\n",
    "\n",
    "\n",
    "        # 호텔 가격 = > 예약마감이면 예약마감이 뜬다.\n",
    "\n",
    "        if len(item_li['motels']['lists'][i]['displayPrices']) == 1:\n",
    "            if item_li['motels']['lists'][i]['displayPrices'][0]['priceNote'] == '예약마감':\n",
    "                price = '예약마감'\n",
    "                #price_list.append(price)\n",
    "\n",
    "            else:\n",
    "                price = item_li['motels']['lists'][i]['displayPrices'][0]['rawDiscountPrice']\n",
    "                #price_list.append(price)\n",
    "\n",
    "        elif len(item_li['motels']['lists'][i]['displayPrices']) >= 2:\n",
    "            for j in range(2):\n",
    "                if item_li['motels']['lists'][i]['displayPrices'][j]['badgeText'] == '숙박특가':\n",
    "                    if item_li['motels']['lists'][i]['displayPrices'][j]['priceNote'] == '예약마감':\n",
    "                        price = '예약마감'\n",
    "                        #price_list.append(price)\n",
    "\n",
    "                    else:\n",
    "                        price = item_li['motels']['lists'][i]['displayPrices'][j]['rawDiscountPrice']\n",
    "                        #price_list.append(price)\n",
    "    #print(price_list)\n",
    "\n",
    "\n",
    "\n",
    "        item_list.append({'name' : name, \n",
    "                          'score' : score,\n",
    "                          'count' : count,\n",
    "                          'price' : price})\n",
    "    print(item_list)    \n",
    "    \n",
    "    \n",
    "    "
   ]
  },
  {
   "cell_type": "code",
   "execution_count": 92,
   "metadata": {
    "scrolled": true
   },
   "outputs": [
    {
     "name": "stdout",
     "output_type": "stream",
     "text": [
      "[{'name': '제주 해피니스펜션 (오션뷰,18.3월신축)', 'score': '4.6', 'count': '149', 'price': 59000}, {'name': '호텔 시리우스 제주', 'score': '4.6', 'count': '680', 'price': '예약마감'}, {'name': '서귀포 수펜션', 'score': '4.8', 'count': '51', 'price': '예약마감'}, {'name': '유탑유블레스호텔 제주함덕', 'score': '4.6', 'count': '469', 'price': 89000}, {'name': 'HY 초이호스텔 제주', 'score': '4.4', 'count': '74', 'price': 40000}, {'name': '호텔 리젠트마린', 'score': '4.6', 'count': '923', 'price': 106400}, {'name': '제주 빈티지1950카페펜션(조식제공)', 'score': '4.8', 'count': '290', 'price': 129000}, {'name': '서귀포 펜션연리', 'score': '5', 'count': '37', 'price': 98000}, {'name': '제주 컬리넌 호텔', 'score': '4.4', 'count': '1212', 'price': 49500}, {'name': '서귀포 라운지하우스제주다펜션', 'score': '5', 'count': '2', 'price': 65000}, {'name': '아트스테이 서귀포 하버', 'score': '4.6', 'count': '2063', 'price': 51000}, {'name': '빠레브 호텔 제주', 'score': '4.5', 'count': '291', 'price': 51030}, {'name': '라마다 프라자 제주', 'score': '4.7', 'count': '177', 'price': 189992}, {'name': '봄그리고가을 호텔&리조트', 'score': '4.6', 'count': '1099', 'price': 73000}, {'name': '제주 29풀빌라', 'score': '4.4', 'count': '9', 'price': 250000}, {'name': '제주 늘하우스 펜션&게스트하우스', 'score': '5', 'count': '1', 'price': 15000}, {'name': '롯데 시티호텔 제주', 'score': '4.8', 'count': '365', 'price': 166610}, {'name': '제주 그래펜션', 'score': '5', 'count': '8', 'price': '예약마감'}, {'name': '제주 허브인휴양펜션', 'score': '5', 'count': '28', 'price': 90600}, {'name': '에코그린 리조트&호텔&풀빌라', 'score': '4.3', 'count': '112', 'price': '예약마감'}]\n"
     ]
    }
   ],
   "source": [
    "page_item_list(1)"
   ]
  },
  {
   "cell_type": "code",
   "execution_count": 93,
   "metadata": {
    "scrolled": false
   },
   "outputs": [
    {
     "name": "stdout",
     "output_type": "stream",
     "text": [
      "[{'name': '제주 엠 리조트', 'score': '4.8', 'count': '27', 'price': 70000}, {'name': '서귀포 오아시스휴양펜션', 'score': '5', 'count': '1', 'price': 70000}, {'name': '제주 369펜션', 'score': '5', 'count': '1', 'price': 100000}, {'name': '제주 해와바다 펜션 & 게스트하우스', 'score': '5', 'count': '6', 'price': 60000}, {'name': '서귀포 탐라도다펜션(MD추천)', 'score': '4.9', 'count': '202', 'price': 65000}, {'name': '골든튤립 제주 성산호텔', 'score': '4.4', 'count': '418', 'price': 83100}, {'name': '제주 헤이, 서귀포', 'score': '4.6', 'count': '555', 'price': '예약마감'}, {'name': '서귀포 마가렛펜션(엔틱의상대여)', 'score': '4.6', 'count': '178', 'price': 59000}, {'name': '서귀포 해든빌레펜션', 'score': '4.9', 'count': '32', 'price': 49000}, {'name': '서귀포 더조은하우스펜션', 'score': '4.9', 'count': '51', 'price': 129000}, {'name': '제주 헤이, 서귀포', 'score': '4.7', 'count': '385', 'price': 129000}, {'name': '파크 선샤인 제주', 'score': '4.8', 'count': '383', 'price': 100000}, {'name': '제주 곶자왈거문오름펜션', 'score': '5', 'count': '7', 'price': 70000}, {'name': '제주 이호1820 게스트하우스', 'score': '5', 'count': '2', 'price': 30000}, {'name': '제주 느낌펜션', 'score': '4.6', 'count': '98', 'price': 100800}, {'name': '제주 샤모니리조트', 'score': '4.7', 'count': '84', 'price': 31000}, {'name': '제주 랑데뷰펜션', 'score': '5', 'count': '9', 'price': '예약마감'}, {'name': '제주 하모니리조트', 'score': '5', 'count': '7', 'price': 140000}, {'name': '제주 낭만제주펜션(종달리,MD추천)', 'score': '4.8', 'count': '89', 'price': 60000}, {'name': '서귀포 공천포별장펜션(쇠소깍인근)', 'score': '5', 'count': '8', 'price': 70000}]\n"
     ]
    }
   ],
   "source": [
    "page_item_list(2)"
   ]
  },
  {
   "cell_type": "code",
   "execution_count": null,
   "metadata": {},
   "outputs": [],
   "source": []
  },
  {
   "cell_type": "code",
   "execution_count": null,
   "metadata": {},
   "outputs": [],
   "source": []
  },
  {
   "cell_type": "code",
   "execution_count": null,
   "metadata": {},
   "outputs": [],
   "source": []
  },
  {
   "cell_type": "code",
   "execution_count": null,
   "metadata": {},
   "outputs": [],
   "source": []
  },
  {
   "cell_type": "code",
   "execution_count": null,
   "metadata": {},
   "outputs": [],
   "source": []
  },
  {
   "cell_type": "code",
   "execution_count": null,
   "metadata": {},
   "outputs": [],
   "source": []
  },
  {
   "cell_type": "markdown",
   "metadata": {},
   "source": [
    "# 나_야놀자"
   ]
  },
  {
   "cell_type": "code",
   "execution_count": 33,
   "metadata": {},
   "outputs": [],
   "source": [
    "from bs4 import BeautifulSoup\n",
    "import requests\n",
    "import json\n",
    "import urllib\n",
    "\n",
    "\n",
    "def page_item_list(page, adult, child, checkin, checkout, keyword):\n",
    "    base_url = \"https://www.yanolja.com/api/v1/contents/search\"\n",
    "    params = {\n",
    "        'capacityAdult': adult,\n",
    "        'capacityChild': child,\n",
    "        'page': page,\n",
    "        'limit': 20,\n",
    "        'keyword': keyword,\n",
    "        'checkinDate': checkin,\n",
    "        'checkoutDate': checkout,\n",
    "        'searchKeyword': keyword,\n",
    "        'advert': 'KEYWORD',\n",
    "        'searchType': 'all',\n",
    "        'all': 1,\n",
    "        'sort': 100,\n",
    "        'themes': None,\n",
    "        'lat': '37.50681',\n",
    "        'lng': '127.06624',\n",
    "        'capacityChildAges': None  \n",
    "    }\n",
    "\n",
    "    headers = {\n",
    "        'Referer' : 'https://www.yanolja.com/search/{0}?placeListType=search&keyword={0}'.format(urllib.parse.quote(keyword)),\n",
    "        'User-Agent' : 'Mozilla/5.0 (Windows NT 10.0; Win64; x64) AppleWebKit/537.36 (KHTML, like Gecko) Chrome/84.0.4147.105 Safari/537.36',\n",
    "        'X-Requested-With': 'XMLHttpRequest',\n",
    "        'Accept': 'application/json, text/plain, */*',\n",
    "        'Accept-Encoding': 'gzip, deflate, br',\n",
    "        'Accept-Language': 'ko-KR,ko;q=0.9,en-US;q=0.8,en;q=0.7',\n",
    "    #     'Cookie': 'ACEUCI=1; %2Fsearch%2F%EC%A0%9C%EC%A3%BC%EB%8F%84%2Fkeyword-all={%22keyword%22:%22%EC%A0%9C%EC%A3%BC%EB%8F%84%22%2C%22searchKeyword%22:%22%EC%A0%9C%EC%A3%BC%EB%8F%84%22%2C%22checkinDate%22:%222020-08-16%22%2C%22checkoutDate%22:%222020-08-17%22%2C%22capacityAdult%22:1%2C%22capacityChild%22:0%2C%22capacityChildAges%22:%22%22}; cgntId=ap-northeast-2%3A2b47caae-3694-44f0-9d2b-43c98b30c098; yanolja_sid=s%3A0K-pijLPMujuW6NI5cJVcGOYBO2FXY0h.ZwiC623ThkJsrpFM9m7MiLj%2F8qYFHr3272Xla0K8NCk; SavedFiltersKey=/search/%EC%A0%9C%EC%A3%BC%EB%8F%84/keyword-all; ACEUACS=1596521299174217533; ACEFCID=UID-5F28FB542D0B4D05779333B5; _fbp=fb.1.1596521300441.1991528559; _ga=GA1.2.1408952294.1596521300; _gid=GA1.2.788840749.1596521300; location={%22latitude%22:%2237.50681%22%2C%22longitude%22:%22127.06624%22%2C%22address%22:%22%EC%84%9C%EC%9A%B8%ED%8A%B9%EB%B3%84%EC%8B%9C%20%EA%B0%95%EB%82%A8%EA%B5%AC%20%ED%85%8C%ED%97%A4%EB%9E%80%EB%A1%9C108%EA%B8%B8%2042%22%2C%22addressShort%22:%22%EC%84%9C%EC%9A%B8%ED%8A%B9%EB%B3%84%EC%8B%9C%20%EA%B0%95%EB%82%A8%EA%B5%AC%20%ED%85%8C%ED%97%A4%EB%9E%80%EB%A1%9C108%EA%B8%B8%22%2C%22addressOnlyRoad%22:%22%ED%85%8C%ED%97%A4%EB%9E%80%EB%A1%9C108%EA%B8%B8%22}; wcs_bt=ae93a192ec48a4:1596521393; AWSALB=zm/Jfq0CVy83/Q/bcMcY2ADivgyVdh6KNQc6bG1tPs9SA7T5733p2wvOClRpxNMSodWkruizJEGIcJbThOG1sBYm+WURo+8cqojOGppWN4ykkwQMNbQuiwexg5Nx; AWSALBCORS=zm/Jfq0CVy83/Q/bcMcY2ADivgyVdh6KNQc6bG1tPs9SA7T5733p2wvOClRpxNMSodWkruizJEGIcJbThOG1sBYm+WURo+8cqojOGppWN4ykkwQMNbQuiwexg5Nx'\n",
    "    }\n",
    "\n",
    "    ## 호텔리스트가 홈페이지랑 다르게 나옴 -> 쿠키가 계속 갱신되는 것을 방지하기 위해 -> 처음 홈페이지에 들어가자마자의 쿠키를 저장해놓는다.\n",
    "    s = requests.Session()\n",
    "    s.get(\"https://www.yanolja.com/search/{0}?placeListType=search&keyword={0}\".format(keyword))\n",
    "    resp = s.get(base_url, params=params, headers=headers)\n",
    "    # resp = requests.get(base_url, params = params, headers=headers)\n",
    "    \n",
    "    \n",
    "    item_li = json.loads(resp.text)\n",
    "    \n",
    "    item_list = []\n",
    "    #name_list = []\n",
    "    #score_list = []\n",
    "    #price_list = []\n",
    "\n",
    "\n",
    "    for i in range(20):\n",
    "\n",
    "        # 호텔 이름\n",
    "\n",
    "        name = item_li['motels']['lists'][i]['name']\n",
    "        #name_list.append(name)\n",
    "    #print(name_list)\n",
    "\n",
    "\n",
    "\n",
    "        # 호텔 점수\n",
    "\n",
    "        score = item_li['motels']['lists'][i]['reviewScore']\n",
    "        #score_list.append(score)\n",
    "    #print(score_list)\n",
    "\n",
    "\n",
    "\n",
    "        # 리뷰 개수\n",
    "\n",
    "        count = item_li['motels']['lists'][i]['reviewCounts']\n",
    "        #count_list.append(count)\n",
    "    #print(count_list)\n",
    "\n",
    "\n",
    "\n",
    "        # 호텔 가격 = > 예약마감이면 예약마감이 뜬다.\n",
    "\n",
    "        if len(item_li['motels']['lists'][i]['displayPrices']) == 1:\n",
    "            if item_li['motels']['lists'][i]['displayPrices'][0]['priceNote'] == '예약마감':\n",
    "                price = '예약마감'\n",
    "                #price_list.append(price)\n",
    "\n",
    "            else:\n",
    "                price = item_li['motels']['lists'][i]['displayPrices'][0]['rawDiscountPrice']\n",
    "                #price_list.append(price)\n",
    "\n",
    "        elif len(item_li['motels']['lists'][i]['displayPrices']) >= 2:\n",
    "            for j in range(2):\n",
    "                if item_li['motels']['lists'][i]['displayPrices'][j]['badgeText'] == '숙박특가':\n",
    "                    if item_li['motels']['lists'][i]['displayPrices'][j]['priceNote'] == '예약마감':\n",
    "                        price = '예약마감'\n",
    "                        #price_list.append(price)\n",
    "\n",
    "                    else:\n",
    "                        price = item_li['motels']['lists'][i]['displayPrices'][j]['rawDiscountPrice']\n",
    "                        #price_list.append(price)\n",
    "    #print(price_list)\n",
    "\n",
    "\n",
    "\n",
    "        item_list.append({'name' : name, \n",
    "                          'score' : float(score),\n",
    "                          'count' : float(count),\n",
    "                          'price' : price})\n",
    "\n",
    "        \n",
    "    print(item_list)    \n",
    "    \n",
    "    "
   ]
  },
  {
   "cell_type": "code",
   "execution_count": 43,
   "metadata": {},
   "outputs": [
    {
     "ename": "UnboundLocalError",
     "evalue": "local variable 'price' referenced before assignment",
     "output_type": "error",
     "traceback": [
      "\u001b[1;31m---------------------------------------------------------------------------\u001b[0m",
      "\u001b[1;31mUnboundLocalError\u001b[0m                         Traceback (most recent call last)",
      "\u001b[1;32m<ipython-input-43-6907a8eb54df>\u001b[0m in \u001b[0;36m<module>\u001b[1;34m\u001b[0m\n\u001b[1;32m----> 1\u001b[1;33m \u001b[0mpage_item_list\u001b[0m\u001b[1;33m(\u001b[0m\u001b[1;36m1\u001b[0m\u001b[1;33m,\u001b[0m \u001b[1;36m1\u001b[0m\u001b[1;33m,\u001b[0m \u001b[1;36m0\u001b[0m\u001b[1;33m,\u001b[0m \u001b[1;34m'2020-08-15'\u001b[0m\u001b[1;33m,\u001b[0m \u001b[1;34m'2020-08-16'\u001b[0m\u001b[1;33m,\u001b[0m \u001b[1;34m'울릉도'\u001b[0m\u001b[1;33m)\u001b[0m\u001b[1;33m\u001b[0m\u001b[1;33m\u001b[0m\u001b[0m\n\u001b[0m",
      "\u001b[1;32m<ipython-input-33-76975f7a033f>\u001b[0m in \u001b[0;36mpage_item_list\u001b[1;34m(page, adult, child, checkin, checkout, keyword)\u001b[0m\n\u001b[0;32m    105\u001b[0m                           \u001b[1;34m'score'\u001b[0m \u001b[1;33m:\u001b[0m \u001b[0mfloat\u001b[0m\u001b[1;33m(\u001b[0m\u001b[0mscore\u001b[0m\u001b[1;33m)\u001b[0m\u001b[1;33m,\u001b[0m\u001b[1;33m\u001b[0m\u001b[1;33m\u001b[0m\u001b[0m\n\u001b[0;32m    106\u001b[0m                           \u001b[1;34m'count'\u001b[0m \u001b[1;33m:\u001b[0m \u001b[0mfloat\u001b[0m\u001b[1;33m(\u001b[0m\u001b[0mcount\u001b[0m\u001b[1;33m)\u001b[0m\u001b[1;33m,\u001b[0m\u001b[1;33m\u001b[0m\u001b[1;33m\u001b[0m\u001b[0m\n\u001b[1;32m--> 107\u001b[1;33m                           'price' : price})\n\u001b[0m\u001b[0;32m    108\u001b[0m \u001b[1;33m\u001b[0m\u001b[0m\n\u001b[0;32m    109\u001b[0m \u001b[1;33m\u001b[0m\u001b[0m\n",
      "\u001b[1;31mUnboundLocalError\u001b[0m: local variable 'price' referenced before assignment"
     ]
    }
   ],
   "source": [
    "page_item_list(1, 1, 0, '2020-08-15', '2020-08-16', '울릉도')"
   ]
  },
  {
   "cell_type": "code",
   "execution_count": null,
   "metadata": {},
   "outputs": [],
   "source": []
  },
  {
   "cell_type": "code",
   "execution_count": null,
   "metadata": {},
   "outputs": [],
   "source": []
  },
  {
   "cell_type": "code",
   "execution_count": null,
   "metadata": {},
   "outputs": [],
   "source": []
  },
  {
   "cell_type": "code",
   "execution_count": null,
   "metadata": {},
   "outputs": [],
   "source": []
  },
  {
   "cell_type": "markdown",
   "metadata": {},
   "source": [
    "# 유진_호텔스닷컴"
   ]
  },
  {
   "cell_type": "code",
   "execution_count": 36,
   "metadata": {},
   "outputs": [],
   "source": [
    "from bs4 import BeautifulSoup\n",
    "import requests\n",
    "import json\n",
    "import urllib\n",
    "\n",
    "\n",
    "def page_item_list(page, keyword, checkin, checkout, adult, child):\n",
    "    base_url='https://kr.hotels.com/search/listings.json'\n",
    "    params={\n",
    "        #'pg-offset':page,\n",
    "        #'distination-id':'1644457', \n",
    "        'q-check-out': checkin,\n",
    "        'q-destination':keyword,\n",
    "        'q-check-in':checkin,\n",
    "        'q-check-out':checkout,\n",
    "        'q-rooms':1,\n",
    "        'q-room-0-adults':adult,\n",
    "        'q-room-0-children':child,\n",
    "        'pg':1,\n",
    "        #'start-index':1,\n",
    "        'pn':page,\n",
    "        #'resolved-location':'REGION:1644457:UNKNOWN:UNKNOWN'\n",
    "    }\n",
    "\n",
    "    headers={\n",
    "        'content-type': 'application/javascript',\n",
    "        'x-requested-with': 'XMLHttpRequest',\n",
    "        #'referer':'https://kr.hotels.com/search.do?resolved-location=REGION%3A1644457%3AUNKNOWN%3AUNKNOWN&destination-id=1644457&q-destination={0}&q-check-in=2020-08-16&q-check-out=2020-08-17&q-rooms=1&q-room-0-adults=1&q-room-0-children=0'.format(urllib.parse.quote(keyword)),\n",
    "        'user-agent':'Mozilla/5.0 (Windows NT 10.0; Win64; x64) AppleWebKit/537.36 (KHTML, like Gecko) Chrome/84.0.4147.105 Safari/537.36',\n",
    "        'cookie': \"asc=1; homepage_search_data=7KCc7KO864-ELCDsoJzso7zsi5wsIO2VnOq1rQ..%2F%2F2020%2F08%2F16%2F%2F2020%2F08%2F17%2F%2F1%2F%2Fyyyy%2FMM%2Fdd%2F%2F1644457%2F%2F; guid=8c8ca612-b270-42cb-95aa-6232c2538458; user=QSprb19LUnxIQ09NX0tS; dr=AAA~1596523818~5C85BBDD535AE5EBF43E87FBF3ED905266EB65950AFBFD78AC0671363A77CA79; akacd_pr_20=1601707820~rv=31~id=44ca8f82368ff8df2ac1cef34c3ccc77; bm_sz=91F45291ECCBD9CF669AE98B49CA6C7D~YAAQa3pGaFBIOoBzAQAALzY8uAjOZf4bEil+pJ9j7T4xHGo5L0We9RrvFkah4Ntqo/cwcLTTJE/iBUXVgkfqE0iJKW9BFb7MP7TecuUec4RqjpNsP2kaEjHxE5mKNYefWc2HoK06cqN5xm/nP7KJBfW4ANgO3yTiCM6bebnDHYkGER21/OCeV4M8NejdwiHs; _ga=GA1.2.20859871.1596523819; _gid=GA1.2.1549673115.1596523819; s_ecid=MCMID%7C78976063976117546201547030336521815933; AMCVS_C00802BE5330A8350A490D4C%40AdobeOrg=1; mvthistory=eJxNj0kKQjEQRG8U0lN62LoRRAQv4PrfwcPb%2Bd2Kq7w8qorEbawxx0EQQJaEgap5zmCXsemwgAl8ugQZuKUHQAZOyUjDva3MqidYRWmzt4RZoGoFhr1iCpXXAOd1Spzm3xEko2IIFMQBFUZZNY5i0uBdX8QVg7xo2XFg0O%2BTANIgXOucvKilzupTMHJXeGGBQA%2FCZv1jK6bN3mHqF%2Be%2B27n%2Fvl4e99ft%2BQErFlFN; AMCV_C00802BE5330A8350A490D4C%40AdobeOrg=-1330315163%7CMCIDTS%7C18479%7CMCMID%7C78976063976117546201547030336521815933%7CMCAID%7CNONE%7CMCOPTOUT-1596531019s%7CNONE%7CMCAAMLH-1597128619%7C11%7CMCAAMB-1597128619%7Cj8Odv6LonN4r3an7LhD3WZrU1bUpAkFkkiY1ncBR96t2PTI; s_cc=true; _abck=2ED1A02051B8DEB245303D2079BFA297~0~YAAQa3pGaG1IOoBzAQAAYTo8uATWuv2nvnfdxtDM1HX8spMwJ/uePIa0J+yDDpECBjueRhJJnTCQeLN65aS9O2/FNU6d0/WCMG5BlCwygcTvGmmf7DWIa9LrwFv3vUW4KMvUIUG512ERyfZN6zGK1qfws1T/EYZq4oqOB5Z3c7VJPbnqwsjjsUB4/i1LiWyT4L8KcN0G7XXYdNhUl1lHg5uVd0k0Rlwxwk5ErlZ0/sI93o/ZSyhcdjCE/+mhsnRk0JPWMuhjnPmCvo7Z0ASd18VykJL4SQ3HDqBpsWs0pfZLvx7V0gFpd0DFflGEWV8jrY/lmk4QRw==~-1~-1~-1; _gcl_au=1.1.160751177.1596523820; _fbp=fb.1.1596523820167.896421725; 0e16e784-167b-49ee-b1ac-0ff7866eb4fbfaktorId=5cac8980-8e5b-4cc8-82d6-c10efc3d3428; lastConsentChange=1596523820269; 0e16e784-167b-49ee-b1ac-0ff7866eb4fbeuconsent=BO3mjO6O3mjO6ADABAENDV-AAAAx6ATgAUABoAEAAKwAXABkAEAAMgAaQBEAEUAI4ATAAngBbAEEAJAATgBCACpAHVARqA; 0e16e784-167b-49ee-b1ac-0ff7866eb4fbcconsent=BO3mjO6O3mjO6ADABAENA7AAAAAOWAAA; 0e16e784-167b-49ee-b1ac-0ff7866eb4fbfaktorChecksum=-1176279445; __gads=ID=0b734ce775df8ba2-222c1fd2c6c2005b:T=1596523822:S=ALNI_MZhdUG_e5KVdQLyxGd-QTgPh34YZg; xdid=0e1a2a2a-35f6-4831-a4f6-f3389ef1ca7a|1596523822|kr.hotels.com; xdidp=0e1a2a2a-35f6-4831-a4f6-f3389ef1ca7a|1596523822|kr.hotels.com; s_sq=%5B%5BB%5D%5D; visitId=edbcaa2e-4968-4009-ac85-383907b77d5f; SESSID=kmF9C5mRd1F3cSUDGpr_gCaDoZ.sa-6f74c7cf76-x4jn8; Session_Pageviews=6; _uetsid=c6e7370525e12b88d62d48ad3703a7c3; _uetvid=3363ca2720f5a4cef91d6a35a5ae68ab\",\n",
    "        #'pragma': 'no-cache',\n",
    "        #'cache-control': 'no-cache',\n",
    "        #'accept': 'application/json, text/javascript, */*; q=0.01',\n",
    "        #'accept-language': 'ko-KR,ko;q=0.9,en-US;q=0.8,en;q=0.7',\n",
    "        #'accept-encoding': 'gzip, deflate, br'\n",
    "\n",
    "    #     'cookie': 'channel=DC; 30dlt=seo.hcom.kr.b2.search.naver.com; guid=70b194a6-7d06-4407-813d-439ddc81e8b1; user=QSprb19LUnxIQ09NX0tS; akacd_pr_20=1601370854~rv=10~id=56b99db0bffa807a7ae68b57c1f84d62; _ga=GA1.2.262126391.1596186854; s_ecid=MCMID%7C18020916849438730392200037473831731739; _fbp=fb.1.1596186855014.1096204561; _gcl_au=1.1.2093965117.1596186855; __gads=ID=28a1f36c47d1b899:T=1596186855:S=ALNI_MbMfgFuOVpeHde-Lxvoqy6try5X3w; xdid=03a4919c-5c4e-476b-9704-1db0fd86a8cf|1596186857|kr.hotels.com; xdidp=23fa12ed-bf86-42d0-b153-3665d6e271eb|1596186754|expedia.co.kr; lastConsentChange=1596186857180; mvthistory=eJxNj0luRCEMRG%2BEKA942PampSiKlAtk%2Fe%2BQwwe%2B3a2seDyVyxA%2B1pjjYiTYN1GS2T5nSug4dHliQm63QQcdGQnswC2FeES01VnjG7yifDhaYhaYeYFTt7ih8pYIWbek6fEqIXYuRpISDVSYdFU5qWtD9PhiqRj2xcqOi5LfnwS0QaXaZfPiljZrnlNIeoQnqsdSZFFJRZfjsP1jL%2BbD0WHu1%2B9d4feu3%2Bfj6%2FPn4%2FsPA1NT2Q%3D%3D; bm_sz=9BD21E821845D51FA0D9B135BB256B3A~YAAQDXpGaMvdmYZzAQAA7BL3sgjXMidVKi2JZezEhByPD+UlXFPyGWEuydcxo7jaG5deLqOuRULrEn/lhgOo6iEtj0Wad9xJ0uolA4BJwtwL18+2xpptdBd8jS3LfCLmEC2uX/WB2NnK4m4x4mzrUm7mHQGUykHOubX9A0cqY4zyEdtY0AH0PZ63K2zYl6Mi; asc=1; dr=AAA~1596435404~4AF6F0445D3489A1E092F641066F96B93D40B40DDD943022EE1E98D4913A7C2F; _gid=GA1.2.1546820872.1596435403; AMCVS_C00802BE5330A8350A490D4C%40AdobeOrg=1; s_cc=true; _abck=0D541D156BC09BE7D94D3AADD67548B2~0~YAAQPpc7F7sM/YBzAQAA3mYGswS9B4zk5w3WOr8TTX6EdGFztlMwMx528/eu2Vz3EQaN3+8S3onODcjC4mo7KcYCpqKKLtj1ypt21eC/Yywv7637PKmn2lQ4e+wTFI7Sy3+QG9Y26Wqe65goPJIbp8xKgM9x1qhhWo0ZCFQnY6q5ei/AfEMj5eWcm5pUUd8yCmTmwU2Ed0icdnCyKmuepD4P5rE9Qog//nbnhsKAhm5Kdsy8YVfYcjxBPhm72gfx92QF61+SXsk7W2VFnJkZ3fUsxWSqVziuxqLi8F4uVoW7iZ6FlEin0WTebWhrTlHO9xBgc7tcAw==~-1~-1~-1; homepage_search_data=7KCc7KO864-ELCDsoJzso7zsi5wsIO2VnOq1rQ..%2F%2F2020%2F08%2F16%2F%2F2020%2F08%2F17%2F%2F1%2F%2Fyyyy%2FMM%2Fdd%2F%2F1644457%2F%2F; visitId=9c2e2fae-5554-4ea6-a40b-89f3d70f6305; SESSID=d1zQ1OkaL9VJyQvfYjWcg2o8sR.sa-665cf686c4-7q8g6; s_sq=%5B%5BB%5D%5D; aws=1; _gat=1; AMCV_C00802BE5330A8350A490D4C%40AdobeOrg=-1330315163%7CMCIDTS%7C18478%7CMCMID%7C18020916849438730392200037473831731739%7CMCAAMLH-1596791653%7C11%7CMCAAMB-1597047604%7CRKhpRz8krg2tLO6pguXWp5olkAcUniQYPHaMWWgdJ3xzPWQmdj0y%7CMCOPTOUT-1596450004s%7CNONE%7CMCAID%7CNONE; Session_Pageviews=14; _uetsid=f42780afb3dcaf6da3acf7261a71a6e4; _uetvid=26e44a5e73df2819b24f5fccdadd9add'\n",
    "    }\n",
    "    \n",
    "    s = requests.Session()\n",
    "    resp=s.get(base_url,params=params,headers=headers)\n",
    "    items=json.loads(resp.text)\n",
    "    \n",
    "    \n",
    "    results=items['data']['body']['searchResults']['results']\n",
    "   \n",
    "    \n",
    "    hotels_list=[]\n",
    "\n",
    "    for i in range(len(results)):\n",
    "        hotels_names=items['data']['body']['searchResults']['results'][i]['name']\n",
    "        if ('guestReviews' in items['data']['body']['searchResults']['results'][i])==False:\n",
    "            hotels_stars='None'\n",
    "        else:\n",
    "            hotels_stars=items['data']['body']['searchResults']['results'][i]['guestReviews']['rating']\n",
    "            hotels_reviews=items['data']['body']['searchResults']['results'][i]['guestReviews']['total']\n",
    "        if ('soldOut' in items['data']['body']['searchResults']['results'][i])==False:\n",
    "            hotels_prices=items['data']['body']['searchResults']['results'][i]['ratePlan']['price']['exactCurrent']\n",
    "        else:\n",
    "            hotels_prices='SoldOut'\n",
    "\n",
    "        hotels_list.append({\n",
    "            'name': hotels_names,\n",
    "            'price': hotels_prices,\n",
    "            'count': hotels_reviews,\n",
    "            'score': hotels_stars\n",
    "        })\n",
    "    \n",
    "    return hotels_list"
   ]
  },
  {
   "cell_type": "code",
   "execution_count": 37,
   "metadata": {
    "scrolled": false
   },
   "outputs": [
    {
     "data": {
      "text/plain": [
       "[{'name': '호텔 토스카나 (Hotel Toscana)',\n",
       "  'price': 582955.0,\n",
       "  'count': 543,\n",
       "  'score': '9.2'},\n",
       " {'name': '롯데 호텔 제주 (Lotte Hotel Jeju)',\n",
       "  'price': 590000.0,\n",
       "  'count': 1288,\n",
       "  'score': '9.0'},\n",
       " {'name': '베스트 웨스턴 제주 호텔 (Best Western Jeju Hotel)',\n",
       "  'price': 63750.0,\n",
       "  'count': 1057,\n",
       "  'score': '8.4'},\n",
       " {'name': '서머셋제주신화월드 (Somerset Jeju Shinhwa World)',\n",
       "  'price': 'SoldOut',\n",
       "  'count': 572,\n",
       "  'score': '9.2'},\n",
       " {'name': '라마다 제주시티홀 (Ramada Jeju City Hall)',\n",
       "  'price': 65097.0,\n",
       "  'count': 683,\n",
       "  'score': '8.6'},\n",
       " {'name': '호텔 난타 제주 (Hotel Nanta Jeju)',\n",
       "  'price': 76909.0,\n",
       "  'count': 1365,\n",
       "  'score': '9.0'},\n",
       " {'name': '골드원 호텔 & 스위트 (GoldOne Hotel & Suites)',\n",
       "  'price': 261818.0,\n",
       "  'count': 101,\n",
       "  'score': '8.8'},\n",
       " {'name': '휘닉스 제주 섭지 코지 (Phoenix seopjikoji)',\n",
       "  'price': 908183.0,\n",
       "  'count': 323,\n",
       "  'score': '8.0'},\n",
       " {'name': '썬라이즈호텔 성산점 (Sunrise Hotel Sungsan)',\n",
       "  'price': 76364.0,\n",
       "  'count': 121,\n",
       "  'score': '8.2'},\n",
       " {'name': '스타하우스 (Star House)',\n",
       "  'price': 32728.0,\n",
       "  'count': 121,\n",
       "  'score': 'None'},\n",
       " {'name': '메리어트관 제주신화월드 호텔앤리조트 (Marriott Jeju Shinhwa World Hotels & Resorts)',\n",
       "  'price': 'SoldOut',\n",
       "  'count': 402,\n",
       "  'score': '8.8'},\n",
       " {'name': '리코 리조트 (Rico Resort)',\n",
       "  'price': 142602.0,\n",
       "  'count': 1,\n",
       "  'score': '10.0'},\n",
       " {'name': '호텔 윈 스카이 (Win Sky Hotel)',\n",
       "  'price': 39545.0,\n",
       "  'count': 186,\n",
       "  'score': '8.6'},\n",
       " {'name': '신신호텔 천지연 (Shin Shin Hotel Cheonjiyeon)',\n",
       "  'price': 43182.0,\n",
       "  'count': 186,\n",
       "  'score': 'None'}]"
      ]
     },
     "execution_count": 37,
     "metadata": {},
     "output_type": "execute_result"
    }
   ],
   "source": [
    "page_item_list(1, '제주도', '2020-08-16', '2020-08-17', 1, 0)"
   ]
  },
  {
   "cell_type": "code",
   "execution_count": null,
   "metadata": {},
   "outputs": [],
   "source": []
  },
  {
   "cell_type": "code",
   "execution_count": null,
   "metadata": {},
   "outputs": [],
   "source": []
  },
  {
   "cell_type": "code",
   "execution_count": null,
   "metadata": {},
   "outputs": [],
   "source": []
  },
  {
   "cell_type": "code",
   "execution_count": null,
   "metadata": {},
   "outputs": [],
   "source": []
  },
  {
   "cell_type": "markdown",
   "metadata": {},
   "source": [
    "# 이정환_에어비앤비"
   ]
  },
  {
   "cell_type": "code",
   "execution_count": 32,
   "metadata": {},
   "outputs": [],
   "source": [
    "from bs4 import BeautifulSoup\n",
    "import requests\n",
    "import json\n",
    "import urllib\n",
    "\n",
    "\n",
    "def airbnb(keyword, checkin, checkout, page):  #place = 장소, checkin = 체크인 날짜, checkout :체크아웃 날짜, pages=검색하고자 하는 페이지 수\n",
    "    \n",
    "    \n",
    "    result_list=[]  #크롤링 최종 결과를 담을 리스트\n",
    "    \n",
    "    #에어비앤비는 offset이 20단위로 페이지가 변화 ex)offset 0 : 1페이지 , offset 1~20: 2페이지 \n",
    "    for page in range(1,page+1): #입력받은 페이지 수만큼 모두 크롤링 하기 위해\n",
    "        if page==1:  #page가 1이면 offset=0\n",
    "            offset=0\n",
    "        else:\n",
    "            offset=page*20  #1보다 크면 page*20\n",
    "    \n",
    "    \n",
    "        #리퀘스트할 url과 파라미터 설정\n",
    "        base_url=\"https://www.airbnb.co.kr/s/%EC%A0%9C%EC%A3%BC%EB%8F%84/homes\" \n",
    "        params={'query': keyword,\n",
    "         'federated_search_session_id': 'e296e38b-6ec1-4296-9a81-f762cfb2c92a',\n",
    "         'source': 'structured_search_input_header',\n",
    "         'search_type': 'pagination',\n",
    "         'tab_id': 'home_tab',\n",
    "         'checkin': checkin,\n",
    "         'refinement_paths[]': '/homes',\n",
    "         'checkout': checkout,\n",
    "         'place_id': 'ChIJRUDITFTjDDURMb8emNI2vGY',\n",
    "         'section_offset': '2',\n",
    "         'items_offset': offset}\n",
    "        \n",
    "        resp=requests.get(base_url,params=params)\n",
    "        soup=BeautifulSoup(resp.text)\n",
    "        item_tags=soup.select(\"#FMP-target > div > div > div > div\")\n",
    "        len(item_tags[0])\n",
    "\n",
    "        \n",
    "        #해당 숙소에 대한 상세페이지 url을 가져옴\n",
    "        a_tags=item_tags[0].find_all(\"a\")\n",
    "        url_list=[]\n",
    "        for i in a_tags:\n",
    "            url_list.append(\"https://www.airbnb.co.kr%s\" %i.get(\"href\"))\n",
    "\n",
    "\n",
    "        #숙소들의 가격정보를 가져옴\n",
    "        price_tags=item_tags[0].find_all(\"span\", class_=\"_1p7iugi\")\n",
    "        price_list=[]\n",
    "        for i in price_tags:\n",
    "            try:\n",
    "                price=i.text.split(\":\")[2]\n",
    "            except:\n",
    "                price=i.text.split(\":\")[1]\n",
    "\n",
    "            price_list.append(price.replace(\"₩\",\"\"))\n",
    "\n",
    "        #숙소들의 리뷰 개수를 가져옴\n",
    "        count_reviews=item_tags[0].find_all(\"span\",class_=\"_krjbj\")\n",
    "        count_reviews\n",
    "        count_reviews_list=[]\n",
    "        for i in count_reviews:\n",
    "            if \"후기\" in str(i):\n",
    "                count_reviews_list.append(i.text.split(\" \")[1])\n",
    "\n",
    "        #숙소들의 이름과 평점을 가져옴\n",
    "        name_tags=item_tags[0].find_all(\"div\",class_=\"_1c2n35az\")\n",
    "        rate_tags=item_tags[0].find_all(\"span\",class_=\"_10fy1f8\")\n",
    "        \n",
    "        result=[]\n",
    "        \n",
    "        #앞에서 추출한 정보들을 딕셔너리화 하여 result 리스트에 추가\n",
    "        for n,r,u,p,c in zip(name_tags,rate_tags,url_list,price_list,count_reviews_list):\n",
    "            result.append({\n",
    "                \"name\":n.text,\n",
    "                \"score\":r.text,\n",
    "                \"count\" :c,\n",
    "                \"price\":p,\n",
    "                \"url\":u\n",
    "            })\n",
    "        for item in result:\n",
    "            if item[\"name\"] not in result_list:\n",
    "                result_list.append(item)\n",
    "\n",
    "                \n",
    "                \n",
    "    #최저 가격 숙소 / 최고 평점 숙소 구하기            \n",
    "    min_price=1000000\n",
    "    name_of_min_price=\"\"\n",
    "    min_url=\"\"\n",
    "    \n",
    "    highest_rate=0.00\n",
    "    name_of_hr=\"\"\n",
    "    highest_url=\"\"\n",
    "    \n",
    "    for item in result_list:\n",
    "        price=item[\"price\"]\n",
    "        price=price.replace(\"₩\",\"\")\n",
    "        price=int(price.replace(\",\",\"\"))\n",
    "\n",
    "        if price<min_price:\n",
    "            min_price=price\n",
    "            name_of_min_price=item[\"name\"]\n",
    "            min_url=item[\"url\"]\n",
    "            \n",
    "        rate=float(item[\"score\"])\n",
    "        if rate>highest_rate:\n",
    "            highest_rate=rate\n",
    "            name_of_hr=item[\"name\"]\n",
    "            highest_url=item[\"url\"]\n",
    "\n",
    "\n",
    "    return result_list,\"최저 가격 숙소 : %s (가격 : %d), (url : %s )\" %(name_of_min_price,min_price,min_url),\"최고 평점 숙소 : %s (평점 : %.2f), (url : %s)\" %(name_of_hr,highest_rate,highest_url)\n",
    "    "
   ]
  },
  {
   "cell_type": "code",
   "execution_count": 33,
   "metadata": {},
   "outputs": [
    {
     "data": {
      "text/plain": [
       "([{'name': '푸르다오션,복층커플룸A(오션뷰)',\n",
       "   'score': '4.78',\n",
       "   'count': '261개',\n",
       "   'price': '102,821',\n",
       "   'url': 'https://www.airbnb.co.kr/rooms/17127178?location=%EC%A0%9C%EC%A3%BC%EB%8F%84&check_in=2020-08-16&check_out=2020-08-17&previous_page_section_name=1000&federated_search_id=f45102d5-4d74-4a82-b5d0-e5cf5a52ec30'},\n",
       "  {'name': '몽돌하우스',\n",
       "   'score': '4.84',\n",
       "   'count': '63개',\n",
       "   'price': '34,543',\n",
       "   'url': 'https://www.airbnb.co.kr/rooms/15321610?location=%EC%A0%9C%EC%A3%BC%EB%8F%84&check_in=2020-08-16&check_out=2020-08-17&previous_page_section_name=1000&federated_search_id=f45102d5-4d74-4a82-b5d0-e5cf5a52ec30'},\n",
       "  {'name': '법환동 바닷가집 별채',\n",
       "   'score': '4.86',\n",
       "   'count': '36개',\n",
       "   'price': '51,988',\n",
       "   'url': 'https://www.airbnb.co.kr/rooms/36090662?location=%EC%A0%9C%EC%A3%BC%EB%8F%84&check_in=2020-08-16&check_out=2020-08-17&previous_page_section_name=1000&federated_search_id=f45102d5-4d74-4a82-b5d0-e5cf5a52ec30'},\n",
       "  {'name': '걷기 좋은 동네 게스트하우스',\n",
       "   'score': '4.61',\n",
       "   'count': '70개',\n",
       "   'price': '35,814',\n",
       "   'url': 'https://www.airbnb.co.kr/rooms/18103390?location=%EC%A0%9C%EC%A3%BC%EB%8F%84&check_in=2020-08-16&check_out=2020-08-17&previous_page_section_name=1000&federated_search_id=f45102d5-4d74-4a82-b5d0-e5cf5a52ec30'},\n",
       "  {'name': '가장 합리적인 제주 여행자를 위한 숙소.Cornerstone Hotel 스탠다드 더블',\n",
       "   'score': '4.30',\n",
       "   'count': '10개',\n",
       "   'price': '57,765',\n",
       "   'url': 'https://www.airbnb.co.kr/rooms/43834942?location=%EC%A0%9C%EC%A3%BC%EB%8F%84&check_in=2020-08-16&check_out=2020-08-17&previous_page_section_name=1000&federated_search_id=f45102d5-4d74-4a82-b5d0-e5cf5a52ec30'},\n",
       "  {'name': '[플레이스캠프제주] Standard',\n",
       "   'score': '4.47',\n",
       "   'count': '704개',\n",
       "   'price': '53,100',\n",
       "   'url': 'https://www.airbnb.co.kr/rooms/19724369?location=%EC%A0%9C%EC%A3%BC%EB%8F%84&check_in=2020-08-16&check_out=2020-08-17&previous_page_section_name=1000&federated_search_id=f45102d5-4d74-4a82-b5d0-e5cf5a52ec30'},\n",
       "  {'name': '불특정식당(손님전용민박)#1',\n",
       "   'score': '4.63',\n",
       "   'count': '188개',\n",
       "   'price': '34,659',\n",
       "   'url': 'https://www.airbnb.co.kr/rooms/16491566?location=%EC%A0%9C%EC%A3%BC%EB%8F%84&check_in=2020-08-16&check_out=2020-08-17&previous_page_section_name=1000&federated_search_id=f45102d5-4d74-4a82-b5d0-e5cf5a52ec30'},\n",
       "  {'name': '애월 타운하우스 1층 전체 사용! 넓은 정원! 화장실 2개! 4명까지 가능!',\n",
       "   'score': '4.85',\n",
       "   'count': '13개',\n",
       "   'price': '34,659',\n",
       "   'url': 'https://www.airbnb.co.kr/rooms/44255699?location=%EC%A0%9C%EC%A3%BC%EB%8F%84&check_in=2020-08-16&check_out=2020-08-17&previous_page_section_name=1000&federated_search_id=f45102d5-4d74-4a82-b5d0-e5cf5a52ec30'},\n",
       "  {'name': '제주공항 엔틱 1인실 BARN64_vintage blue',\n",
       "   'score': '4.37',\n",
       "   'count': '161개',\n",
       "   'price': '40,435',\n",
       "   'url': 'https://www.airbnb.co.kr/rooms/43167592?location=%EC%A0%9C%EC%A3%BC%EB%8F%84&check_in=2020-08-16&check_out=2020-08-17&previous_page_section_name=1000&federated_search_id=f45102d5-4d74-4a82-b5d0-e5cf5a52ec30'},\n",
       "  {'name': '디럭스 트윈 더블',\n",
       "   'score': '5.0',\n",
       "   'count': '4개',\n",
       "   'price': '43,900',\n",
       "   'url': 'https://www.airbnb.co.kr/rooms/41779774?location=%EC%A0%9C%EC%A3%BC%EB%8F%84&check_in=2020-08-16&check_out=2020-08-17&previous_page_section_name=1000&federated_search_id=f45102d5-4d74-4a82-b5d0-e5cf5a52ec30'},\n",
       "  {'name': 'Emily house',\n",
       "   'score': '4.67',\n",
       "   'count': '3개',\n",
       "   'price': '144,412',\n",
       "   'url': 'https://www.airbnb.co.kr/rooms/43659982?location=%EC%A0%9C%EC%A3%BC%EB%8F%84&check_in=2020-08-16&check_out=2020-08-17&previous_page_section_name=1000&federated_search_id=f45102d5-4d74-4a82-b5d0-e5cf5a52ec30'},\n",
       "  {'name': '<한나의 집 #1> 여성전용 #제주시청 1.5km #조식제공 #아늑함 #편안함',\n",
       "   'score': '4.70',\n",
       "   'count': '23개',\n",
       "   'price': '27,727',\n",
       "   'url': 'https://www.airbnb.co.kr/rooms/43936707?location=%EC%A0%9C%EC%A3%BC%EB%8F%84&check_in=2020-08-16&check_out=2020-08-17&previous_page_section_name=1000&federated_search_id=f45102d5-4d74-4a82-b5d0-e5cf5a52ec30'},\n",
       "  {'name': '제주동부 예쁜집 제주 수스테이 301호 펜트하우스',\n",
       "   'score': '4.70',\n",
       "   'count': '76개',\n",
       "   'price': '63,033',\n",
       "   'url': 'https://www.airbnb.co.kr/rooms/44121718?location=%EC%A0%9C%EC%A3%BC%EB%8F%84&check_in=2020-08-16&check_out=2020-08-17&previous_page_section_name=1000&federated_search_id=f45102d5-4d74-4a82-b5d0-e5cf5a52ec30'},\n",
       "  {'name': \"(여성도미토리)100평의 마당과 바다가 이어지는 그림같은 전원주택 '아는언니집'\",\n",
       "   'score': '3.67',\n",
       "   'count': '9개',\n",
       "   'price': '27,727',\n",
       "   'url': 'https://www.airbnb.co.kr/rooms/32805801?location=%EC%A0%9C%EC%A3%BC%EB%8F%84&check_in=2020-08-16&check_out=2020-08-17&previous_page_section_name=1000&federated_search_id=f45102d5-4d74-4a82-b5d0-e5cf5a52ec30'},\n",
       "  {'name': '에어비앤비 오픈기념  2인실 특가, 전 객실 세탁기, 전자레인지, 큰 냉장고 보유!!',\n",
       "   'score': '4.63',\n",
       "   'count': '8개',\n",
       "   'price': '67,281',\n",
       "   'url': 'https://www.airbnb.co.kr/rooms/41780925?location=%EC%A0%9C%EC%A3%BC%EB%8F%84&check_in=2020-08-16&check_out=2020-08-17&previous_page_section_name=1000&federated_search_id=f45102d5-4d74-4a82-b5d0-e5cf5a52ec30'},\n",
       "  {'name': '1싱글족과 젊은 커플들 대환영합니다. 가심비가 뛰어난 작지만 강한 공항주변숙소',\n",
       "   'score': '4.71',\n",
       "   'count': '57개',\n",
       "   'price': '36,310',\n",
       "   'url': 'https://www.airbnb.co.kr/rooms/41917060?location=%EC%A0%9C%EC%A3%BC%EB%8F%84&check_in=2020-08-16&check_out=2020-08-17&previous_page_section_name=1000&federated_search_id=f45102d5-4d74-4a82-b5d0-e5cf5a52ec30'},\n",
       "  {'name': \"함덕해수욕장 근처 바다 앞 제주스런 커플동 ‘신흥부부 청보리동'\",\n",
       "   'score': '4.75',\n",
       "   'count': '44개',\n",
       "   'price': '92,423',\n",
       "   'url': 'https://www.airbnb.co.kr/rooms/43409657?location=%EC%A0%9C%EC%A3%BC%EB%8F%84&check_in=2020-08-16&check_out=2020-08-17&previous_page_section_name=1000&federated_search_id=f45102d5-4d74-4a82-b5d0-e5cf5a52ec30'},\n",
       "  {'name': '제주 서쪽 조용한 마을 속 아늑한 감성 게스트하우스(1인실)-활엽수',\n",
       "   'score': '4.82',\n",
       "   'count': '85개',\n",
       "   'price': '39,280',\n",
       "   'url': 'https://www.airbnb.co.kr/rooms/7894631?location=%EC%A0%9C%EC%A3%BC%EB%8F%84&check_in=2020-08-16&check_out=2020-08-17&previous_page_section_name=1000&federated_search_id=f45102d5-4d74-4a82-b5d0-e5cf5a52ec30'}],\n",
       " '최저 가격 숙소 : <한나의 집 #1> 여성전용 #제주시청 1.5km #조식제공 #아늑함 #편안함 (가격 : 27727), (url : https://www.airbnb.co.kr/rooms/43936707?location=%EC%A0%9C%EC%A3%BC%EB%8F%84&check_in=2020-08-16&check_out=2020-08-17&previous_page_section_name=1000&federated_search_id=f45102d5-4d74-4a82-b5d0-e5cf5a52ec30 )',\n",
       " '최고 평점 숙소 : 디럭스 트윈 더블 (평점 : 5.00), (url : https://www.airbnb.co.kr/rooms/41779774?location=%EC%A0%9C%EC%A3%BC%EB%8F%84&check_in=2020-08-16&check_out=2020-08-17&previous_page_section_name=1000&federated_search_id=f45102d5-4d74-4a82-b5d0-e5cf5a52ec30)')"
      ]
     },
     "execution_count": 33,
     "metadata": {},
     "output_type": "execute_result"
    }
   ],
   "source": [
    "airbnb('제주도', '2020-08-16', '2020-08-17', 1)"
   ]
  },
  {
   "cell_type": "code",
   "execution_count": null,
   "metadata": {},
   "outputs": [],
   "source": []
  },
  {
   "cell_type": "code",
   "execution_count": null,
   "metadata": {},
   "outputs": [],
   "source": []
  },
  {
   "cell_type": "code",
   "execution_count": null,
   "metadata": {},
   "outputs": [],
   "source": []
  },
  {
   "cell_type": "markdown",
   "metadata": {},
   "source": [
    "# 채송화_부킹닷컴"
   ]
  },
  {
   "cell_type": "code",
   "execution_count": 30,
   "metadata": {},
   "outputs": [],
   "source": [
    "from bs4 import BeautifulSoup\n",
    "import requests\n",
    "import json\n",
    "import urllib\n",
    "\n",
    "\n",
    "def hotel_search(pages,region,checkin,checkout, adult, child):\n",
    "    base_url='https://www.booking.com/searchresults.ko.html'\n",
    "    total=[]\n",
    "    for i in range(pages):\n",
    "        params={\n",
    "            'top_ufis':1,\n",
    "            'rows':25,\n",
    "            'group_adults':adult,\n",
    "            'group_children':child,\n",
    "            'label_click':'undef',\n",
    "            'checkin_month':checkin.split(\"-\")[1],\n",
    "            'checkin_monthday':checkin.split(\"-\")[2],\n",
    "            'checkin_year':checkin.split(\"-\")[0],\n",
    "            'checkout_month':checkout.split(\"-\")[1],\n",
    "            'checkout_monthday':checkout.split(\"-\")[2],\n",
    "            'checkout_year':checkout.split(\"-\")[0],\n",
    "            'no_rooms':1,\n",
    "            'raw_dest_type':'region',\n",
    "            'offset':25*i,   \n",
    "            'sb_price_type': 'total',\n",
    "            'ss': region,\n",
    "            'src_elem': 'sb', \n",
    "            'ss_all':0,\n",
    "            'ssb': 'empty',\n",
    "            'dest_type': 'region',\n",
    "            #'search_pageview_id': 'b78a37b8196a0080'\n",
    "            'search_selected':1\n",
    "        }\n",
    "        headers = {\n",
    "            'Referer': 'https://www.booking.com/searchresults.ko.html',\n",
    "            'Cookie': 'cors_js=1; _gcl_au=1.1.1758010469.1596413772; bs=%7B%22sr_country_or_region_page%22%3A%22region%22%7D; _ga=GA1.2.882061434.1596413773; _gid=GA1.2.1846610763.1596413773; BJS=-; zz_cook_tms_seg1=1; zz_cook_tms_ep=1; zz_cook_tms_seg3=7; _scid=dff99b5d-2e14-4af2-9550-58237e3d9d4c; _pxvid=8ac1c871-d51e-11ea-b163-0242ac120009; _sctr=1|1596380400000; _pin_unauth=dWlkPU9UazVabVF4T1RRdE56bGhPQzAwTUdabUxXSm1ORFF0WldRMVptVmpNemRrWXpVdw; has_preloaded=1; zz_cook_tms_hlist=3317637; g_state={\"i_p\":1596531334237,\"i_l\":2}; utag_main=v_id:0173b1ad0651001df4a85a0a77f203073044706b00bd0$_sn:1$_ss:0$_st:1596448493168$4split:2$4split2:1$ses_id:1596413773394%3Bexp-session$_pn:16%3Bexp-session; _uetsid=f2d8e4c9c62246a0bed0af7e885f8c9f; _uetvid=269cfd473b2529680b9b538f1b46fbc1; bkng=11UmFuZG9tSVYkc2RlIyh9Yaa29%2F3xUOLbXpFeYC4TUhBdXo35xAS%2BPyXteEmAF00C7ntv3OHZGFN5Omw3tnwU%2F3rlk1nbz%2BONusrZE%2BcQgZLBk0JeBSBtWgSf%2BJ%2BC2ShbUfWTKv6cwfj%2FUbmattwzhSpTIYyiyIWa7e5d6rxwuVVQqabr7YAgMkH%2F%2Fu6fNsyuyQoTASDGyEw%3D; _px3=534b016a13eceb8dfd91bad5c3807ed4049eeef67f96ffa26e4b9b0710069380:RhcCPVe8GBdA9jMG9PvURiL0ylPlLetN980mHJcuwmC2w9omcccJP2dnTAIXjLyb5eVJcGGTsFBxUVGdCNCg6g==:1000:sGlUhQDbcD++cAinRcf8FQIrgXsopgDXZYkK7uRiQhuAUhE1XXniOrLt6s/Gb1GMVWTdokUn2mREYh+JnCAJ6PpWZsrVHgWYSaF8wEucBT9rs5PjjXKHUrT7Y6DZV/P832v9mal2qz9asNi/uf7Gt9o/kTvyVoqN90YhP8ivD2M=; _pxde=8e07b07f8b1c1d5d950a0e87a21708a96b04456fe969788c88d7c52548705a1e:eyJ0aW1lc3RhbXAiOjE1OTY0NDY3NjkxMjMsImZfa2IiOjAsImlwY19pZCI6W119; lastSeen=0',\n",
    "            'User-Agent': 'Mozilla/5.0 (Windows NT 10.0; Win64; x64) AppleWebKit/537.36 (KHTML, like Gecko) Chrome/84.0.4147.105 Safari/537.36'    }\n",
    "        resp=requests.get(base_url,params=params, headers=headers)\n",
    "        soup=BeautifulSoup(resp.text)\n",
    "\n",
    "    #     hotellist_inner=soup.find('div',id='hotellist_inner')\n",
    "    #     hotels=hotellist_inner.find_all('div', class_='sr_item')\n",
    "        hotels = soup.find_all('div', class_='sr_item')\n",
    "\n",
    "        hotel_list=[]\n",
    "        for hotel in hotels:        \n",
    "            names=hotel.find('span',class_='sr-hotel__name')\n",
    "            name=names.text#호텔이름\n",
    "            reviews=hotel.find('div',class_='bui-review-score__badge')\n",
    "            if reviews:\n",
    "                review=reviews.text\n",
    "            else:\n",
    "                review= None\n",
    "            costs=hotel.find('div',class_='bui-price-display__value')\n",
    "            cost=costs.text\n",
    "\n",
    "            counts=hotel.find('div',class_='bui-review-score__text')\n",
    "            if counts:\n",
    "                count = counts.text\n",
    "            else:\n",
    "                count = 0\n",
    "            hotel_list.append({\n",
    "                'name':name,\n",
    "                'score':review,\n",
    "                'price':cost,\n",
    "                'count':count\n",
    "            })\n",
    "        total.extend(hotel_list)\n",
    "        \n",
    "     #데이터 잔처리,중복제거   \n",
    "    for i in total:\n",
    "        i['name']=i['name'].replace(\"\\n\",\"\").strip()\n",
    "        if i['score']!=None:\n",
    "            i['score']=i['score'].strip()\n",
    "            i['score']=float(i['score'])\n",
    "        i['price']=i['price'].replace(\"\\n\",\"\").strip()\n",
    "        i['price']=i['price'].replace(\"₩\",\"\").strip()\n",
    "        if i['count']!=0:\n",
    "            i['count']=i['count'].strip()\n",
    "            a=i['count'].index('개')\n",
    "            count_str = i['count'][0:a]\n",
    "            count_str = count_str.replace(',', '')\n",
    "            i['count']=int(count_str)\n",
    "        i['price']=i['price'].replace(',','')\n",
    "        i['price']=int(i['price'])\n",
    "        #print(i)\n",
    "    test=list({s['name']:s for s in total}.values()) \n",
    "    return test"
   ]
  },
  {
   "cell_type": "code",
   "execution_count": 31,
   "metadata": {},
   "outputs": [
    {
     "data": {
      "text/plain": [
       "[{'name': '제주 마레보 비치 호텔', 'score': 8.3, 'price': 208800, 'count': 637},\n",
       " {'name': '중문시티호텔', 'score': 7.8, 'price': 37410, 'count': 444},\n",
       " {'name': '케니 스토리 인', 'score': 8.3, 'price': 35100, 'count': 1527},\n",
       " {'name': '데이즈호텔 제주 서귀포', 'score': 8.0, 'price': 54000, 'count': 2049},\n",
       " {'name': '파인힐호텔', 'score': 8.0, 'price': 38700, 'count': 406},\n",
       " {'name': '코업시티호텔 성산', 'score': 8.2, 'price': 43900, 'count': 1787},\n",
       " {'name': '아트스테이 서귀포 하버', 'score': 8.5, 'price': 54600, 'count': 2125},\n",
       " {'name': '제주 뉴오션 리조트', 'score': 7.5, 'price': 63000, 'count': 75},\n",
       " {'name': '라마다 앙코르 서귀포 호텔', 'score': 7.8, 'price': 40500, 'count': 2169},\n",
       " {'name': '블루 하와이 호텔', 'score': 7.8, 'price': 55000, 'count': 248},\n",
       " {'name': '미몽', 'score': 9.3, 'price': 31000, 'count': 254},\n",
       " {'name': '해나 게스트하우스', 'score': 9.2, 'price': 23000, 'count': 53},\n",
       " {'name': '더 베스트 제주 성산', 'score': 8.3, 'price': 86007, 'count': 3025},\n",
       " {'name': '제주 해호텔', 'score': 7.9, 'price': 36000, 'count': 529},\n",
       " {'name': '호텔 알레그리아 서귀포', 'score': 8.0, 'price': 37840, 'count': 783},\n",
       " {'name': '성산 전망좋은 게스트하우스', 'score': 9.3, 'price': 20000, 'count': 346},\n",
       " {'name': '체이슨 호텔 더 리드', 'score': 9.1, 'price': 44550, 'count': 801},\n",
       " {'name': '스카이리더스 호텔', 'score': 7.2, 'price': 32400, 'count': 518},\n",
       " {'name': '라마다 제주시티호텔', 'score': 8.2, 'price': 62100, 'count': 2389},\n",
       " {'name': '화이트드림 펜션', 'score': 7.4, 'price': 60000, 'count': 223},\n",
       " {'name': '제주 수 펜션', 'score': 9.0, 'price': 58800, 'count': 261},\n",
       " {'name': '바다와 자전거', 'score': 8.9, 'price': 23000, 'count': 217},\n",
       " {'name': '빨간풍차펜션', 'score': 8.0, 'price': 36000, 'count': 459},\n",
       " {'name': '아이진 호텔', 'score': 8.6, 'price': 60800, 'count': 1077},\n",
       " {'name': '백패커스홈', 'score': 9.1, 'price': 18000, 'count': 398},\n",
       " {'name': '제주 노블레스 관광호텔', 'score': 8.0, 'price': 49500, 'count': 754}]"
      ]
     },
     "execution_count": 31,
     "metadata": {},
     "output_type": "execute_result"
    }
   ],
   "source": [
    "hotel_search(1, '제주도', '2020-08-16', '2020-08-17', 1, 0)"
   ]
  },
  {
   "cell_type": "code",
   "execution_count": null,
   "metadata": {},
   "outputs": [],
   "source": []
  },
  {
   "cell_type": "code",
   "execution_count": null,
   "metadata": {},
   "outputs": [],
   "source": []
  },
  {
   "cell_type": "code",
   "execution_count": null,
   "metadata": {},
   "outputs": [],
   "source": []
  },
  {
   "cell_type": "code",
   "execution_count": null,
   "metadata": {},
   "outputs": [],
   "source": []
  },
  {
   "cell_type": "markdown",
   "metadata": {},
   "source": [
    "# 모두 합치기"
   ]
  },
  {
   "cell_type": "code",
   "execution_count": 1,
   "metadata": {},
   "outputs": [],
   "source": [
    "from bs4 import BeautifulSoup as bs\n",
    "import requests\n",
    "import json\n",
    "import urllib\n",
    "import pandas as pd\n",
    "\n",
    "\n",
    "class Hotel:\n",
    "    def __init__ (self,place,checkin,checkout,pages):\n",
    "        self.place=place\n",
    "        self.checkin=checkin\n",
    "        self.checkout=checkout\n",
    "        self.pages=pages\n",
    "        \n",
    "#1\n",
    "    def airbnb(self):  #place = 장소, checkin = 체크인 날짜, checkout :체크아웃 날짜, pages=검색하고자 하는 페이지 수\n",
    "    \n",
    "    \n",
    "        result_list=[]  #크롤링 최종 결과를 담을 리스트\n",
    "\n",
    "        #에어비앤비는 offset이 20단위로 페이지가 변화 ex)offset 0 : 1페이지 , offset 1~20: 2페이지 \n",
    "        for page in range(1,self.pages+1): #입력받은 페이지 수만큼 모두 크롤링 하기 위해\n",
    "            if page==1:  #page가 1이면 offset=0\n",
    "                offset=0\n",
    "            else:\n",
    "                offset=page*20  #1보다 크면 page*20\n",
    "\n",
    "\n",
    "            #리퀘스트할 url과 파라미터 설정\n",
    "            base_url=\"https://www.airbnb.co.kr/s/%s/homes\" %self.place\n",
    "            params={'query': self.place,\n",
    "             'federated_search_session_id': 'e296e38b-6ec1-4296-9a81-f762cfb2c92a',\n",
    "             'source': 'structured_search_input_header',\n",
    "             'search_type': 'pagination',\n",
    "             'tab_id': 'home_tab',\n",
    "             'checkin': self.checkin,\n",
    "             'refinement_paths[]': '/homes',\n",
    "             'checkout': self.checkout,\n",
    "             'section_offset': '2',\n",
    "             'items_offset': offset}\n",
    "\n",
    "            resp=requests.get(base_url,params=params)\n",
    "            soup=bs(resp.text)\n",
    "            item_tags=soup.select(\"#FMP-target > div > div > div > div\")\n",
    "            len(item_tags[0])\n",
    "\n",
    "\n",
    "            #해당 숙소에 대한 상세페이지 url을 가져옴\n",
    "            a_tags=item_tags[0].find_all(\"a\")\n",
    "            url_list=[]\n",
    "            for i in a_tags:\n",
    "                url_list.append(\"https://www.airbnb.co.kr%s\" %i.get(\"href\"))\n",
    "\n",
    "\n",
    "            #숙소들의 가격정보를 가져옴\n",
    "            price_tags=item_tags[0].find_all(\"span\", class_=\"_1p7iugi\")\n",
    "            price_list=[]\n",
    "            for i in price_tags:\n",
    "                try:\n",
    "                    price=i.text.split(\":\")[2]\n",
    "                except:\n",
    "                    price=i.text.split(\":\")[1]\n",
    "                price=price.replace(\"₩\",\"\")\n",
    "                price=price.replace(\",\",\"\")\n",
    "                price_list.append(float(price))\n",
    "    \n",
    "            #숙소들의 리뷰 개수를 가져옴\n",
    "            count_reviews=item_tags[0].find_all(\"span\",class_=\"_krjbj\")\n",
    "            count_reviews\n",
    "            count_reviews_list=[]\n",
    "            for i in count_reviews:\n",
    "                if \"후기\" in str(i):\n",
    "                    count_reviews_list.append(i.text.split(\" \")[1].replace(\"개\",\"\"))\n",
    "\n",
    "            #숙소들의 이름과 평점을 가져옴\n",
    "            name_tags=item_tags[0].find_all(\"div\",class_=\"_1c2n35az\")\n",
    "            rate_tags=item_tags[0].find_all(\"span\",class_=\"_10fy1f8\")\n",
    "\n",
    "            result=[]\n",
    "\n",
    "            #앞에서 추출한 정보들을 딕셔너리화 하여 result 리스트에 추가\n",
    "            for n,r,p,c in zip(name_tags,rate_tags,price_list,count_reviews_list):\n",
    "                result.append({\n",
    "                    \"이름\":n.text,\n",
    "                    \"평점\":float(r.text),\n",
    "                    \"리뷰 개수\" :int(c),\n",
    "                    \"가격\":int(p),\n",
    "                    \"사이트\":\"AirBnb\"\n",
    "                })\n",
    "            for item in result:\n",
    "                if item[\"이름\"] not in result_list:\n",
    "                    result_list.append(item)\n",
    "\n",
    "\n",
    "\n",
    "        #최저 가격 숙소 / 최고 평점 숙소 구하기            \n",
    "        min_price=1000000\n",
    "        name_of_min_price=\"\"\n",
    "        min_url=\"\"\n",
    "\n",
    "        highest_rate=0.00\n",
    "        name_of_hr=\"\"\n",
    "        highest_url=\"\"\n",
    "\n",
    "        for item in result_list:\n",
    "            price=item[\"가격\"]\n",
    "#             price=price.replace(\"₩\",\"\")\n",
    "#             price=float(price.replace(\",\",\"\"))\n",
    "\n",
    "            if price<min_price:\n",
    "                min_price=price\n",
    "                name_of_min_price=item[\"이름\"]\n",
    "#                 min_url=item[\"링크\"]\n",
    "\n",
    "            rate=float(item[\"평점\"])\n",
    "            if rate>highest_rate:\n",
    "                highest_rate=rate\n",
    "                name_of_hr=item[\"이름\"]\n",
    "#                 highest_url=item[\"링크\"]\n",
    "\n",
    "\n",
    "        return result_list,\"최저 가격 숙소 : %s (가격 : %d), (url : %s )\" %(name_of_min_price,min_price,min_url),\"최고 평점 숙소 : %s (평점 : %.2f), (url : %s)\" %(name_of_hr,highest_rate,highest_url)\n",
    "\n",
    "\n",
    "\n",
    "#2    \n",
    "    def hotels(self):\n",
    "\n",
    "        result_list=[]\n",
    "        for page in range(1,self.pages+1):\n",
    "\n",
    "            base_url='https://kr.hotels.com/search/listings.json'\n",
    "            params={\n",
    "                #'pg-offset':page,\n",
    "                #'distination-id':'1644457', \n",
    "                'q-check-out':self.checkout,\n",
    "                'q-destination':self.place,\n",
    "                'q-check-out':self.checkout,\n",
    "                'q-rooms':1,\n",
    "                'q-room-0-adults':1,\n",
    "                'q-room-0-children':0,\n",
    "                'pg':1,\n",
    "                #'start-index':1,\n",
    "                'pn':page,\n",
    "                #'resolved-location':'REGION:1644457:UNKNOWN:UNKNOWN'\n",
    "            }\n",
    "\n",
    "            headers={\n",
    "                'content-type': 'application/javascript',\n",
    "                'x-requested-with': 'XMLHttpRequest',\n",
    "                #'referer':'https://kr.hotels.com/search.do?resolved-location=REGION%3A1644457%3AUNKNOWN%3AUNKNOWN&destination-id=1644457&q-destination={0}&q-check-in=2020-08-16&q-check-out=2020-08-17&q-rooms=1&q-room-0-adults=1&q-room-0-children=0'.format(urllib.parse.quote('제주도')),\n",
    "                'user-agent':'Mozilla/5.0 (Windows NT 10.0; Win64; x64) AppleWebKit/537.36 (KHTML, like Gecko) Chrome/84.0.4147.105 Safari/537.36',\n",
    "                'cookie': \"asc=1; homepage_search_data=7KCc7KO864-ELCDsoJzso7zsi5wsIO2VnOq1rQ..%2F%2F2020%2F08%2F16%2F%2F2020%2F08%2F17%2F%2F1%2F%2Fyyyy%2FMM%2Fdd%2F%2F1644457%2F%2F; guid=8c8ca612-b270-42cb-95aa-6232c2538458; user=QSprb19LUnxIQ09NX0tS; dr=AAA~1596523818~5C85BBDD535AE5EBF43E87FBF3ED905266EB65950AFBFD78AC0671363A77CA79; akacd_pr_20=1601707820~rv=31~id=44ca8f82368ff8df2ac1cef34c3ccc77; bm_sz=91F45291ECCBD9CF669AE98B49CA6C7D~YAAQa3pGaFBIOoBzAQAALzY8uAjOZf4bEil+pJ9j7T4xHGo5L0We9RrvFkah4Ntqo/cwcLTTJE/iBUXVgkfqE0iJKW9BFb7MP7TecuUec4RqjpNsP2kaEjHxE5mKNYefWc2HoK06cqN5xm/nP7KJBfW4ANgO3yTiCM6bebnDHYkGER21/OCeV4M8NejdwiHs; _ga=GA1.2.20859871.1596523819; _gid=GA1.2.1549673115.1596523819; s_ecid=MCMID%7C78976063976117546201547030336521815933; AMCVS_C00802BE5330A8350A490D4C%40AdobeOrg=1; mvthistory=eJxNj0kKQjEQRG8U0lN62LoRRAQv4PrfwcPb%2Bd2Kq7w8qorEbawxx0EQQJaEgap5zmCXsemwgAl8ugQZuKUHQAZOyUjDva3MqidYRWmzt4RZoGoFhr1iCpXXAOd1Spzm3xEko2IIFMQBFUZZNY5i0uBdX8QVg7xo2XFg0O%2BTANIgXOucvKilzupTMHJXeGGBQA%2FCZv1jK6bN3mHqF%2Be%2B27n%2Fvl4e99ft%2BQErFlFN; AMCV_C00802BE5330A8350A490D4C%40AdobeOrg=-1330315163%7CMCIDTS%7C18479%7CMCMID%7C78976063976117546201547030336521815933%7CMCAID%7CNONE%7CMCOPTOUT-1596531019s%7CNONE%7CMCAAMLH-1597128619%7C11%7CMCAAMB-1597128619%7Cj8Odv6LonN4r3an7LhD3WZrU1bUpAkFkkiY1ncBR96t2PTI; s_cc=true; _abck=2ED1A02051B8DEB245303D2079BFA297~0~YAAQa3pGaG1IOoBzAQAAYTo8uATWuv2nvnfdxtDM1HX8spMwJ/uePIa0J+yDDpECBjueRhJJnTCQeLN65aS9O2/FNU6d0/WCMG5BlCwygcTvGmmf7DWIa9LrwFv3vUW4KMvUIUG512ERyfZN6zGK1qfws1T/EYZq4oqOB5Z3c7VJPbnqwsjjsUB4/i1LiWyT4L8KcN0G7XXYdNhUl1lHg5uVd0k0Rlwxwk5ErlZ0/sI93o/ZSyhcdjCE/+mhsnRk0JPWMuhjnPmCvo7Z0ASd18VykJL4SQ3HDqBpsWs0pfZLvx7V0gFpd0DFflGEWV8jrY/lmk4QRw==~-1~-1~-1; _gcl_au=1.1.160751177.1596523820; _fbp=fb.1.1596523820167.896421725; 0e16e784-167b-49ee-b1ac-0ff7866eb4fbfaktorId=5cac8980-8e5b-4cc8-82d6-c10efc3d3428; lastConsentChange=1596523820269; 0e16e784-167b-49ee-b1ac-0ff7866eb4fbeuconsent=BO3mjO6O3mjO6ADABAENDV-AAAAx6ATgAUABoAEAAKwAXABkAEAAMgAaQBEAEUAI4ATAAngBbAEEAJAATgBCACpAHVARqA; 0e16e784-167b-49ee-b1ac-0ff7866eb4fbcconsent=BO3mjO6O3mjO6ADABAENA7AAAAAOWAAA; 0e16e784-167b-49ee-b1ac-0ff7866eb4fbfaktorChecksum=-1176279445; __gads=ID=0b734ce775df8ba2-222c1fd2c6c2005b:T=1596523822:S=ALNI_MZhdUG_e5KVdQLyxGd-QTgPh34YZg; xdid=0e1a2a2a-35f6-4831-a4f6-f3389ef1ca7a|1596523822|kr.hotels.com; xdidp=0e1a2a2a-35f6-4831-a4f6-f3389ef1ca7a|1596523822|kr.hotels.com; s_sq=%5B%5BB%5D%5D; visitId=edbcaa2e-4968-4009-ac85-383907b77d5f; SESSID=kmF9C5mRd1F3cSUDGpr_gCaDoZ.sa-6f74c7cf76-x4jn8; Session_Pageviews=6; _uetsid=c6e7370525e12b88d62d48ad3703a7c3; _uetvid=3363ca2720f5a4cef91d6a35a5ae68ab\",\n",
    "                #'pragma': 'no-cache',\n",
    "                #'cache-control': 'no-cache',\n",
    "                #'accept': 'application/json, text/javascript, */*; q=0.01',\n",
    "                #'accept-language': 'ko-KR,ko;q=0.9,en-US;q=0.8,en;q=0.7',\n",
    "                #'accept-encoding': 'gzip, deflate, br'\n",
    "\n",
    "            #     'cookie': 'channel=DC; 30dlt=seo.hcom.kr.b2.search.naver.com; guid=70b194a6-7d06-4407-813d-439ddc81e8b1; user=QSprb19LUnxIQ09NX0tS; akacd_pr_20=1601370854~rv=10~id=56b99db0bffa807a7ae68b57c1f84d62; _ga=GA1.2.262126391.1596186854; s_ecid=MCMID%7C18020916849438730392200037473831731739; _fbp=fb.1.1596186855014.1096204561; _gcl_au=1.1.2093965117.1596186855; __gads=ID=28a1f36c47d1b899:T=1596186855:S=ALNI_MbMfgFuOVpeHde-Lxvoqy6try5X3w; xdid=03a4919c-5c4e-476b-9704-1db0fd86a8cf|1596186857|kr.hotels.com; xdidp=23fa12ed-bf86-42d0-b153-3665d6e271eb|1596186754|expedia.co.kr; lastConsentChange=1596186857180; mvthistory=eJxNj0luRCEMRG%2BEKA942PampSiKlAtk%2Fe%2BQwwe%2B3a2seDyVyxA%2B1pjjYiTYN1GS2T5nSug4dHliQm63QQcdGQnswC2FeES01VnjG7yifDhaYhaYeYFTt7ih8pYIWbek6fEqIXYuRpISDVSYdFU5qWtD9PhiqRj2xcqOi5LfnwS0QaXaZfPiljZrnlNIeoQnqsdSZFFJRZfjsP1jL%2BbD0WHu1%2B9d4feu3%2Bfj6%2FPn4%2FsPA1NT2Q%3D%3D; bm_sz=9BD21E821845D51FA0D9B135BB256B3A~YAAQDXpGaMvdmYZzAQAA7BL3sgjXMidVKi2JZezEhByPD+UlXFPyGWEuydcxo7jaG5deLqOuRULrEn/lhgOo6iEtj0Wad9xJ0uolA4BJwtwL18+2xpptdBd8jS3LfCLmEC2uX/WB2NnK4m4x4mzrUm7mHQGUykHOubX9A0cqY4zyEdtY0AH0PZ63K2zYl6Mi; asc=1; dr=AAA~1596435404~4AF6F0445D3489A1E092F641066F96B93D40B40DDD943022EE1E98D4913A7C2F; _gid=GA1.2.1546820872.1596435403; AMCVS_C00802BE5330A8350A490D4C%40AdobeOrg=1; s_cc=true; _abck=0D541D156BC09BE7D94D3AADD67548B2~0~YAAQPpc7F7sM/YBzAQAA3mYGswS9B4zk5w3WOr8TTX6EdGFztlMwMx528/eu2Vz3EQaN3+8S3onODcjC4mo7KcYCpqKKLtj1ypt21eC/Yywv7637PKmn2lQ4e+wTFI7Sy3+QG9Y26Wqe65goPJIbp8xKgM9x1qhhWo0ZCFQnY6q5ei/AfEMj5eWcm5pUUd8yCmTmwU2Ed0icdnCyKmuepD4P5rE9Qog//nbnhsKAhm5Kdsy8YVfYcjxBPhm72gfx92QF61+SXsk7W2VFnJkZ3fUsxWSqVziuxqLi8F4uVoW7iZ6FlEin0WTebWhrTlHO9xBgc7tcAw==~-1~-1~-1; homepage_search_data=7KCc7KO864-ELCDsoJzso7zsi5wsIO2VnOq1rQ..%2F%2F2020%2F08%2F16%2F%2F2020%2F08%2F17%2F%2F1%2F%2Fyyyy%2FMM%2Fdd%2F%2F1644457%2F%2F; visitId=9c2e2fae-5554-4ea6-a40b-89f3d70f6305; SESSID=d1zQ1OkaL9VJyQvfYjWcg2o8sR.sa-665cf686c4-7q8g6; s_sq=%5B%5BB%5D%5D; aws=1; _gat=1; AMCV_C00802BE5330A8350A490D4C%40AdobeOrg=-1330315163%7CMCIDTS%7C18478%7CMCMID%7C18020916849438730392200037473831731739%7CMCAAMLH-1596791653%7C11%7CMCAAMB-1597047604%7CRKhpRz8krg2tLO6pguXWp5olkAcUniQYPHaMWWgdJ3xzPWQmdj0y%7CMCOPTOUT-1596450004s%7CNONE%7CMCAID%7CNONE; Session_Pageviews=14; _uetsid=f42780afb3dcaf6da3acf7261a71a6e4; _uetvid=26e44a5e73df2819b24f5fccdadd9add'\n",
    "            }\n",
    "\n",
    "            s = requests.Session()\n",
    "            resp=s.get(base_url,params=params,headers=headers)\n",
    "            items=json.loads(resp.text)\n",
    "\n",
    "\n",
    "            results=items['data']['body']['searchResults']['results']\n",
    "\n",
    "\n",
    "            hotels_list=[]\n",
    "\n",
    "            for i in range(len(results)):\n",
    "                hotels_names=items['data']['body']['searchResults']['results'][i]['name']\n",
    "                if ('guestReviews' in items['data']['body']['searchResults']['results'][i])==False:\n",
    "                    hotels_stars = 0\n",
    "                else:\n",
    "                    hotels_stars=items['data']['body']['searchResults']['results'][i]['guestReviews']['rating']\n",
    "                    hotels_reviews=items['data']['body']['searchResults']['results'][i]['guestReviews']['total']\n",
    "                if ('soldOut' in items['data']['body']['searchResults']['results'][i])==False:\n",
    "                    hotels_prices=items['data']['body']['searchResults']['results'][i]['ratePlan']['price']['exactCurrent']\n",
    "                else:\n",
    "                    hotels_prices = 'SoldOut'\n",
    "\n",
    "                hotels_list.append({\n",
    "                    '이름': hotels_names,\n",
    "                    '평점': float(hotels_stars)/2,\n",
    "                    '리뷰 개수': int(hotels_reviews),\n",
    "                    '가격': int(hotels_prices),\n",
    "                    \"사이트\":\"호텔스닷컴\"\n",
    "                })\n",
    "            result_list.extend(hotels_list)\n",
    "\n",
    "        return result_list\n",
    "\n",
    "    \n",
    "#3\n",
    "\n",
    "    def yanolja(self):\n",
    "        result_list=[]\n",
    "        for page in range(1,self.pages+1):\n",
    "            base_url = \"https://www.yanolja.com/api/v1/contents/search\"\n",
    "            params = {\n",
    "                'capacityAdult':1,\n",
    "                'capacityChild':0,\n",
    "                'page':page,\n",
    "                'limit':20,\n",
    "                'keyword':self.place,\n",
    "                'checkinDate':self.checkin,\n",
    "                'checkoutDate':self.checkout,\n",
    "                'searchKeyword':self.place,\n",
    "                'advert': 'KEYWORD',\n",
    "                'searchType': 'all',\n",
    "                'all': 1,\n",
    "                'sort': 100,\n",
    "                'themes': None,\n",
    "                'lat': '37.50681',\n",
    "                'lng': '127.06624',\n",
    "                'capacityChildAges': None  \n",
    "            }\n",
    "\n",
    "            headers = {\n",
    "                'Referer' : 'https://www.yanolja.com/search/{0}?placeListType=search&keyword={0}'.format(urllib.parse.quote(self.place)),\n",
    "                'User-Agent' : 'Mozilla/5.0 (Windows NT 10.0; Win64; x64) AppleWebKit/537.36 (KHTML, like Gecko) Chrome/84.0.4147.105 Safari/537.36',\n",
    "                'X-Requested-With': 'XMLHttpRequest',\n",
    "                'Accept': 'application/json, text/plain, */*',\n",
    "                'Accept-Encoding': 'gzip, deflate, br',\n",
    "                'Accept-Language': 'ko-KR,ko;q=0.9,en-US;q=0.8,en;q=0.7',\n",
    "            #     'Cookie': 'ACEUCI=1; %2Fsearch%2F%EC%A0%9C%EC%A3%BC%EB%8F%84%2Fkeyword-all={%22keyword%22:%22%EC%A0%9C%EC%A3%BC%EB%8F%84%22%2C%22searchKeyword%22:%22%EC%A0%9C%EC%A3%BC%EB%8F%84%22%2C%22checkinDate%22:%222020-08-16%22%2C%22checkoutDate%22:%222020-08-17%22%2C%22capacityAdult%22:1%2C%22capacityChild%22:0%2C%22capacityChildAges%22:%22%22}; cgntId=ap-northeast-2%3A2b47caae-3694-44f0-9d2b-43c98b30c098; yanolja_sid=s%3A0K-pijLPMujuW6NI5cJVcGOYBO2FXY0h.ZwiC623ThkJsrpFM9m7MiLj%2F8qYFHr3272Xla0K8NCk; SavedFiltersKey=/search/%EC%A0%9C%EC%A3%BC%EB%8F%84/keyword-all; ACEUACS=1596521299174217533; ACEFCID=UID-5F28FB542D0B4D05779333B5; _fbp=fb.1.1596521300441.1991528559; _ga=GA1.2.1408952294.1596521300; _gid=GA1.2.788840749.1596521300; location={%22latitude%22:%2237.50681%22%2C%22longitude%22:%22127.06624%22%2C%22address%22:%22%EC%84%9C%EC%9A%B8%ED%8A%B9%EB%B3%84%EC%8B%9C%20%EA%B0%95%EB%82%A8%EA%B5%AC%20%ED%85%8C%ED%97%A4%EB%9E%80%EB%A1%9C108%EA%B8%B8%2042%22%2C%22addressShort%22:%22%EC%84%9C%EC%9A%B8%ED%8A%B9%EB%B3%84%EC%8B%9C%20%EA%B0%95%EB%82%A8%EA%B5%AC%20%ED%85%8C%ED%97%A4%EB%9E%80%EB%A1%9C108%EA%B8%B8%22%2C%22addressOnlyRoad%22:%22%ED%85%8C%ED%97%A4%EB%9E%80%EB%A1%9C108%EA%B8%B8%22}; wcs_bt=ae93a192ec48a4:1596521393; AWSALB=zm/Jfq0CVy83/Q/bcMcY2ADivgyVdh6KNQc6bG1tPs9SA7T5733p2wvOClRpxNMSodWkruizJEGIcJbThOG1sBYm+WURo+8cqojOGppWN4ykkwQMNbQuiwexg5Nx; AWSALBCORS=zm/Jfq0CVy83/Q/bcMcY2ADivgyVdh6KNQc6bG1tPs9SA7T5733p2wvOClRpxNMSodWkruizJEGIcJbThOG1sBYm+WURo+8cqojOGppWN4ykkwQMNbQuiwexg5Nx'\n",
    "            }\n",
    "\n",
    "            ## 호텔리스트가 홈페이지랑 다르게 나옴 -> 쿠키가 계속 갱신되는 것을 방지하기 위해 -> 처음 홈페이지에 들어가자마자의 쿠키를 저장해놓는다.\n",
    "            s = requests.Session()\n",
    "            s.get(\"https://www.yanolja.com/search/{0}?placeListType=search&keyword={0}\".format(self.place))\n",
    "            resp = s.get(base_url, params=params, headers=headers)\n",
    "            # resp = requests.get(base_url, params = params, headers=headers)\n",
    "\n",
    "\n",
    "            item_li = json.loads(resp.text)\n",
    "\n",
    "            item_list = []\n",
    "            #name_list = []\n",
    "            #score_list = []\n",
    "            #price_list = []\n",
    "\n",
    "\n",
    "            for i in range(20):\n",
    "                \n",
    "                \n",
    "\n",
    "                # 호텔 이름\n",
    "\n",
    "                name = item_li['motels']['lists'][i]['name']\n",
    "                #name_list.append(name)\n",
    "            #print(name_list)\n",
    "\n",
    "\n",
    "\n",
    "                # 호텔 점수\n",
    "\n",
    "                score = item_li['motels']['lists'][i]['reviewScore']\n",
    "                #score_list.append(score)\n",
    "            #print(score_list)\n",
    "\n",
    "\n",
    "\n",
    "                # 리뷰 개수\n",
    "\n",
    "                count = item_li['motels']['lists'][i]['reviewCounts']\n",
    "                #count_list.append(count)\n",
    "            #print(count_list)\n",
    "\n",
    "\n",
    "\n",
    "                # 호텔 가격 = > 예약마감이면 예약마감이 뜬다.\n",
    "\n",
    "                if len(item_li['motels']['lists'][i]['displayPrices']) == 1:\n",
    "                    if item_li['motels']['lists'][i]['displayPrices'][0]['priceNote'] == '예약마감':\n",
    "                        continue\n",
    "                        #price_list.append(price)\n",
    "\n",
    "                    else:\n",
    "                        price = item_li['motels']['lists'][i]['displayPrices'][0]['rawDiscountPrice']\n",
    "                        #price_list.append(price)\n",
    "\n",
    "                elif len(item_li['motels']['lists'][i]['displayPrices']) >= 2:\n",
    "                    for j in range(2):\n",
    "                        if item_li['motels']['lists'][i]['displayPrices'][j]['badgeText'] == '숙박특가':\n",
    "                            if item_li['motels']['lists'][i]['displayPrices'][j]['priceNote'] == '예약마감':\n",
    "                                continue\n",
    "                                #price_list.append(price)\n",
    "\n",
    "                            else:\n",
    "                                price = item_li['motels']['lists'][i]['displayPrices'][j]['rawDiscountPrice']\n",
    "                                #price_list.append(price)\n",
    "            #print(price_list)\n",
    "\n",
    "\n",
    "\n",
    "                item_list.append({'이름' : name, \n",
    "                                  '평점' : float(score),\n",
    "                                  '리뷰 개수' : int(count),\n",
    "                                '가격': price,\n",
    "                                \"사이트\":\"야놀자\"})\n",
    "                \n",
    "                \n",
    "            result_list.extend(item_list)    \n",
    "        return result_list    \n",
    "\n",
    "    \n",
    "    \n",
    "#4 \n",
    "\n",
    "    def booking(self):\n",
    "        base_url='https://www.booking.com/searchresults.ko.html'\n",
    "        total=[]\n",
    "        for i in range(self.pages):\n",
    "            params={\n",
    "            'top_ufis':1,\n",
    "            'rows':25,\n",
    "            'group_adults':1,\n",
    "            'group_children':0,\n",
    "            'label_click':'undef',\n",
    "            'checkin_month':self.checkin.split(\"-\")[1],\n",
    "            'checkin_monthday':self.checkin.split(\"-\")[2],\n",
    "            'checkin_year':self.checkin.split(\"-\")[0],\n",
    "            'checkout_month':self.checkout.split(\"-\")[1],\n",
    "            'checkout_monthday':self.checkout.split(\"-\")[2],\n",
    "            'checkout_year':self.checkout.split(\"-\")[0],\n",
    "            'no_rooms':1,\n",
    "            #'raw_dest_type':'region',\n",
    "            'offset':25*i,   \n",
    "            'sb_price_type': 'total',\n",
    "            'ss': self.place,\n",
    "            #'src_elem': 'sb', \n",
    "            #'ss_all':0,\n",
    "            #'ssb': 'empty',\n",
    "            #'dest_type': 'region',\n",
    "            #'search_pageview_id': 'b78a37b8196a0080'\n",
    "            'search_selected':1\n",
    "            }\n",
    "            headers = {\n",
    "                'Referer': 'https://www.booking.com/searchresults.ko.html',\n",
    "                'Cookie': 'cors_js=1; _gcl_au=1.1.1758010469.1596413772; bs=%7B%22sr_country_or_region_page%22%3A%22region%22%7D; _ga=GA1.2.882061434.1596413773; _gid=GA1.2.1846610763.1596413773; BJS=-; zz_cook_tms_seg1=1; zz_cook_tms_ep=1; zz_cook_tms_seg3=7; _scid=dff99b5d-2e14-4af2-9550-58237e3d9d4c; _pxvid=8ac1c871-d51e-11ea-b163-0242ac120009; _sctr=1|1596380400000; _pin_unauth=dWlkPU9UazVabVF4T1RRdE56bGhPQzAwTUdabUxXSm1ORFF0WldRMVptVmpNemRrWXpVdw; has_preloaded=1; zz_cook_tms_hlist=3317637; g_state={\"i_p\":1596531334237,\"i_l\":2}; utag_main=v_id:0173b1ad0651001df4a85a0a77f203073044706b00bd0$_sn:1$_ss:0$_st:1596448493168$4split:2$4split2:1$ses_id:1596413773394%3Bexp-session$_pn:16%3Bexp-session; _uetsid=f2d8e4c9c62246a0bed0af7e885f8c9f; _uetvid=269cfd473b2529680b9b538f1b46fbc1; bkng=11UmFuZG9tSVYkc2RlIyh9Yaa29%2F3xUOLbXpFeYC4TUhBdXo35xAS%2BPyXteEmAF00C7ntv3OHZGFN5Omw3tnwU%2F3rlk1nbz%2BONusrZE%2BcQgZLBk0JeBSBtWgSf%2BJ%2BC2ShbUfWTKv6cwfj%2FUbmattwzhSpTIYyiyIWa7e5d6rxwuVVQqabr7YAgMkH%2F%2Fu6fNsyuyQoTASDGyEw%3D; _px3=534b016a13eceb8dfd91bad5c3807ed4049eeef67f96ffa26e4b9b0710069380:RhcCPVe8GBdA9jMG9PvURiL0ylPlLetN980mHJcuwmC2w9omcccJP2dnTAIXjLyb5eVJcGGTsFBxUVGdCNCg6g==:1000:sGlUhQDbcD++cAinRcf8FQIrgXsopgDXZYkK7uRiQhuAUhE1XXniOrLt6s/Gb1GMVWTdokUn2mREYh+JnCAJ6PpWZsrVHgWYSaF8wEucBT9rs5PjjXKHUrT7Y6DZV/P832v9mal2qz9asNi/uf7Gt9o/kTvyVoqN90YhP8ivD2M=; _pxde=8e07b07f8b1c1d5d950a0e87a21708a96b04456fe969788c88d7c52548705a1e:eyJ0aW1lc3RhbXAiOjE1OTY0NDY3NjkxMjMsImZfa2IiOjAsImlwY19pZCI6W119; lastSeen=0',\n",
    "                'User-Agent': 'Mozilla/5.0 (Windows NT 10.0; Win64; x64) AppleWebKit/537.36 (KHTML, like Gecko) Chrome/84.0.4147.105 Safari/537.36'    }\n",
    "            resp=requests.get(base_url,params=params, headers=headers)\n",
    "            soup=bs(resp.text)\n",
    "\n",
    "        #     hotellist_inner=soup.find('div',id='hotellist_inner')\n",
    "        #     hotels=hotellist_inner.find_all('div', class_='sr_item')\n",
    "            hotels = soup.find_all('div', class_='sr_item')\n",
    "\n",
    "            hotel_list=[]\n",
    "            for hotel in hotels:        \n",
    "                names=hotel.find('span',class_='sr-hotel__name')\n",
    "                name=names.text#호텔이름\n",
    "                reviews=hotel.find('div',class_='bui-review-score__badge')\n",
    "                if reviews:\n",
    "                    review=reviews.text\n",
    "                else:\n",
    "                    review= None\n",
    "                prices=hotel.find('div',class_='bui-price-display__value')\n",
    "                price=prices.text\n",
    "\n",
    "                counts=hotel.find('div',class_='bui-review-score__text')\n",
    "                if counts:\n",
    "                    count = counts.text\n",
    "                else:\n",
    "                    count = 0\n",
    "                hotel_list.append({\n",
    "                    '이름':name,\n",
    "                    '평점':review,\n",
    "                    '리뷰 개수':count,\n",
    "                    '가격':price,\n",
    "                    \"사이트\":\"부킹 닷컴\"\n",
    "                })\n",
    "            total.extend(hotel_list)\n",
    "         #데이터 잔처리,중복제거   \n",
    "        for i in total:\n",
    "            try:\n",
    "                i['이름']=i['이름'].replace(\"\\n\",\"\").strip()\n",
    "                if i['평점']!=None:\n",
    "                    i['평점']=i['평점'].strip()\n",
    "                    i['평점']=float(i['평점'])/2\n",
    "                i['가격']=i['가격'].replace(\"\\n\",\"\").strip()\n",
    "                i['가격']=i['가격'].replace(\"₩\",\"\").strip()\n",
    "                if i['리뷰 개수']!=0:\n",
    "                    i['리뷰 개수']=i['리뷰 개수'].strip()\n",
    "                    a=i['리뷰 개수'].index('개')\n",
    "                    count_str = i['리뷰 개수'][0:a]\n",
    "                    count_str = count_str.replace(',', '')\n",
    "                    i['리뷰 개수']=int(count_str)\n",
    "                i['가격']=i['가격'].replace(',','')\n",
    "                i['가격']=int(i['가격'])\n",
    "            except Exception as e:\n",
    "                print(i)\n",
    "                print('---'*10)\n",
    "                raise e\n",
    "            #print(i)\n",
    "        result_list=list({s['이름']:s for s in total}.values()) \n",
    "        return result_list\n",
    "    \n",
    "    \n",
    "    \n",
    "    \n",
    "    def to_dataframe(self):\n",
    "        df1=pd.DataFrame(self.airbnb()[0])\n",
    "        df2=pd.DataFrame(self.hotels())\n",
    "        df3=pd.DataFrame(self.yanolja())\n",
    "        df4=pd.DataFrame(self.booking())\n",
    "        \n",
    "        result=df1.append([df2,df3,df4],ignore_index=True)\n",
    "        result= result[result[\"가격\"] != \"예약 마감\"]\n",
    "        result[\"가격\"].astype(\"int\")\n",
    "        \n",
    "        \n",
    "        return result\n"
   ]
  },
  {
   "cell_type": "code",
   "execution_count": 71,
   "metadata": {},
   "outputs": [
    {
     "data": {
      "text/plain": [
       "<__main__.Hotel at 0x28691f58780>"
      ]
     },
     "execution_count": 71,
     "metadata": {},
     "output_type": "execute_result"
    }
   ],
   "source": [
    "item = Hotel('제주도', '2020-08-16', '2020-08-17', 2)\n",
    "item"
   ]
  },
  {
   "cell_type": "code",
   "execution_count": 72,
   "metadata": {
    "scrolled": false
   },
   "outputs": [],
   "source": [
    "df_item = item.to_dataframe()"
   ]
  },
  {
   "cell_type": "code",
   "execution_count": null,
   "metadata": {},
   "outputs": [],
   "source": [
    "df_item.tail(10)"
   ]
  },
  {
   "cell_type": "code",
   "execution_count": 94,
   "metadata": {
    "scrolled": true
   },
   "outputs": [
    {
     "data": {
      "text/plain": [
       "649"
      ]
     },
     "execution_count": 94,
     "metadata": {},
     "output_type": "execute_result"
    }
   ],
   "source": [
    "len(df_item)"
   ]
  },
  {
   "cell_type": "code",
   "execution_count": 109,
   "metadata": {},
   "outputs": [
    {
     "data": {
      "text/html": [
       "<div>\n",
       "<style scoped>\n",
       "    .dataframe tbody tr th:only-of-type {\n",
       "        vertical-align: middle;\n",
       "    }\n",
       "\n",
       "    .dataframe tbody tr th {\n",
       "        vertical-align: top;\n",
       "    }\n",
       "\n",
       "    .dataframe thead th {\n",
       "        text-align: right;\n",
       "    }\n",
       "</style>\n",
       "<table border=\"1\" class=\"dataframe\">\n",
       "  <thead>\n",
       "    <tr style=\"text-align: right;\">\n",
       "      <th></th>\n",
       "      <th>가격</th>\n",
       "      <th>리뷰 개수</th>\n",
       "      <th>사이트</th>\n",
       "      <th>이름</th>\n",
       "      <th>평점</th>\n",
       "    </tr>\n",
       "  </thead>\n",
       "  <tbody>\n",
       "    <tr>\n",
       "      <th>263</th>\n",
       "      <td>189992</td>\n",
       "      <td>182</td>\n",
       "      <td>야놀자</td>\n",
       "      <td>라마다 프라자 제주</td>\n",
       "      <td>4.7</td>\n",
       "    </tr>\n",
       "  </tbody>\n",
       "</table>\n",
       "</div>"
      ],
      "text/plain": [
       "         가격  리뷰 개수  사이트          이름   평점\n",
       "263  189992    182  야놀자  라마다 프라자 제주  4.7"
      ]
     },
     "execution_count": 109,
     "metadata": {},
     "output_type": "execute_result"
    }
   ],
   "source": [
    "df_item[df_item['이름'] == '라마다 프라자 제주']"
   ]
  },
  {
   "cell_type": "code",
   "execution_count": 111,
   "metadata": {},
   "outputs": [
    {
     "data": {
      "text/html": [
       "<div>\n",
       "<style scoped>\n",
       "    .dataframe tbody tr th:only-of-type {\n",
       "        vertical-align: middle;\n",
       "    }\n",
       "\n",
       "    .dataframe tbody tr th {\n",
       "        vertical-align: top;\n",
       "    }\n",
       "\n",
       "    .dataframe thead th {\n",
       "        text-align: right;\n",
       "    }\n",
       "</style>\n",
       "<table border=\"1\" class=\"dataframe\">\n",
       "  <thead>\n",
       "    <tr style=\"text-align: right;\">\n",
       "      <th></th>\n",
       "      <th>가격</th>\n",
       "      <th>리뷰 개수</th>\n",
       "      <th>사이트</th>\n",
       "      <th>이름</th>\n",
       "      <th>평점</th>\n",
       "    </tr>\n",
       "  </thead>\n",
       "  <tbody>\n",
       "    <tr>\n",
       "      <th>186</th>\n",
       "      <td>115131</td>\n",
       "      <td>1140</td>\n",
       "      <td>호텔스닷컴</td>\n",
       "      <td>라마다 플라자 제주 오션 프론트 (Ramada Plaza Jeju Ocean Front)</td>\n",
       "      <td>4.2</td>\n",
       "    </tr>\n",
       "  </tbody>\n",
       "</table>\n",
       "</div>"
      ],
      "text/plain": [
       "         가격  리뷰 개수    사이트                                                 이름  \\\n",
       "186  115131   1140  호텔스닷컴  라마다 플라자 제주 오션 프론트 (Ramada Plaza Jeju Ocean Front)   \n",
       "\n",
       "      평점  \n",
       "186  4.2  "
      ]
     },
     "execution_count": 111,
     "metadata": {},
     "output_type": "execute_result"
    }
   ],
   "source": [
    "df_item[df_item['이름'] == '라마다 플라자 제주 오션 프론트 (Ramada Plaza Jeju Ocean Front)']"
   ]
  },
  {
   "cell_type": "code",
   "execution_count": 95,
   "metadata": {},
   "outputs": [
    {
     "data": {
      "text/plain": [
       "645"
      ]
     },
     "execution_count": 95,
     "metadata": {},
     "output_type": "execute_result"
    }
   ],
   "source": [
    "len(df_item.drop_duplicates())"
   ]
  },
  {
   "cell_type": "code",
   "execution_count": null,
   "metadata": {},
   "outputs": [],
   "source": []
  },
  {
   "cell_type": "code",
   "execution_count": null,
   "metadata": {},
   "outputs": [],
   "source": []
  },
  {
   "cell_type": "code",
   "execution_count": null,
   "metadata": {
    "scrolled": true
   },
   "outputs": [],
   "source": [
    "df_item.sort_values(by=['가격'], axis=0)"
   ]
  },
  {
   "cell_type": "code",
   "execution_count": null,
   "metadata": {},
   "outputs": [],
   "source": []
  },
  {
   "cell_type": "code",
   "execution_count": null,
   "metadata": {},
   "outputs": [],
   "source": []
  },
  {
   "cell_type": "code",
   "execution_count": null,
   "metadata": {},
   "outputs": [],
   "source": []
  },
  {
   "cell_type": "code",
   "execution_count": null,
   "metadata": {},
   "outputs": [],
   "source": []
  },
  {
   "cell_type": "code",
   "execution_count": null,
   "metadata": {},
   "outputs": [],
   "source": []
  },
  {
   "cell_type": "code",
   "execution_count": null,
   "metadata": {},
   "outputs": [],
   "source": []
  },
  {
   "cell_type": "code",
   "execution_count": null,
   "metadata": {},
   "outputs": [],
   "source": []
  },
  {
   "cell_type": "markdown",
   "metadata": {},
   "source": [
    "# 시각화"
   ]
  },
  {
   "cell_type": "code",
   "execution_count": 2,
   "metadata": {},
   "outputs": [],
   "source": [
    "import numpy as np\n",
    "import matplotlib as mpl\n",
    "import matplotlib.pyplot as plt\n",
    "\n",
    "try:\n",
    "    from sklearn.datasets import load_boston\n",
    "except ImportError as e:\n",
    "    !pip3 install scikit-learn\n",
    "    from sklearn.datasets import load_boston\n",
    "finally:\n",
    "    import pandas as pd\n",
    "    \n",
    "try:\n",
    "    import seaborn as sns\n",
    "except ImportError as e:\n",
    "    !pip install seaborn\n",
    "    import seaborn as sns"
   ]
  },
  {
   "cell_type": "code",
   "execution_count": 3,
   "metadata": {},
   "outputs": [],
   "source": [
    "# 맷플롯립 한글 폰트 지정\n",
    "import platform\n",
    "from matplotlib import font_manager, rc\n",
    "\n",
    "# 한글 설정시 마이너스 부호 깨지는 것 방지\n",
    "plt.rcParams['axes.unicode_minus'] = False\n",
    "\n",
    "if platform.system() == 'Darwin':\n",
    "    # mac\n",
    "    rc('font', family='AppleGothic')\n",
    "elif platform.system() == 'Windows':\n",
    "    # windows\n",
    "    path = \"c:/Windows/Fonts/malgun.ttf\"\n",
    "    font_name = font_manager.FontProperties(fname=path).get_name()\n",
    "    rc('font', family=font_name)\n",
    "else:\n",
    "    print('Unknown system... sorry~~~~')"
   ]
  },
  {
   "cell_type": "code",
   "execution_count": null,
   "metadata": {},
   "outputs": [],
   "source": []
  },
  {
   "cell_type": "code",
   "execution_count": null,
   "metadata": {},
   "outputs": [],
   "source": []
  },
  {
   "cell_type": "code",
   "execution_count": 96,
   "metadata": {},
   "outputs": [
    {
     "data": {
      "text/plain": [
       "<__main__.Hotel at 0x286a690e160>"
      ]
     },
     "execution_count": 96,
     "metadata": {},
     "output_type": "execute_result"
    }
   ],
   "source": [
    "item = Hotel('제주도', '2020-08-16', '2020-08-17', 2)\n",
    "item"
   ]
  },
  {
   "cell_type": "code",
   "execution_count": 97,
   "metadata": {
    "scrolled": false
   },
   "outputs": [],
   "source": [
    "df_item = item.to_dataframe()"
   ]
  },
  {
   "cell_type": "code",
   "execution_count": 103,
   "metadata": {
    "scrolled": false
   },
   "outputs": [
    {
     "data": {
      "image/png": "[encoded data removed]",
      "text/plain": [
       "<Figure size 720x576 with 1 Axes>"
      ]
     },
     "metadata": {
      "needs_background": "light"
     },
     "output_type": "display_data"
    }
   ],
   "source": [
    "g = sns.catplot(x=\"사이트\", y=\"가격\", data=df_item)\n",
    "plt.title(\"사이트별 가격 비교\", size=18)\n",
    "g.fig.set_size_inches(10,8) "
   ]
  },
  {
   "cell_type": "code",
   "execution_count": 104,
   "metadata": {
    "scrolled": false
   },
   "outputs": [
    {
     "data": {
      "image/png": "[encoded data removed]",
      "text/plain": [
       "<Figure size 720x576 with 1 Axes>"
      ]
     },
     "metadata": {
      "needs_background": "light"
     },
     "output_type": "display_data"
    }
   ],
   "source": [
    "g = sns.catplot(x=\"사이트\", y=\"리뷰 개수\", data=df_item)\n",
    "plt.title(\"사이트별 리뷰 개수 비교\", size=18)\n",
    "g.fig.set_size_inches(10,8)"
   ]
  },
  {
   "cell_type": "code",
   "execution_count": 106,
   "metadata": {
    "scrolled": false
   },
   "outputs": [
    {
     "data": {
      "image/png": "[encoded data removed]",
      "text/plain": [
       "<Figure size 720x576 with 1 Axes>"
      ]
     },
     "metadata": {
      "needs_background": "light"
     },
     "output_type": "display_data"
    }
   ],
   "source": [
    "g= sns.catplot(x=\"사이트\", y=\"평점\", data=df_item)\n",
    "plt.title(\"사이트별 평점 비교\", size=18)\n",
    "plt.tight_layout()\n",
    "g.fig.set_size_inches(10,8)\n",
    "plt.show()\n",
    "#plt.ylim(0, 5) \n"
   ]
  },
  {
   "cell_type": "code",
   "execution_count": 107,
   "metadata": {
    "scrolled": false
   },
   "outputs": [
    {
     "data": {
      "image/png": "[encoded data removed]",
      "text/plain": [
       "<Figure size 720x576 with 1 Axes>"
      ]
     },
     "metadata": {
      "needs_background": "light"
     },
     "output_type": "display_data"
    }
   ],
   "source": [
    "g= sns.catplot(x=\"사이트\", y=\"평점\", data=df_item)\n",
    "plt.title(\"사이트별 평점 비교\", size=18)\n",
    "plt.tight_layout()\n",
    "plt.ylim(2.5, 5) \n",
    "g.fig.set_size_inches(10,8)\n",
    "plt.show()\n",
    "\n"
   ]
  },
  {
   "cell_type": "code",
   "execution_count": 109,
   "metadata": {},
   "outputs": [
    {
     "data": {
      "text/plain": [
       "Text(0.5, 1.0, '버블 크기 : 리뷰 개수')"
      ]
     },
     "execution_count": 109,
     "metadata": {},
     "output_type": "execute_result"
    },
    {
     "data": {
      "image/png": "[encoded data removed]",
      "text/plain": [
       "<Figure size 720x576 with 1 Axes>"
      ]
     },
     "metadata": {
      "needs_background": "light"
     },
     "output_type": "display_data"
    }
   ],
   "source": [
    "color = []\n",
    "\n",
    "for i in range(len(df_item)):\n",
    "    if df_item.iloc[i]['사이트'] == 'AirBnb':\n",
    "        color.append('b')\n",
    "    elif df_item.iloc[i]['사이트'] == '호텔스닷컴':\n",
    "        color.append('y')\n",
    "    elif df_item.iloc[i]['사이트'] == '야놀자':\n",
    "        color.append('g')\n",
    "    elif df_item.iloc[i]['사이트'] == '부킹 닷컴':\n",
    "        color.append('r')\n",
    "\n",
    " \n",
    "plt.figure(figsize=(10,8)) \n",
    "plt.scatter('평점', '가격',\n",
    "             s='리뷰 개수',\n",
    "             c=color,\n",
    "             alpha=0.3, data=df_item)\n",
    "plt.xlabel(\"평점\", size=16)\n",
    "plt.ylabel(\"가격\", size=16)\n",
    "plt.title(\"버블 크기 : 리뷰 개수\", size=18)"
   ]
  },
  {
   "cell_type": "code",
   "execution_count": 79,
   "metadata": {},
   "outputs": [],
   "source": [
    "import seaborn as sns"
   ]
  },
  {
   "cell_type": "code",
   "execution_count": 110,
   "metadata": {},
   "outputs": [
    {
     "data": {
      "text/plain": [
       "<seaborn.axisgrid.PairGrid at 0x286a4de09b0>"
      ]
     },
     "execution_count": 110,
     "metadata": {},
     "output_type": "execute_result"
    },
    {
     "data": {
      "image/png": "[encoded data removed]",
      "text/plain": [
       "<Figure size 540x540 with 12 Axes>"
      ]
     },
     "metadata": {
      "needs_background": "light"
     },
     "output_type": "display_data"
    }
   ],
   "source": [
    "sns.pairplot(df_item)"
   ]
  },
  {
   "cell_type": "code",
   "execution_count": null,
   "metadata": {},
   "outputs": [],
   "source": []
  }
 ],
 "metadata": {
  "kernelspec": {
   "display_name": "Python 3",
   "language": "python",
   "name": "python3"
  },
  "language_info": {
   "codemirror_mode": {
    "name": "ipython",
    "version": 3
   },
   "file_extension": ".py",
   "mimetype": "text/x-python",
   "name": "python",
   "nbconvert_exporter": "python",
   "pygments_lexer": "ipython3",
   "version": "3.7.7"
  }
 },
 "nbformat": 4,
 "nbformat_minor": 2
}
